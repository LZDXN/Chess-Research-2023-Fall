{
 "cells": [
  {
   "cell_type": "code",
   "execution_count": 1,
   "id": "89f04322-5519-4037-afa1-b9c8b3737c19",
   "metadata": {},
   "outputs": [
    {
     "name": "stderr",
     "output_type": "stream",
     "text": [
      "\u001b[32m\u001b[1m   Resolving\u001b[22m\u001b[39m package versions...\n",
      "\u001b[32m\u001b[1m  No Changes\u001b[22m\u001b[39m to `~/.julia/environments/v1.9/Project.toml`\n",
      "\u001b[32m\u001b[1m  No Changes\u001b[22m\u001b[39m to `~/.julia/environments/v1.9/Manifest.toml`\n",
      "\u001b[32m\u001b[1m   Resolving\u001b[22m\u001b[39m package versions...\n",
      "\u001b[32m\u001b[1m  No Changes\u001b[22m\u001b[39m to `~/.julia/environments/v1.9/Project.toml`\n",
      "\u001b[32m\u001b[1m  No Changes\u001b[22m\u001b[39m to `~/.julia/environments/v1.9/Manifest.toml`\n",
      "\u001b[32m\u001b[1m   Resolving\u001b[22m\u001b[39m package versions...\n",
      "\u001b[32m\u001b[1m  No Changes\u001b[22m\u001b[39m to `~/.julia/environments/v1.9/Project.toml`\n",
      "\u001b[32m\u001b[1m  No Changes\u001b[22m\u001b[39m to `~/.julia/environments/v1.9/Manifest.toml`\n",
      "\u001b[32m\u001b[1m    Building\u001b[22m\u001b[39m Conda ─→ `~/.julia/scratchspaces/44cfe95a-1eb2-52ea-b672-e2afdf69b78f/8c86e48c0db1564a1d49548d3515ced5d604c408/build.log`\n",
      "\u001b[32m\u001b[1m    Building\u001b[22m\u001b[39m PyCall → `~/.julia/scratchspaces/44cfe95a-1eb2-52ea-b672-e2afdf69b78f/43d304ac6f0354755f1d60730ece8c499980f7ba/build.log`\n",
      "\u001b[32m\u001b[1m    Building\u001b[22m\u001b[39m Conda ─→ `~/.julia/scratchspaces/44cfe95a-1eb2-52ea-b672-e2afdf69b78f/8c86e48c0db1564a1d49548d3515ced5d604c408/build.log`\n",
      "\u001b[32m\u001b[1m    Building\u001b[22m\u001b[39m PyCall → `~/.julia/scratchspaces/44cfe95a-1eb2-52ea-b672-e2afdf69b78f/43d304ac6f0354755f1d60730ece8c499980f7ba/build.log`\n"
     ]
    }
   ],
   "source": [
    "# download and compile Pycall and Pandas to use python\n",
    "import Pkg\n",
    "Pkg.add(\"PyCall\")\n",
    "Pkg.add(\"Pandas\")\n",
    "Pkg.add(\"DataStructures\")\n",
    "Pkg.add(\"ProgressMeter\")\n",
    "\n",
    "Pkg.build(\"PyCall\")\n",
    "Pkg.build(\"Pandas\")\n",
    "Pkg.build(\"DataStructures\")\n",
    "Pkg.build(\"ProgressMeter\")\n",
    "\n"
   ]
  },
  {
   "cell_type": "markdown",
   "id": "12cf5cb4-76aa-4bca-b76e-b1d94176271c",
   "metadata": {},
   "source": [
    "# Imports"
   ]
  },
  {
   "cell_type": "code",
   "execution_count": 2,
   "id": "e84c04bc-3b04-4e9e-9777-6febe91e5f3f",
   "metadata": {},
   "outputs": [
    {
     "data": {
      "text/plain": [
       "PyObject <module 'chess.pgn' from '/home/ubuntu/.local/lib/python3.10/site-packages/chess/pgn.py'>"
      ]
     },
     "execution_count": 2,
     "metadata": {},
     "output_type": "execute_result"
    }
   ],
   "source": [
    "# import julia libraries\n",
    "using PyCall\n",
    "using Random\n",
    "using ProgressMeter\n",
    "using DataStructures\n",
    "# using Pandas\n",
    "\n",
    "# import python libraries\n",
    "# np = pyimport(\"numpy\")\n",
    "\n",
    "# if \"invalid redefinition of constant chess\" error pops out\n",
    "# try to clear cache and restart the session\n",
    "@pyimport chess\n",
    "cp = pyimport(\"chess.pgn\")"
   ]
  },
  {
   "cell_type": "markdown",
   "id": "16e1473d-6338-44e4-af91-0962d188b9de",
   "metadata": {},
   "source": [
    "# Explaining the Chess Game Analysis Pipeline\n",
    "\n",
    "The Chess Game Analysis Pipeline is designed to process and analyze chess games from a PGN (Portable Game Notation) file. This pipeline is particularly tailored for filtering and categorizing games based on specific criteria such as time control and player ELO ratings. Below is an overview of its components and functionalities.\n",
    "\n",
    "## Overview\n",
    "\n",
    "The pipeline is structured around a `Pipeline` struct in Julia, which is used to manage the processing of chess games. It includes various functions for counting games, reading specific games, generating random game indices, and more.\n",
    "\n",
    "## Global Variables\n",
    "\n",
    "- `filename`: The path to the PGN file containing the chess games.\n",
    "- `seed`: A seed value for controlling randomness in the pipeline, ensuring reproducible results.\n",
    "\n",
    "## The `Pipeline` Struct\n",
    "\n",
    "The `Pipeline` struct is the core of the pipeline, containing fields and methods necessary for processing the chess games.\n",
    "\n",
    "### Fields\n",
    "\n",
    "- `filename`: Path to the PGN file.\n",
    "- `seed`: Seed for random number generation, ensuring consistency.\n",
    "- `games_per_cell`: The target number of games for each category in the analysis matrix.\n",
    "- `matrix`: A 3x3 matrix, each cell containing an array of integers representing game indices.\n",
    "- `total_games`: Total number of games in the file.\n",
    "\n",
    "### Methods\n",
    "\n",
    "- `count_games_in_file`: Counts the total number of games in the PGN file.\n",
    "- `read_nth_game`: Reads the nth game from the file.\n",
    "- `randoming`: Generates a random number within the range of total games in the file.\n",
    "- `write_file`: Writes game data to a file, either creating a new file or appending to an existing one.\n",
    "- `check_criteria`: Checks whether a game meets the specified criteria based on time controls and player ELO ranges.\n",
    "\n",
    "## Processing Procedure\n",
    "\n",
    "1. **Initialization**: A `Pipeline` instance is created with the specified filename and seed.\n",
    "2. **Counting Games**: The total number of games in the file is counted.\n",
    "3. **Game Selection**: Games are randomly selected and checked against specified criteria.\n",
    "4. **Criteria Checking**: Each game is evaluated to determine if it fits the desired time control and ELO range categories.\n",
    "5. **Data Storage**: Valid games are stored in the matrix, categorized based on the analysis goals.\n"
   ]
  },
  {
   "cell_type": "code",
   "execution_count": 3,
   "id": "338e400d-3022-4b64-a35d-bb9065eee486",
   "metadata": {},
   "outputs": [],
   "source": [
    "# define a pipeline struct\n",
    "struct Pipeline\n",
    "    filename::String # filename of the total large file\n",
    "    export_path::String # the folder of the exporting files\n",
    "\n",
    "    seed::Int # seed for the randomness control\n",
    "    total_games::Int # total number of games in the file\n",
    "\n",
    "    # criteria::Array # criteria condition to filter the game\n",
    "\n",
    "    # matrix::Array{Array{Int,1},2} # the 2D table with an array per each cell\n",
    "    games_per_cell::Int # number of games in each cell in the table\n",
    "    \n",
    "    function Pipeline(filename::String, export_path::String, seed::Int, total_games::Int, games_per_cell::Int)\n",
    "        Random.seed!(seed)\n",
    "        new(filename, export_path, seed, total_games, games_per_cell)\n",
    "    end\n",
    "end\n"
   ]
  },
  {
   "cell_type": "markdown",
   "id": "2792eec6-b536-4028-8932-a2994ffbfe74",
   "metadata": {},
   "source": [
    "## File and group of games operation"
   ]
  },
  {
   "cell_type": "code",
   "execution_count": 4,
   "id": "b8f41b3f-3e98-4d46-9e6c-a1da8138d2d9",
   "metadata": {},
   "outputs": [
    {
     "data": {
      "text/plain": [
       "read_nth_game (generic function with 1 method)"
      ]
     },
     "execution_count": 4,
     "metadata": {},
     "output_type": "execute_result"
    }
   ],
   "source": [
    "function read_nth_game(pipeline::Pipeline, n::Int)\n",
    "    pgn = open(pipeline.filename)\n",
    "    game = nothing\n",
    "    for i in 1:n\n",
    "        game = cp.read_game(pgn)\n",
    "        if game === nothing\n",
    "            break\n",
    "        end\n",
    "    end\n",
    "    close(pgn)\n",
    "    return game\n",
    "end"
   ]
  },
  {
   "cell_type": "code",
   "execution_count": 5,
   "id": "607b0352-5573-451a-a25f-168a916e24e1",
   "metadata": {},
   "outputs": [
    {
     "data": {
      "text/plain": [
       "write_file (generic function with 1 method)"
      ]
     },
     "execution_count": 5,
     "metadata": {},
     "output_type": "execute_result"
    }
   ],
   "source": [
    "function write_file(filename::String, game)\n",
    "    \n",
    "    # Check if the file exists\n",
    "    file_mode = isfile(filename) ? \"a\" : \"w\"\n",
    "\n",
    "    # Open the file with appropriate mode\n",
    "    open(filename, file_mode) do new_pgn\n",
    "        # Create an exporter instance\n",
    "        exporter = cp.FileExporter(new_pgn)\n",
    "        \n",
    "        # Use the game.accept method to write the game to the file\n",
    "        game.accept(exporter)\n",
    "    end\n",
    "end\n"
   ]
  },
  {
   "cell_type": "code",
   "execution_count": 6,
   "id": "74644e9a-2e80-42e1-b5fb-cb63ba60cc0a",
   "metadata": {},
   "outputs": [
    {
     "data": {
      "text/plain": [
       "randoming (generic function with 1 method)"
      ]
     },
     "execution_count": 6,
     "metadata": {},
     "output_type": "execute_result"
    }
   ],
   "source": [
    "function randoming(pipeline::Pipeline, n::Int)\n",
    "    Random.seed!(pipeline.seed)\n",
    "    rand(1:pipeline.total_games, n-1)\n",
    "    return rand(1:pipeline.total_games)\n",
    "end"
   ]
  },
  {
   "cell_type": "markdown",
   "id": "7282744e-fac4-42e6-8d52-fa5d7bde0f20",
   "metadata": {},
   "source": [
    "## Single game operation"
   ]
  },
  {
   "cell_type": "code",
   "execution_count": 7,
   "id": "9ef424ac-5b36-4e8d-b888-c56295ccfc28",
   "metadata": {},
   "outputs": [
    {
     "data": {
      "text/plain": [
       "time_and_elo (generic function with 1 method)"
      ]
     },
     "execution_count": 7,
     "metadata": {},
     "output_type": "execute_result"
    }
   ],
   "source": [
    "function time_and_elo(headers)\n",
    "    time_control = get(headers, \"TimeControl\")\n",
    "    WhiteElo = parse(Int64, get(headers, \"WhiteElo\"))\n",
    "    BlackElo = parse(Int64, get(headers, \"BlackElo\"))\n",
    "\n",
    "    return time_control, WhiteElo, BlackElo\n",
    "end"
   ]
  },
  {
   "cell_type": "code",
   "execution_count": 8,
   "id": "0e25e629-8358-45b7-8860-5259a6b59864",
   "metadata": {},
   "outputs": [
    {
     "data": {
      "text/plain": [
       "check_criteria (generic function with 1 method)"
      ]
     },
     "execution_count": 8,
     "metadata": {},
     "output_type": "execute_result"
    }
   ],
   "source": [
    "function check_criteria(game)\n",
    "    # criteria (will set as parameter in future)\n",
    "    valid_time = [\"180+0\", \"600+0\", \"1800+0\"]\n",
    "    elo_ranges = [(1250, 1350), (1750, 1850), (2150, Inf)]\n",
    "\n",
    "    # time groups:\n",
    "    # 0 - Invalid time group\n",
    "    # 1 - Blitz: 180+0 seconds (3 minutes)\n",
    "    # 2 - Rapid: 600+0 seconds (10 minutes)\n",
    "    # 3 - Classical: 1800+0 seconds (30 minutes)\n",
    "\n",
    "    time_group = 0\n",
    "\n",
    "    # valid elo groups:\n",
    "    # 0 - Invalid time group\n",
    "    # 1 - Beginners: 1250-1350\n",
    "    # 2 - Intermediate: 1750-1850\n",
    "    # 3 - Expert: Above 2150\n",
    "\n",
    "    elo_group = 0\n",
    "\n",
    "    # get data from the game header\n",
    "    time_control, player1_elo, player2_elo = time_and_elo(game.headers)\n",
    "\n",
    "    for time in 1:length(valid_time)\n",
    "        if (cmp(valid_time[time], time_control) == 0)\n",
    "            time_group = time\n",
    "        end\n",
    "    end\n",
    "\n",
    "    for elo in 1:length(elo_ranges)\n",
    "        if ((elo_ranges[elo][1] < player1_elo) && (player1_elo < elo_ranges[elo][2]) && (elo_ranges[elo][1] < player2_elo) && (player2_elo < elo_ranges[elo][2]))\n",
    "            elo_group = elo\n",
    "        end\n",
    "    end\n",
    "\n",
    "    return time_group, elo_group\n",
    "end"
   ]
  },
  {
   "cell_type": "code",
   "execution_count": 9,
   "id": "29ab2dcb-13f2-4480-b068-8fa7826cf26f",
   "metadata": {},
   "outputs": [
    {
     "data": {
      "text/plain": [
       "determine_tree_index (generic function with 1 method)"
      ]
     },
     "execution_count": 9,
     "metadata": {},
     "output_type": "execute_result"
    }
   ],
   "source": [
    "function determine_tree_index(criteria_result)\n",
    "    time_group, elo_group = criteria_result\n",
    "    if time_group == 0 || elo_group == 0\n",
    "        return 0  # Indicate an invalid index\n",
    "    end\n",
    "    return (time_group - 1) * 3 + elo_group\n",
    "end"
   ]
  },
  {
   "cell_type": "code",
   "execution_count": 10,
   "id": "4e0af798-7418-40e3-a61a-b7deb68c967c",
   "metadata": {},
   "outputs": [
    {
     "data": {
      "text/plain": [
       "get_file_name_components (generic function with 1 method)"
      ]
     },
     "execution_count": 10,
     "metadata": {},
     "output_type": "execute_result"
    }
   ],
   "source": [
    "function get_file_name_components(criteria_result)\n",
    "    time_group, elo_group = criteria_result\n",
    "\n",
    "    # Mapping time groups to their string representations\n",
    "    time_control = if time_group == 1\n",
    "        \"blitz\"\n",
    "    elseif time_group == 2\n",
    "        \"rapid\"\n",
    "    elseif time_group == 3\n",
    "        \"classical\"\n",
    "    end\n",
    "\n",
    "    # Mapping ELO groups to their string representations\n",
    "    elo_range = if elo_group == 1\n",
    "        \"beginner\"\n",
    "    elseif elo_group == 2\n",
    "        \"intermediate\"\n",
    "    elseif elo_group == 3\n",
    "        \"expert\"\n",
    "    end\n",
    "\n",
    "    return time_control, elo_range\n",
    "end\n"
   ]
  },
  {
   "cell_type": "code",
   "execution_count": 72,
   "id": "971f1f8c-90b3-4111-859c-92062c652601",
   "metadata": {},
   "outputs": [
    {
     "data": {
      "text/plain": [
       "display_progress (generic function with 2 methods)"
      ]
     },
     "execution_count": 72,
     "metadata": {},
     "output_type": "execute_result"
    }
   ],
   "source": [
    "function display_progress(trees, descriptions, tree_index, pipeline)\n",
    "    progress = length(trees[tree_index]) / pipeline.games_per_cell\n",
    "    progress_percent = round(progress * 100)\n",
    "\n",
    "end\n"
   ]
  },
  {
   "cell_type": "code",
   "execution_count": 81,
   "id": "64479a54-f677-428c-ad26-774bd130c9be",
   "metadata": {},
   "outputs": [
    {
     "data": {
      "text/plain": [
       "main (generic function with 1 method)"
      ]
     },
     "execution_count": 81,
     "metadata": {},
     "output_type": "execute_result"
    }
   ],
   "source": [
    "function main(pipeline::Pipeline)\n",
    "    # Initialize sorted trees for each condition\n",
    "    trees = Vector{AVLTree{Int}}(undef, 9)\n",
    "    for i in 1:9\n",
    "        trees[i] = AVLTree{Int}()\n",
    "    end\n",
    "\n",
    "    # # Generate descriptions dynamically\n",
    "    # descriptions = String[]\n",
    "    # for time_group in 1:3\n",
    "    #     for elo_group in 1:3\n",
    "    #         time_control, elo_range = get_file_name_components((time_group, elo_group))\n",
    "    #         push!(descriptions, \"$(time_control)_$(elo_range)\")\n",
    "    #     end\n",
    "    # end\n",
    "\n",
    "    n = 1\n",
    "\n",
    "    while true\n",
    "        # Generate a random game index\n",
    "        game_index = randoming(pipeline, n)\n",
    "        game = read_nth_game(pipeline, game_index)\n",
    "\n",
    "        # Check game criteria\n",
    "        criteria_result = check_criteria(game)\n",
    "\n",
    "        # Skip if any criteria result element is 0\n",
    "        if any(x -> x == 0, criteria_result)\n",
    "            n += 1\n",
    "            continue\n",
    "        end\n",
    "\n",
    "        # Determine the tree index based on criteria_result\n",
    "        tree_index = determine_tree_index(criteria_result)\n",
    "\n",
    "        # Check if the tree has reached its limit\n",
    "        if length(trees[tree_index]) >= pipeline.games_per_cell\n",
    "            n += 1\n",
    "            continue\n",
    "        end\n",
    "\n",
    "        # Add game index to the tree\n",
    "        insert!(trees[tree_index], game_index)\n",
    "\n",
    "        # Determine file name\n",
    "        time_control, elo_range = get_file_name_components(criteria_result)\n",
    "        filename = \"$(time_control)_$(elo_range)_$(pipeline.games_per_cell).pgn\"\n",
    "\n",
    "        # Write game to file\n",
    "        write_file(joinpath(pipeline.export_path, filename), game)\n",
    "\n",
    "        # Optionally, add a condition to break the loop if all trees are full\n",
    "        if all(t -> length(t) >= pipeline.games_per_cell, trees)\n",
    "            break\n",
    "        end\n",
    "\n",
    "        n += 1\n",
    "    end\n",
    "end\n"
   ]
  },
  {
   "cell_type": "markdown",
   "id": "caeba2c1-d163-4a04-9991-aa4049bf8d45",
   "metadata": {},
   "source": [
    "# Define variables"
   ]
  },
  {
   "cell_type": "code",
   "execution_count": 79,
   "id": "feb1aa52-85bf-4538-acc6-387ee28527a4",
   "metadata": {},
   "outputs": [
    {
     "data": {
      "text/plain": [
       "Pipeline(\"./data/lichess_db_standard_rated_2023-09.pgn\", \"./data/exported/\", 2023, 1000, 1)"
      ]
     },
     "execution_count": 79,
     "metadata": {},
     "output_type": "execute_result"
    }
   ],
   "source": [
    "# file name of the original decompressed file\n",
    "filename = \"./data/lichess_db_standard_rated_2023-09.pgn\"\n",
    "\n",
    "# the seed for the randomness control in this project\n",
    "seed = 2023\n",
    "\n",
    "# export path\n",
    "export_path = \"./data/exported/\"\n",
    "\n",
    "# pipeline struct\n",
    "# pipeline = Pipeline(filename, export_path, seed, 93218629, 1) # (filename, seed, total_games, games_per_cell)\n",
    "pipeline = Pipeline(filename, export_path, seed, 1000, 1) # (filename, seed, total_games, games_per_cell)"
   ]
  },
  {
   "cell_type": "markdown",
   "id": "cdcf79cd-a3f6-4924-aa93-744efc82eec3",
   "metadata": {},
   "source": [
    "1~93218629 choose 100,000 sorted in order then all the way through the list and then stop\n",
    "check if cells are full\n",
    "if full, close so don't fill them in in next round\n",
    "repeat the process, until all cells are closed (leave cells over-filled)\n",
    "\n",
    "\n",
    "after all cells are closed\n",
    "<!-- then random select certain amount of the games  in cell? -->\n",
    "leave cells over-filled\n",
    "\n",
    "\n",
    "random draw without replacement"
   ]
  },
  {
   "cell_type": "code",
   "execution_count": 80,
   "id": "27bfc204-c880-4d17-92d7-ab1f11521aa1",
   "metadata": {},
   "outputs": [
    {
     "name": "stdout",
     "output_type": "stream",
     "text": [
      "\u001b[K26 th game processing, game index 113, criteria result = (1, 2)Progress for blitz_intermediate: 100.0%\n",
      "\u001b[K39 th game processing, game index 151, criteria result = (2, 1)Progress for rapid_beginner: 100.0%\n",
      "\u001b[K127 th game processing, game index 121, criteria result = (1, 3)Progress for blitz_expert: 100.0%\n",
      "\u001b[K154 th game processing, game index 930, criteria result = (1, 1)Progress for blitz_beginner: 100.0%\n",
      "\u001b[K314 th game processing, game index 618, criteria result = (2, 2)Progress for rapid_intermediate: 100.0%\n",
      "\u001b[K1233 th game processing, game index 910, criteria result = (1, 2)"
     ]
    },
    {
     "ename": "LoadError",
     "evalue": "InterruptException:",
     "output_type": "error",
     "traceback": [
      "InterruptException:",
      "",
      "Stacktrace:",
      "  [1] sigatomic_end",
      "    @ ./c.jl:452 [inlined]",
      "  [2] disable_sigint",
      "    @ ./c.jl:475 [inlined]",
      "  [3] __pycall!",
      "    @ ~/.julia/packages/PyCall/ilqDX/src/pyfncall.jl:42 [inlined]",
      "  [4] _pycall!(ret::PyObject, o::PyObject, args::Tuple{IOStream}, nargs::Int64, kw::Ptr{Nothing})",
      "    @ PyCall ~/.julia/packages/PyCall/ilqDX/src/pyfncall.jl:29",
      "  [5] _pycall!(ret::PyObject, o::PyObject, args::Tuple{IOStream}, kwargs::Base.Pairs{Symbol, Union{}, Tuple{}, NamedTuple{(), Tuple{}}})",
      "    @ PyCall ~/.julia/packages/PyCall/ilqDX/src/pyfncall.jl:11",
      "  [6] (::PyObject)(args::IOStream; kwargs::Base.Pairs{Symbol, Union{}, Tuple{}, NamedTuple{(), Tuple{}}})",
      "    @ PyCall ~/.julia/packages/PyCall/ilqDX/src/pyfncall.jl:86",
      "  [7] (::PyObject)(args::IOStream)",
      "    @ PyCall ~/.julia/packages/PyCall/ilqDX/src/pyfncall.jl:86",
      "  [8] read_nth_game(pipeline::Pipeline, n::Int64)",
      "    @ Main ./In[4]:5",
      "  [9] main(pipeline::Pipeline)",
      "    @ Main ./In[78]:22",
      " [10] top-level scope",
      "    @ In[80]:1"
     ]
    }
   ],
   "source": [
    "main(pipeline)"
   ]
  },
  {
   "cell_type": "markdown",
   "id": "3b8b6678-0761-44ea-9811-dabe651a0c5a",
   "metadata": {},
   "source": [
    "# Test code"
   ]
  },
  {
   "cell_type": "code",
   "execution_count": null,
   "id": "139084c8-c959-4180-802c-40ab5927e32e",
   "metadata": {},
   "outputs": [],
   "source": [
    "# tenth_game = read_nth_game(pipeline, 10)\n",
    "# get(tenth_game.headers, \"TimeControl\")\n",
    "# print(tenth_game.headers)\n"
   ]
  },
  {
   "cell_type": "code",
   "execution_count": null,
   "id": "304adeae-9fac-4260-b4b5-00a7ae2d9928",
   "metadata": {},
   "outputs": [],
   "source": [
    "# test_filename = \"test.pgn\"\n",
    "\n",
    "# write_file(joinpath(export_path, test_filename), tenth_game)"
   ]
  },
  {
   "cell_type": "code",
   "execution_count": null,
   "id": "05e75a5f-fb0a-4c15-8ce3-71a4308ad033",
   "metadata": {},
   "outputs": [],
   "source": [
    "# # file name of the original decompressed file\n",
    "\n",
    "# test = \"./data/exported/test.pgn\"\n",
    "\n",
    "# # the seed for the randomness control in this project\n",
    "# seed = 2023\n",
    "\n",
    "# # pipeline struct\n",
    "# test_pipeline = Pipeline(test, seed, 33, 300)\n"
   ]
  },
  {
   "cell_type": "code",
   "execution_count": null,
   "id": "47be3f8a-4b80-44bc-901e-a5db044eac8d",
   "metadata": {},
   "outputs": [],
   "source": [
    "# for i in 1:10\n",
    "#     game = read_nth_game(pipeline, i)\n",
    "#     println(time_and_elo(game.headers))\n",
    "#     println(check_criteria(game))\n",
    "# end\n"
   ]
  },
  {
   "cell_type": "code",
   "execution_count": null,
   "id": "f0187d10-d0b1-42a0-a95f-559bbeccf4f9",
   "metadata": {},
   "outputs": [],
   "source": [
    "# tenth_game = read_nth_game(pipeline, 10)\n",
    "# time_control = get(tenth_game.headers, \"TimeControl\")\n",
    "# WhiteElo = get(tenth_game.headers, \"WhiteElo\")\n",
    "# BlackElo = get(tenth_game.headers, \"BlackElo\")\n",
    "# # println(time_control)\n",
    "# # println(cmp(time_control, \"180+0\"))\n",
    "# println(WhiteElo)\n",
    "# println(typeof(parse(Int, BlackElo)))"
   ]
  }
 ],
 "metadata": {
  "kernelspec": {
   "display_name": "Julia 1.9.3",
   "language": "julia",
   "name": "julia-1.9"
  },
  "language_info": {
   "file_extension": ".jl",
   "mimetype": "application/julia",
   "name": "julia",
   "version": "1.9.3"
  }
 },
 "nbformat": 4,
 "nbformat_minor": 5
}
