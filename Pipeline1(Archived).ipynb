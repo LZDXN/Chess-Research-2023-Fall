{
 "cells": [
  {
   "cell_type": "markdown",
   "id": "16e1473d-6338-44e4-af91-0962d188b9de",
   "metadata": {},
   "source": [
    "# Explaining the Chess Game Analysis Pipeline\n",
    "\n",
    "The Chess Game Analysis Pipeline is designed to process and analyze chess games from a PGN (Portable Game Notation) file. This pipeline is particularly tailored for filtering and categorizing games based on specific criteria such as time control and player ELO ratings. Below is an overview of its components and functionalities.\n",
    "\n",
    "## Overview\n",
    "\n",
    "The pipeline is structured around a `Pipeline` struct in Julia, which is used to manage the processing of chess games. It includes various functions for counting games, reading specific games, generating random game indices, and more.\n",
    "\n",
    "## Global Variables\n",
    "\n",
    "- `filename`: The path to the PGN file containing the chess games.\n",
    "- `seed`: A seed value for controlling randomness in the pipeline, ensuring reproducible results.\n",
    "\n",
    "## The `Pipeline` Struct\n",
    "\n",
    "The `Pipeline` struct is the core of the pipeline, containing fields and methods necessary for processing the chess games.\n",
    "\n",
    "### Fields\n",
    "\n",
    "- `filename`: Path to the PGN file.\n",
    "- `seed`: Seed for random number generation, ensuring consistency.\n",
    "- `games_per_cell`: The target number of games for each category in the analysis matrix.\n",
    "- `matrix`: A 3x3 matrix, each cell containing an array of integers representing game indices.\n",
    "- `total_games`: Total number of games in the file.\n",
    "\n",
    "### Methods\n",
    "\n",
    "- `count_games_in_file`: Counts the total number of games in the PGN file.\n",
    "- `read_nth_game`: Reads the nth game from the file.\n",
    "- `random_arr`: Generates a random number within the range of total games in the file.\n",
    "- `write_file`: Writes game data to a file, either creating a new file or appending to an existing one.\n",
    "- `check_criteria`: Checks whether a game meets the specified criteria based on time controls and player ELO ranges.\n",
    "\n",
    "## Processing Procedure\n",
    "\n",
    "1. **Initialization**: A `Pipeline` instance is created with the specified filename and seed.\n",
    "2. **Counting Games**: The total number of games in the file is counted.\n",
    "3. **Game Selection**: Games are randomly selected and checked against specified criteria.\n",
    "4. **Criteria Checking**: Each game is evaluated to determine if it fits the desired time control and ELO range categories.\n",
    "5. **Data Storage**: Valid games are stored in the matrix, categorized based on the analysis goals.\n"
   ]
  },
  {
   "cell_type": "markdown",
   "id": "12cf5cb4-76aa-4bca-b76e-b1d94176271c",
   "metadata": {},
   "source": [
    "# Imports"
   ]
  },
  {
   "cell_type": "code",
   "execution_count": 2,
   "id": "e84c04bc-3b04-4e9e-9777-6febe91e5f3f",
   "metadata": {},
   "outputs": [
    {
     "data": {
      "text/plain": [
       "PyObject <module 'chess.pgn' from '/home/ubuntu/.local/lib/python3.10/site-packages/chess/pgn.py'>"
      ]
     },
     "execution_count": 2,
     "metadata": {},
     "output_type": "execute_result"
    }
   ],
   "source": [
    "# import julia libraries\n",
    "using PyCall\n",
    "using Random\n",
    "using ProgressMeter\n",
    "# using DataStructures\n",
    "# using Pandas\n",
    "\n",
    "# import python libraries\n",
    "# np = pyimport(\"numpy\")\n",
    "\n",
    "# if \"invalid redefinition of constant chess\" error pops out\n",
    "# try to clear cache and restart the session\n",
    "@pyimport chess\n",
    "cp = pyimport(\"chess.pgn\")"
   ]
  },
  {
   "cell_type": "code",
   "execution_count": 3,
   "id": "338e400d-3022-4b64-a35d-bb9065eee486",
   "metadata": {},
   "outputs": [],
   "source": [
    "struct Pipeline\n",
    "    filename::String        # Filename of the total large file\n",
    "    export_path::String     # The folder of the exporting files\n",
    "    seed::Int               # Seed for the randomness control\n",
    "    total_games::Int        # Total number of games in the file\n",
    "    games_per_cell::Int     # Number of games in each cell in the table\n",
    "    round_draw_numbers::Int # Number of random indices to draw each round\n",
    "    cells::Matrix{Int}      # 2D matrix to track the number of games in each cell\n",
    "\n",
    "    function Pipeline(filename::String, export_path::String, seed::Int, total_games::Int, games_per_cell::Int, round_draw_numbers::Int)\n",
    "        new(filename, export_path, seed, total_games, games_per_cell, round_draw_numbers, fill(0, 3, 3))\n",
    "    end\n",
    "end\n"
   ]
  },
  {
   "cell_type": "markdown",
   "id": "2792eec6-b536-4028-8932-a2994ffbfe74",
   "metadata": {},
   "source": [
    "## File and group of games operation"
   ]
  },
  {
   "cell_type": "code",
   "execution_count": 4,
   "id": "74644e9a-2e80-42e1-b5fb-cb63ba60cc0a",
   "metadata": {},
   "outputs": [
    {
     "data": {
      "text/plain": [
       "random_arr (generic function with 1 method)"
      ]
     },
     "execution_count": 4,
     "metadata": {},
     "output_type": "execute_result"
    }
   ],
   "source": [
    "function random_arr(pipeline::Pipeline, start_nth::Int, n::Int)::Vector{Int32}\n",
    "    # 1-indexed\n",
    "    Random.seed!(pipeline.seed)\n",
    "    rand(1:pipeline.total_games, start_nth - 1)\n",
    "    return rand(1:pipeline.total_games, n)\n",
    "end"
   ]
  },
  {
   "cell_type": "code",
   "execution_count": 5,
   "id": "607b0352-5573-451a-a25f-168a916e24e1",
   "metadata": {},
   "outputs": [
    {
     "data": {
      "text/plain": [
       "write_file (generic function with 1 method)"
      ]
     },
     "execution_count": 5,
     "metadata": {},
     "output_type": "execute_result"
    }
   ],
   "source": [
    "function write_file(filename::String, game)\n",
    "    \n",
    "    # Check if the file exists\n",
    "    file_mode = isfile(filename) ? \"a\" : \"w\"\n",
    "\n",
    "    # Open the file with appropriate mode\n",
    "    open(filename, file_mode) do new_pgn\n",
    "        # Create an exporter instance\n",
    "        exporter = cp.FileExporter(new_pgn)\n",
    "        \n",
    "        # Use the game.accept method to write the game to the file\n",
    "        game.accept(exporter)\n",
    "    end\n",
    "end\n"
   ]
  },
  {
   "cell_type": "markdown",
   "id": "7282744e-fac4-42e6-8d52-fa5d7bde0f20",
   "metadata": {},
   "source": [
    "## Single game operation"
   ]
  },
  {
   "cell_type": "code",
   "execution_count": 5,
   "id": "615e8518-d7bb-46c6-a749-63b73dbae555",
   "metadata": {},
   "outputs": [
    {
     "data": {
      "text/plain": [
       "time_and_elo (generic function with 1 method)"
      ]
     },
     "execution_count": 5,
     "metadata": {},
     "output_type": "execute_result"
    }
   ],
   "source": [
    "# helper method of check_criteria()\n",
    "function time_and_elo(headers)\n",
    "    time_control = get(headers, \"TimeControl\")\n",
    "    WhiteElo = parse(Int64, get(headers, \"WhiteElo\"))\n",
    "    BlackElo = parse(Int64, get(headers, \"BlackElo\"))\n",
    "\n",
    "    return time_control, WhiteElo, BlackElo\n",
    "end"
   ]
  },
  {
   "cell_type": "code",
   "execution_count": 6,
   "id": "0e25e629-8358-45b7-8860-5259a6b59864",
   "metadata": {},
   "outputs": [
    {
     "data": {
      "text/plain": [
       "check_criteria (generic function with 1 method)"
      ]
     },
     "execution_count": 6,
     "metadata": {},
     "output_type": "execute_result"
    }
   ],
   "source": [
    "function check_criteria(game)\n",
    "    # criteria (will set as parameter in future)\n",
    "    valid_time = [\"180+0\", \"600+0\", \"1800+0\"]\n",
    "    elo_ranges = [(1250, 1350), (1750, 1850), (2150, Inf)]\n",
    "\n",
    "    # time groups:\n",
    "    # 0 - Invalid time group\n",
    "    # 1 - Blitz: 180+0 seconds (3 minutes)\n",
    "    # 2 - Rapid: 600+0 seconds (10 minutes)\n",
    "    # 3 - Classical: 1800+0 seconds (30 minutes)\n",
    "\n",
    "    time_group = 0\n",
    "\n",
    "    # valid elo groups:\n",
    "    # 0 - Invalid time group\n",
    "    # 1 - Beginners: 1250-1350\n",
    "    # 2 - Intermediate: 1750-1850\n",
    "    # 3 - Expert: Above 2150\n",
    "\n",
    "    elo_group = 0\n",
    "\n",
    "    # get data from the game header\n",
    "    time_control, player1_elo, player2_elo = time_and_elo(game.headers)\n",
    "\n",
    "    for time in 1:length(valid_time)\n",
    "        if (cmp(valid_time[time], time_control) == 0)\n",
    "            time_group = time\n",
    "        end\n",
    "    end\n",
    "\n",
    "    for elo in 1:length(elo_ranges)\n",
    "        if ((elo_ranges[elo][1] < player1_elo) && (player1_elo < elo_ranges[elo][2]) && (elo_ranges[elo][1] < player2_elo) && (player2_elo < elo_ranges[elo][2]))\n",
    "            elo_group = elo\n",
    "        end\n",
    "    end\n",
    "\n",
    "    return time_group, elo_group\n",
    "end"
   ]
  },
  {
   "cell_type": "code",
   "execution_count": 7,
   "id": "4e0af798-7418-40e3-a61a-b7deb68c967c",
   "metadata": {},
   "outputs": [
    {
     "data": {
      "text/plain": [
       "game_cell_filename (generic function with 1 method)"
      ]
     },
     "execution_count": 7,
     "metadata": {},
     "output_type": "execute_result"
    }
   ],
   "source": [
    "function game_cell_filename(criteria_result)::String\n",
    "    time_group, elo_group = criteria_result\n",
    "\n",
    "    # Mapping time groups to their string representations\n",
    "    time_control = if time_group == 1\n",
    "        \"blitz\"\n",
    "    elseif time_group == 2\n",
    "        \"rapid\"\n",
    "    elseif time_group == 3\n",
    "        \"classical\"\n",
    "    end\n",
    "\n",
    "    # Mapping ELO groups to their string representations\n",
    "    elo_range = if elo_group == 1\n",
    "        \"beginner\"\n",
    "    elseif elo_group == 2\n",
    "        \"intermediate\"\n",
    "    elseif elo_group == 3\n",
    "        \"expert\"\n",
    "    end\n",
    "\n",
    "    filename = \"$(time_control)_$(elo_range).pgn\"\n",
    "\n",
    "    return filename\n",
    "end\n"
   ]
  },
  {
   "cell_type": "markdown",
   "id": "823ccc17-ecf8-4d54-aeca-4c1d9c844917",
   "metadata": {},
   "source": [
    "1~93218629 choose 100,000 sorted in order then all the way through the list and then stop\n",
    "check if cells are full\n",
    "if full, close so don't fill them in in next round\n",
    "repeat the process, until all cells are closed (leave cells over-filled)\n",
    "\n",
    "\n",
    "after all cells are closed\n",
    "<!-- then random select certain amount of the games  in cell? -->\n",
    "leave cells over-filled\n",
    "\n",
    "\n",
    "random draw without replacement"
   ]
  },
  {
   "cell_type": "code",
   "execution_count": 8,
   "id": "a555b3ed-2819-4500-af6a-8f9aebe8fc9b",
   "metadata": {},
   "outputs": [
    {
     "data": {
      "text/plain": [
       "loop_workflow (generic function with 1 method)"
      ]
     },
     "execution_count": 8,
     "metadata": {},
     "output_type": "execute_result"
    }
   ],
   "source": [
    "function loop_workflow(pipeline::Pipeline, cell_status::Matrix{Bool}, random_indices::Vector{Int32})::Pipeline\n",
    "    # Initialize indexes\n",
    "    index = 1 # current file reading process\n",
    "    rand_in = 1 # the randomed arr index\n",
    "\n",
    "    open(pipeline.filename, \"r\") do pgn\n",
    "\n",
    "        # Check sizes\n",
    "        seekend(pgn)\n",
    "        fileSize = position(pgn)\n",
    "        seekstart(pgn)\n",
    "        indices_size = length(random_indices)\n",
    "        \n",
    "        # Initialize progress bar\n",
    "        file_scaning_progress = Progress(fileSize; dt=1.0, desc=\"Current Round Progress...\")\n",
    "        fetch_arr_game_progress = Progress(indices_size; dt=1.0, desc=\"Selected game in array...\")\n",
    "\n",
    "        while !eof(pgn)\n",
    "            game = cp.read_game(pgn)\n",
    "            index += 1\n",
    "\n",
    "            # Update file progress bar\n",
    "            ProgressMeter.update!(file_scaning_progress, position(pgn))\n",
    "\n",
    "            # in case of overflow error\n",
    "            if rand_in > length(random_indices)\n",
    "                continue\n",
    "            end\n",
    "\n",
    "            # check if the game is the chosen one\n",
    "            if index != random_indices[rand_in]\n",
    "                continue\n",
    "            end\n",
    "\n",
    "            # increment the random arr index by 1\n",
    "            rand_in += 1\n",
    "\n",
    "            # Update random arr index progress bar\n",
    "            ProgressMeter.update!(fetch_arr_game_progress, rand_in)\n",
    "\n",
    "            # Check the game's criteria to see if the game satisfies the condition\n",
    "            criteria_result = check_criteria(game)\n",
    "\n",
    "            # If the game satisfies the condition\n",
    "            if all(x -> x != 0, criteria_result)\n",
    "                if !cell_status[criteria_result...]\n",
    "                    filename = game_cell_filename(criteria_result)\n",
    "                    write_file(joinpath(pipeline.export_path, filename), game)\n",
    "                    pipeline.cells[criteria_result...] += 1\n",
    "                end\n",
    "            end\n",
    "\n",
    "        end\n",
    "\n",
    "        # rand_in -= 1\n",
    "    \n",
    "    end\n",
    "    \n",
    "    println(\"Total number of game in file: $index\");\n",
    "    # println(\"Index of last game read in file $(random_indices[rand_in]), the $rand_in th number of this randomed arr\");\n",
    "    \n",
    "    return pipeline\n",
    "\n",
    "end"
   ]
  },
  {
   "cell_type": "code",
   "execution_count": 9,
   "id": "f4215c5f-37ee-4259-9319-e8a727b26c1a",
   "metadata": {},
   "outputs": [
    {
     "data": {
      "text/plain": [
       "main (generic function with 1 method)"
      ]
     },
     "execution_count": 9,
     "metadata": {},
     "output_type": "execute_result"
    }
   ],
   "source": [
    "function main(pipeline::Pipeline)\n",
    "    # Initialize a 3x3 boolean matrix for cell status (false = open, true = closed)\n",
    "    cell_status = fill(false, 3, 3)\n",
    "\n",
    "    current_index = 1\n",
    "    drawn_numbers = Set{Int32}()\n",
    "\n",
    "    # While not all cells are closed\n",
    "    while any(!cell for cell in cell_status)\n",
    "        # Start a new round\n",
    "        println(\"----------------------------—----------------------------—\")\n",
    "        println(\"Start a new round, seed drawing number from $current_index\")\n",
    "        println(\"----------------------------—----------------------------—\")\n",
    "        \n",
    "        # Call the random_arr from 1 to the total games in the file \n",
    "        # to get 100,000 random numbers as the game index\n",
    "        # also time it\n",
    "        @time new_indices = unique(sort(random_arr(pipeline, current_index, pipeline.round_draw_numbers)))\n",
    "\n",
    "        # Filter out indices that have already been drawn\n",
    "        random_indices = filter(idx -> !(idx in drawn_numbers), new_indices)\n",
    "        if isempty(random_indices)\n",
    "            println(\"random indices is 0, quiting the program...\")\n",
    "            return\n",
    "        end\n",
    "\n",
    "        println(\"Finish drawing and sorting process\")\n",
    "        \n",
    "        # Add the new indices to the drawn numbers set\n",
    "        union!(drawn_numbers, random_indices)\n",
    "\n",
    "        println(\"Start loop workflow...\")\n",
    "        # read and write games in the loop workflow and then update pipeline cells\n",
    "        pipeline = loop_workflow(pipeline, cell_status, random_indices)\n",
    "\n",
    "        # Check if each cell reaches or exceeds the condition (e.g., 3000)\n",
    "        # If so, mark the cell as closed\n",
    "        for i in 1:size(pipeline.cells, 1)\n",
    "            for j in 1:size(pipeline.cells, 2)\n",
    "                if pipeline.cells[i, j] >= pipeline.games_per_cell\n",
    "                    cell_status[i, j] = true\n",
    "                end\n",
    "            end\n",
    "        end\n",
    "\n",
    "        # size for report\n",
    "        random_indices_size = length(random_indices)\n",
    "        drawn_numbers_size = length(drawn_numbers)\n",
    "\n",
    "        println(\"Drew unique number $random_indices_size this round, current total drawn number size: $drawn_numbers_size\")\n",
    "        current_index += pipeline.round_draw_numbers\n",
    "    end\n",
    "\n",
    "    println(\"Work finished! I know, finally! (but it is just the first pipeline...)\");\n",
    "    # After all cells are closed, leave cells over-filled\n",
    "    # Additional random draw logic (if needed) goes here\n",
    "end\n"
   ]
  },
  {
   "cell_type": "markdown",
   "id": "caeba2c1-d163-4a04-9991-aa4049bf8d45",
   "metadata": {},
   "source": [
    "# Define variables"
   ]
  },
  {
   "cell_type": "code",
   "execution_count": 6,
   "id": "feb1aa52-85bf-4538-acc6-387ee28527a4",
   "metadata": {},
   "outputs": [
    {
     "data": {
      "text/plain": [
       "Pipeline(\"./data/lichess_db_standard_rated_2023-09.pgn\", \"./data/exported/\", 2023, 93218629, 3000, 100000, [0 0 0; 0 0 0; 0 0 0])"
      ]
     },
     "execution_count": 6,
     "metadata": {},
     "output_type": "execute_result"
    }
   ],
   "source": [
    "# File name of the original decompressed file\n",
    "filename = \"./data/lichess_db_standard_rated_2023-09.pgn\"\n",
    "\n",
    "# The seed for the randomness control in this project\n",
    "seed = 2023\n",
    "\n",
    "# Export path\n",
    "export_path = \"./data/exported/\"\n",
    "\n",
    "# Total games\n",
    "total_games = 93218629\n",
    "\n",
    "# Games per cell\n",
    "games_per_cell = 3000\n",
    "\n",
    "# Number of random indices to draw each round\n",
    "round_draw_numbers = 100000\n",
    "\n",
    "# Pipeline struct\n",
    "# Initialize with filename, export_path, seed, total_games, and games_per_cell, round_draw_numbers\n",
    "pipeline = Pipeline(filename, export_path, seed, total_games, games_per_cell, round_draw_numbers)"
   ]
  },
  {
   "cell_type": "code",
   "execution_count": 11,
   "id": "27bfc204-c880-4d17-92d7-ab1f11521aa1",
   "metadata": {},
   "outputs": [],
   "source": [
    "# main(pipeline)"
   ]
  },
  {
   "cell_type": "markdown",
   "id": "3b8b6678-0761-44ea-9811-dabe651a0c5a",
   "metadata": {},
   "source": [
    "# Test code"
   ]
  },
  {
   "cell_type": "code",
   "execution_count": 7,
   "id": "33749f5a-7cdd-48bc-88a8-6de30027833b",
   "metadata": {},
   "outputs": [
    {
     "data": {
      "text/plain": [
       "Pipeline(\"./test10000.pgn\", \"./data/test_exported/\", 2026, 10000, 1, 1000, [0 0 0; 0 0 0; 0 0 0])"
      ]
     },
     "execution_count": 7,
     "metadata": {},
     "output_type": "execute_result"
    }
   ],
   "source": [
    "# File name of the original decompressed file\n",
    "test_filename = \"./test10000.pgn\"\n",
    "\n",
    "# The seed for the randomness control in this project\n",
    "test_seed = 2026\n",
    "\n",
    "# Export path\n",
    "test_export_path = \"./data/test_exported/\"\n",
    "\n",
    "# Total games\n",
    "test_total_games = 10000\n",
    "\n",
    "# Games per cell\n",
    "test_games_per_cell = 1\n",
    "\n",
    "# Number of random indices to draw each round\n",
    "test_round_draw_numbers = 1000\n",
    "\n",
    "# Pipeline struct\n",
    "# Initialize with filename, export_path, seed, total_games, and games_per_cell, round_draw_numbers\n",
    "test_pipeline = Pipeline(test_filename, test_export_path, test_seed, test_total_games, test_games_per_cell, test_round_draw_numbers)"
   ]
  },
  {
   "cell_type": "code",
   "execution_count": 8,
   "id": "63d26860-e3f2-458d-896d-b550c9454223",
   "metadata": {},
   "outputs": [],
   "source": [
    "# @time main(test_pipeline)"
   ]
  },
  {
   "cell_type": "code",
   "execution_count": 16,
   "id": "fa2d1f59-8768-47ad-b287-2912d9a5a313",
   "metadata": {},
   "outputs": [],
   "source": [
    "# @time begin\n",
    "#     # Keep drawing until we reach the required number of unique indices\n",
    "#     while length(new_indices) < pipeline.round_draw_numbers\n",
    "#         println(\"Current new_indices is $(length(new_indices)), Drawing...\")\n",
    "#         # Draw random indices\n",
    "#         potential_new_indices = random_arr(pipeline, current_index, pipeline.round_draw_numbers - length(new_indices))\n",
    "\n",
    "#         # Add them to the set of new indices, ensuring uniqueness\n",
    "#         union!(new_indices, potential_new_indices)\n",
    "\n",
    "#         # Check if we have reached the total number of games\n",
    "#         if length(drawn_numbers) + length(new_indices) >= pipeline.total_games\n",
    "#             # Draw only the remaining undrawn games\n",
    "#             remaining_indices = setdiff(Set(1:pipeline.total_games), drawn_numbers)\n",
    "#             union!(new_indices, remaining_indices)\n",
    "#             break\n",
    "#         end\n",
    "#     end\n",
    "# end\n",
    "\n",
    "# # Convert the set to a vector and sort\n",
    "# random_indices = sort(collect(new_indices))\n",
    "\n",
    "# # Filter out indices that have already been drawn\n",
    "# random_indices = filter(idx -> !(idx in drawn_numbers), random_indices)\n",
    "\n",
    "# if isempty(random_indices)\n",
    "#     println(\"random indices is 0, quiting the program...\")\n",
    "#     return\n",
    "# end\n"
   ]
  }
 ],
 "metadata": {
  "kernelspec": {
   "display_name": "Julia 1.9.4",
   "language": "julia",
   "name": "julia-1.9"
  },
  "language_info": {
   "file_extension": ".jl",
   "mimetype": "application/julia",
   "name": "julia",
   "version": "1.9.4"
  }
 },
 "nbformat": 4,
 "nbformat_minor": 5
}
