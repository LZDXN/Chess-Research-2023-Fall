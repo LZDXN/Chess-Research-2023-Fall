{
 "cells": [
  {
   "cell_type": "markdown",
   "id": "12cf5cb4-76aa-4bca-b76e-b1d94176271c",
   "metadata": {},
   "source": [
    "# Import APIs"
   ]
  },
  {
   "cell_type": "code",
   "execution_count": 2,
   "id": "e84c04bc-3b04-4e9e-9777-6febe91e5f3f",
   "metadata": {
    "editable": true,
    "slideshow": {
     "slide_type": ""
    },
    "tags": []
   },
   "outputs": [
    {
     "data": {
      "text/plain": [
       "PyObject <module 'chess.pgn' from '/home/ubuntu/.local/lib/python3.10/site-packages/chess/pgn.py'>"
      ]
     },
     "execution_count": 2,
     "metadata": {},
     "output_type": "execute_result"
    }
   ],
   "source": [
    "# import julia libraries\n",
    "using PyCall\n",
    "using Random\n",
    "using ProgressMeter\n",
    "\n",
    "@pyimport chess\n",
    "cp = pyimport(\"chess.pgn\")"
   ]
  },
  {
   "cell_type": "code",
   "execution_count": 3,
   "id": "338e400d-3022-4b64-a35d-bb9065eee486",
   "metadata": {},
   "outputs": [],
   "source": [
    "# define the pipeline struct\n",
    "struct Pipeline\n",
    "    filename::String        # Filename of the total large file\n",
    "    export_path::String     # The folder of the exporting files\n",
    "    seed::Int               # Seed for the randomness control\n",
    "    total_games::Int        # Total number of games in the file\n",
    "    games_per_cell::Int     # Number of games in each cell in the table\n",
    "    round_draw_numbers::Int # Number of random indices to draw each round\n",
    "    cells::Matrix{Int}      # 2D matrix to track the number of games in each cell\n",
    "\n",
    "    function Pipeline(filename::String, export_path::String, seed::Int, total_games::Int, games_per_cell::Int, round_draw_numbers::Int)\n",
    "        new(filename, export_path, seed, total_games, games_per_cell, round_draw_numbers, fill(0, 3, 3))\n",
    "    end\n",
    "end\n"
   ]
  },
  {
   "cell_type": "markdown",
   "id": "7282744e-fac4-42e6-8d52-fa5d7bde0f20",
   "metadata": {
    "editable": true,
    "slideshow": {
     "slide_type": ""
    },
    "tags": []
   },
   "source": [
    "## Check if one game satisfies the criteria"
   ]
  },
  {
   "cell_type": "code",
   "execution_count": 4,
   "id": "615e8518-d7bb-46c6-a749-63b73dbae555",
   "metadata": {},
   "outputs": [
    {
     "data": {
      "text/plain": [
       "time_and_elo (generic function with 1 method)"
      ]
     },
     "execution_count": 4,
     "metadata": {},
     "output_type": "execute_result"
    }
   ],
   "source": [
    "# helper method of check_criteria()\n",
    "function time_and_elo(headers)\n",
    "    time_control = get(headers, \"TimeControl\")\n",
    "    WhiteElo = parse(Int64, get(headers, \"WhiteElo\"))\n",
    "    BlackElo = parse(Int64, get(headers, \"BlackElo\"))\n",
    "\n",
    "    return time_control, WhiteElo, BlackElo\n",
    "end"
   ]
  },
  {
   "cell_type": "code",
   "execution_count": 5,
   "id": "0e25e629-8358-45b7-8860-5259a6b59864",
   "metadata": {},
   "outputs": [
    {
     "data": {
      "text/plain": [
       "check_criteria (generic function with 1 method)"
      ]
     },
     "execution_count": 5,
     "metadata": {},
     "output_type": "execute_result"
    }
   ],
   "source": [
    "function check_criteria(game)\n",
    "    # criteria (will set as parameter in future)\n",
    "    valid_time = [\"180+0\", \"600+0\", \"1800+0\"]\n",
    "    elo_ranges = [(1250, 1350), (1750, 1850), (2150, Inf)]\n",
    "\n",
    "    # time groups:                                                                                               \n",
    "    # 0 - Invalid time group\n",
    "    # 1 - Blitz: 180+0 seconds (3 minutes)\n",
    "    # 2 - Rapid: 600+0 seconds (10 minutes)\n",
    "    # 3 - Classical: 1800+0 seconds (30 minutes)\n",
    "\n",
    "    time_group = 0\n",
    "\n",
    "    # valid elo groups:\n",
    "    # 0 - Invalid time group\n",
    "    # 1 - Beginners: 1250-1350\n",
    "    # 2 - Intermediate: 1750-1850\n",
    "    # 3 - Expert: Above 2150\n",
    "\n",
    "    elo_group = 0\n",
    "\n",
    "    # get data from the game header\n",
    "    time_control, player1_elo, player2_elo = time_and_elo(game.headers)\n",
    "\n",
    "    for time in 1:length(valid_time)\n",
    "        if (cmp(valid_time[time], time_control) == 0)\n",
    "            time_group = time\n",
    "        end\n",
    "    end\n",
    "\n",
    "    for elo in 1:length(elo_ranges)\n",
    "        if ((elo_ranges[elo][1] < player1_elo) && (player1_elo < elo_ranges[elo][2]) && (elo_ranges[elo][1] < player2_elo) && (player2_elo < elo_ranges[elo][2]))\n",
    "            elo_group = elo\n",
    "        end\n",
    "    end\n",
    "\n",
    "    return time_group, elo_group\n",
    "end"
   ]
  },
  {
   "cell_type": "markdown",
   "id": "ca4a1c9d-fa14-4836-bdea-8dd1e96bba2f",
   "metadata": {},
   "source": [
    "## Random process"
   ]
  },
  {
   "cell_type": "code",
   "execution_count": 6,
   "id": "74644e9a-2e80-42e1-b5fb-cb63ba60cc0a",
   "metadata": {},
   "outputs": [
    {
     "data": {
      "text/plain": [
       "random_arr (generic function with 1 method)"
      ]
     },
     "execution_count": 6,
     "metadata": {},
     "output_type": "execute_result"
    }
   ],
   "source": [
    "# the random process\n",
    "function random_arr(pipeline::Pipeline, start_nth::Int, n::Int)::Vector{Int32}\n",
    "    # 1-indexed\n",
    "    Random.seed!(pipeline.seed)\n",
    "    rand(1:pipeline.total_games, start_nth - 1)\n",
    "    return rand(1:pipeline.total_games, n)\n",
    "end"
   ]
  },
  {
   "cell_type": "markdown",
   "id": "65ccd0b8-a633-44e8-8a72-03642f66e027",
   "metadata": {},
   "source": [
    "## Game File I/O"
   ]
  },
  {
   "cell_type": "code",
   "execution_count": 7,
   "id": "607b0352-5573-451a-a25f-168a916e24e1",
   "metadata": {},
   "outputs": [
    {
     "data": {
      "text/plain": [
       "write_game_file (generic function with 1 method)"
      ]
     },
     "execution_count": 7,
     "metadata": {},
     "output_type": "execute_result"
    }
   ],
   "source": [
    "# write game in file\n",
    "function write_game_file(filename::String, game)\n",
    "    \n",
    "    # Check if the file exists\n",
    "    file_mode = isfile(filename) ? \"a\" : \"w\"\n",
    "\n",
    "    # Open the file with appropriate mode\n",
    "    open(filename, file_mode) do new_pgn\n",
    "        # Create an exporter instance\n",
    "        exporter = cp.FileExporter(new_pgn)\n",
    "        \n",
    "        # Use the game.accept method to write the game to the file\n",
    "        game.accept(exporter)\n",
    "    end\n",
    "\n",
    "end\n"
   ]
  },
  {
   "cell_type": "code",
   "execution_count": 8,
   "id": "4e0af798-7418-40e3-a61a-b7deb68c967c",
   "metadata": {},
   "outputs": [
    {
     "data": {
      "text/plain": [
       "game_cell_filename (generic function with 1 method)"
      ]
     },
     "execution_count": 8,
     "metadata": {},
     "output_type": "execute_result"
    }
   ],
   "source": [
    "function game_cell_filename(criteria_result)::String\n",
    "    time_group, elo_group = criteria_result\n",
    "\n",
    "    # Mapping time groups to their string representations\n",
    "    time_control = if time_group == 1\n",
    "        \"blitz\"\n",
    "    elseif time_group == 2\n",
    "        \"rapid\"\n",
    "    elseif time_group == 3\n",
    "        \"classical\"\n",
    "    end\n",
    "\n",
    "    # Mapping ELO groups to their string representations\n",
    "    elo_range = if elo_group == 1\n",
    "        \"beginner\"\n",
    "    elseif elo_group == 2\n",
    "        \"intermediate\"\n",
    "    elseif elo_group == 3\n",
    "        \"expert\"\n",
    "    end\n",
    "\n",
    "    filename = \"$(time_control)_$(elo_range)\"\n",
    "\n",
    "    return filename\n",
    "end\n"
   ]
  },
  {
   "cell_type": "markdown",
   "id": "b642a5f0-f440-4d00-a224-9f6dbc3df812",
   "metadata": {},
   "source": [
    "## Log file I/O"
   ]
  },
  {
   "cell_type": "code",
   "execution_count": 9,
   "id": "346c6d9f-935b-4b8b-9072-82233969dee8",
   "metadata": {},
   "outputs": [
    {
     "data": {
      "text/plain": [
       "write_log (generic function with 1 method)"
      ]
     },
     "execution_count": 9,
     "metadata": {},
     "output_type": "execute_result"
    }
   ],
   "source": [
    "function write_log(filename::String, message::String; overwrite::Bool=false)\n",
    "    file_mode = \"\"\n",
    "    if overwrite\n",
    "        file_mode = \"w\"\n",
    "    else\n",
    "        # Check if the file exists\n",
    "        file_mode = isfile(filename) ? \"a\" : \"w\"\n",
    "    end\n",
    "\n",
    "    # Open the file with appropriate mode\n",
    "    open(filename, file_mode) do file\n",
    "        # Append the string to the file\n",
    "        write(file, \"$message\\n\")\n",
    "    end\n",
    "end\n"
   ]
  },
  {
   "cell_type": "code",
   "execution_count": 10,
   "id": "dc9938df-3859-468c-808b-bd0511fc7163",
   "metadata": {},
   "outputs": [
    {
     "data": {
      "text/plain": [
       "log_game_message (generic function with 1 method)"
      ]
     },
     "execution_count": 10,
     "metadata": {},
     "output_type": "execute_result"
    }
   ],
   "source": [
    "# Function to save the current position in a file\n",
    "function save_position(file::IOStream)\n",
    "    return position(file)\n",
    "end\n",
    "\n",
    "# Function to restore the position in a file\n",
    "function restore_position(file::IOStream, pos::Int64)\n",
    "    seek(file, pos)\n",
    "end\n",
    "\n",
    "function log_game_message(file::IOStream, criteria_result, path::String)::String\n",
    "    file_position = position(file)\n",
    "    filename = game_cell_filename(criteria_result)\n",
    "    write_log(\"./$path/$(filename)_index_list\", string(file_position))\n",
    "    write_log(\"\")\n",
    "end"
   ]
  },
  {
   "cell_type": "markdown",
   "id": "ac4dc51a-a7ef-4688-afc4-89de0d7452ed",
   "metadata": {
    "editable": true,
    "slideshow": {
     "slide_type": ""
    },
    "tags": []
   },
   "source": [
    "1. count the total number of classical_expert, write down the file pointer location for those game as well\n",
    "2. try using file pointer way to skip to the position of the file size\n",
    "3. "
   ]
  },
  {
   "cell_type": "markdown",
   "id": "a15e75cc-6d80-4ccb-bcfd-c7d73405eafa",
   "metadata": {},
   "source": [
    "# Actual Workflow"
   ]
  },
  {
   "cell_type": "code",
   "execution_count": 8,
   "id": "a555b3ed-2819-4500-af6a-8f9aebe8fc9b",
   "metadata": {},
   "outputs": [
    {
     "data": {
      "text/plain": [
       "loop_workflow (generic function with 1 method)"
      ]
     },
     "execution_count": 8,
     "metadata": {},
     "output_type": "execute_result"
    }
   ],
   "source": [
    "function loop_workflow(pipeline::Pipeline, cell_status::Matrix{Bool}, random_indices::Vector{Int32})::Pipeline\n",
    "    # Initialize indexes\n",
    "    index = 1 # current file reading process\n",
    "    rand_in = 1 # the randomed arr index\n",
    "\n",
    "    open(pipeline.filename, \"r\") do pgn\n",
    "\n",
    "        # Check sizes\n",
    "        seekend(pgn)\n",
    "        fileSize = position(pgn)\n",
    "        seekstart(pgn)\n",
    "        indices_size = length(random_indices)\n",
    "        \n",
    "        # Initialize progress bar\n",
    "        file_scaning_progress = Progress(fileSize; dt=1.0, desc=\"Current Round Progress...\")\n",
    "        fetch_arr_game_progress = Progress(indices_size; dt=1.0, desc=\"Selected game in array...\")\n",
    "\n",
    "        while !eof(pgn)\n",
    "            game = cp.read_game(pgn)\n",
    "            index += 1\n",
    "\n",
    "            # Update file progress bar\n",
    "            ProgressMeter.update!(file_scaning_progress, position(pgn))\n",
    "\n",
    "            # in case of overflow error\n",
    "            if rand_in > length(random_indices)\n",
    "                continue\n",
    "            end\n",
    "\n",
    "            # check if the game is the chosen one\n",
    "            if index != random_indices[rand_in]\n",
    "                continue\n",
    "            end\n",
    "\n",
    "            # increment the random arr index by 1\n",
    "            rand_in += 1\n",
    "\n",
    "            # Update random arr index progress bar\n",
    "            ProgressMeter.update!(fetch_arr_game_progress, rand_in)\n",
    "\n",
    "            # Check the game's criteria to see if the game satisfies the condition\n",
    "            criteria_result = check_criteria(game)\n",
    "\n",
    "            # If the game satisfies the condition\n",
    "            if all(x -> x != 0, criteria_result)\n",
    "                if !cell_status[criteria_result...]\n",
    "                    filename = game_cell_filename(criteria_result)\n",
    "                    write_game_file(joinpath(pipeline.export_path, filename), game)\n",
    "                    pipeline.cells[criteria_result...] += 1\n",
    "                end\n",
    "            end\n",
    "\n",
    "        end\n",
    "\n",
    "        # rand_in -= 1\n",
    "    \n",
    "    end\n",
    "\n",
    "    if pipeline.total_games != index\n",
    "        pipeline.total_games == index\n",
    "    end\n",
    "    # println(\"Total number of game in file: $index\");.\n",
    "    # println(\"Index of last game read in file $(random_indices[rand_in]), the $rand_in th number of this randomed arr\");\n",
    "    \n",
    "    return pipeline\n",
    "\n",
    "end"
   ]
  },
  {
   "cell_type": "code",
   "execution_count": 9,
   "id": "f4215c5f-37ee-4259-9319-e8a727b26c1a",
   "metadata": {},
   "outputs": [
    {
     "data": {
      "text/plain": [
       "main (generic function with 1 method)"
      ]
     },
     "execution_count": 9,
     "metadata": {},
     "output_type": "execute_result"
    }
   ],
   "source": [
    "function main(pipeline::Pipeline)\n",
    "    # Initialize a 3x3 boolean matrix for cell status (false = open, true = closed)\n",
    "    cell_status = fill(false, 3, 3)\n",
    "\n",
    "    current_index = 1\n",
    "    drawn_numbers = Set{Int32}()\n",
    "    # drawn_numbers_file = \"drawn_numbers.txt\"  # File to store drawn numbers\n",
    "\n",
    "\n",
    "    # While not all cells are closed\n",
    "    while any(!cell for cell in cell_status)\n",
    "        # Start a new round\n",
    "        println(\"----------------------------—----------------------------—\")\n",
    "        println(\"Start a new round, seed drawing number from $current_index\")\n",
    "        println(\"----------------------------—----------------------------—\")\n",
    "        \n",
    "        # Call the random_arr from 1 to the total games in the file \n",
    "        # to get 100,000 random numbers as the game index\n",
    "        # also time it\n",
    "        # Initialize the set for new indices\n",
    "        new_indices = Set{Int32}()\n",
    "        drawing_progress = Progress(pipeline.round_draw_numbers; dt=1.0, desc=\"Drawing Progress...\")\n",
    "        \n",
    "        # Time the operation\n",
    "        @time begin\n",
    "            # Keep drawing until we reach the required number of unique indices\n",
    "            while length(new_indices) < pipeline.round_draw_numbers\n",
    "                loop_draw = pipeline.round_draw_numbers - length(new_indices)\n",
    "                potential_new_indices = random_arr(pipeline, current_index, loop_draw)\n",
    "                filter!(idx -> !(idx in drawn_numbers), potential_new_indices)\n",
    "                union!(new_indices, potential_new_indices)\n",
    "        \n",
    "                # Break if there are no more new games to draw\n",
    "                if length(drawn_numbers) + length(new_indices) >= pipeline.total_games\n",
    "                    break\n",
    "                end\n",
    "            \n",
    "                # Update drawing progress bar\n",
    "                ProgressMeter.update!(drawing_progress, length(new_indices))\n",
    "        \n",
    "                current_index += loop_draw\n",
    "\n",
    "            end\n",
    "        end\n",
    "        \n",
    "        # Filter out indices that have already been drawn\n",
    "        random_indices = sort(collect(new_indices))\n",
    "        if isempty(random_indices)\n",
    "            println(\"Random indices is 0, quitting the program...\")\n",
    "            println(\"Current cell matrix: $(pipeline.cells)\")\n",
    "            println(\"Current total drawn number size: $drawn_numbers_size\")\n",
    "            println(\"Total number of game in file: $(pipeline.total_games)\");\n",
    "            return\n",
    "        end\n",
    "        \n",
    "        # println(\"Finish drawing and sorting process\")\n",
    "        \n",
    "        # Add the new indices to the drawn numbers set\n",
    "        union!(drawn_numbers, random_indices)\n",
    "\n",
    "        println(\"Start loop workflow...\")\n",
    "        # read and write games in the loop workflow and then update pipeline cells\n",
    "        pipeline = loop_workflow(pipeline, cell_status, random_indices)\n",
    "\n",
    "        # Check if each cell reaches or exceeds the condition (e.g., 3000)\n",
    "        # If so, mark the cell as closed\n",
    "        for i in 1:size(pipeline.cells, 1)\n",
    "            for j in 1:size(pipeline.cells, 2)\n",
    "                if pipeline.cells[i, j] >= pipeline.games_per_cell\n",
    "                    cell_status[i, j] = true\n",
    "                end\n",
    "            end\n",
    "        end\n",
    "\n",
    "        # size for report\n",
    "        random_indices_size = length(random_indices)\n",
    "        drawn_numbers_size = length(drawn_numbers)\n",
    "\n",
    "        println(\"Current cell matrix: $(pipeline.cells)\")\n",
    "        println(\"Current total drawn number size: $drawn_numbers_size\")\n",
    "        # println(\"Drew unique number $random_indices_size this round, current total drawn number size: $drawn_numbers_size\")\n",
    "    end\n",
    "\n",
    "    println(\"Total number of game in file: $(pipeline.total_games)\");\n",
    "    println(\"Work finished! I know, finally! (but it is just the first pipeline...)\");\n",
    "    # After all cells are closed, leave cells over-filled\n",
    "end\n"
   ]
  },
  {
   "cell_type": "markdown",
   "id": "caeba2c1-d163-4a04-9991-aa4049bf8d45",
   "metadata": {},
   "source": [
    "# Define variables"
   ]
  },
  {
   "cell_type": "code",
   "execution_count": 1,
   "id": "33749f5a-7cdd-48bc-88a8-6de30027833b",
   "metadata": {
    "editable": true,
    "slideshow": {
     "slide_type": ""
    },
    "tags": []
   },
   "outputs": [
    {
     "ename": "LoadError",
     "evalue": "UndefVarError: `Pipeline` not defined",
     "output_type": "error",
     "traceback": [
      "UndefVarError: `Pipeline` not defined",
      "",
      "Stacktrace:",
      " [1] top-level scope",
      "   @ In[1]:21"
     ]
    }
   ],
   "source": [
    "# File name of the original decompressed file\n",
    "filename = \"./data/lichess_db_standard_rated_2023-09.pgn\"\n",
    "\n",
    "# The seed for the randomness control in this project\n",
    "seed = 2023\n",
    "\n",
    "# Export path\n",
    "export_path = \"./data/exported/\"\n",
    "\n",
    "# Total games\n",
    "total_games = 93218629\n",
    "\n",
    "# Games per cell\n",
    "games_per_cell = 3000\n",
    "\n",
    "# Number of random indices to draw each round\n",
    "round_draw_numbers = 100000\n",
    "\n",
    "# Pipeline struct\n",
    "# Initialize with filename, export_path, seed, total_games, and games_per_cell, round_draw_numbers\n",
    "pipeline = Pipeline(filename, export_path, seed, total_games, games_per_cell, round_draw_numbers)"
   ]
  }
 ],
 "metadata": {
  "kernelspec": {
   "display_name": "Julia 1.9.4",
   "language": "julia",
   "name": "julia-1.9"
  },
  "language_info": {
   "file_extension": ".jl",
   "mimetype": "application/julia",
   "name": "julia",
   "version": "1.9.4"
  },
  "widgets": {
   "application/vnd.jupyter.widget-state+json": {
    "state": {},
    "version_major": 2,
    "version_minor": 0
   }
  }
 },
 "nbformat": 4,
 "nbformat_minor": 5
}
