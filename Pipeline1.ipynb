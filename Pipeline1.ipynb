{
 "cells": [
  {
   "cell_type": "markdown",
   "id": "12cf5cb4-76aa-4bca-b76e-b1d94176271c",
   "metadata": {},
   "source": [
    "# Import APIs"
   ]
  },
  {
   "cell_type": "code",
   "execution_count": 1,
   "id": "e84c04bc-3b04-4e9e-9777-6febe91e5f3f",
   "metadata": {
    "editable": true,
    "slideshow": {
     "slide_type": ""
    },
    "tags": []
   },
   "outputs": [
    {
     "data": {
      "text/plain": [
       "PyObject <module 'chess.pgn' from '/home/ubuntu/.local/lib/python3.10/site-packages/chess/pgn.py'>"
      ]
     },
     "execution_count": 1,
     "metadata": {},
     "output_type": "execute_result"
    }
   ],
   "source": [
    "# import julia libraries\n",
    "using PyCall\n",
    "using Random\n",
    "using CSV\n",
    "using DataFrames\n",
    "\n",
    "\n",
    "@pyimport chess\n",
    "cp = pyimport(\"chess.pgn\")"
   ]
  },
  {
   "cell_type": "markdown",
   "id": "c9ca524c-bd64-4c50-ba22-f446e07b59fd",
   "metadata": {},
   "source": [
    "# Define Struct"
   ]
  },
  {
   "cell_type": "code",
   "execution_count": 2,
   "id": "338e400d-3022-4b64-a35d-bb9065eee486",
   "metadata": {},
   "outputs": [],
   "source": [
    "# define the pipeline struct\n",
    "struct Pipeline\n",
    "    filename::String        # Filename of the total large file\n",
    "    export_path::String     # The folder of the exporting files\n",
    "    seed::Int               # Seed for the randomness control\n",
    "    total_games::Int        # Total number of games in the file\n",
    "    games_per_cell::Int     # Number of games in each cell in the table\n",
    "    round_draw_numbers::Int # Number of random indices to draw each round\n",
    "    cells::Matrix{Int}      # 2D matrix to track the number of games in each cell\n",
    "\n",
    "    function Pipeline(filename::String, export_path::String, seed::Int, total_games::Int, games_per_cell::Int, round_draw_numbers::Int)\n",
    "        new(filename, export_path, seed, total_games, games_per_cell, round_draw_numbers, fill(0, 3, 3))\n",
    "    end\n",
    "end\n"
   ]
  },
  {
   "cell_type": "markdown",
   "id": "63f21d5e-ebe5-412d-aa63-e6f558e72d99",
   "metadata": {},
   "source": [
    "# Define methods/functions"
   ]
  },
  {
   "cell_type": "markdown",
   "id": "7282744e-fac4-42e6-8d52-fa5d7bde0f20",
   "metadata": {
    "editable": true,
    "slideshow": {
     "slide_type": ""
    },
    "tags": []
   },
   "source": [
    "## Check if one game satisfies the criteria"
   ]
  },
  {
   "cell_type": "code",
   "execution_count": 3,
   "id": "615e8518-d7bb-46c6-a749-63b73dbae555",
   "metadata": {},
   "outputs": [
    {
     "data": {
      "text/plain": [
       "time_and_elo (generic function with 1 method)"
      ]
     },
     "execution_count": 3,
     "metadata": {},
     "output_type": "execute_result"
    }
   ],
   "source": [
    "# helper method of check_criteria()\n",
    "function time_and_elo(headers)\n",
    "    time_control = get(headers, \"TimeControl\")\n",
    "    WhiteElo = parse(Int64, get(headers, \"WhiteElo\"))\n",
    "    BlackElo = parse(Int64, get(headers, \"BlackElo\"))\n",
    "\n",
    "    return time_control, WhiteElo, BlackElo\n",
    "end"
   ]
  },
  {
   "cell_type": "code",
   "execution_count": 4,
   "id": "0e25e629-8358-45b7-8860-5259a6b59864",
   "metadata": {},
   "outputs": [
    {
     "data": {
      "text/plain": [
       "check_criteria (generic function with 1 method)"
      ]
     },
     "execution_count": 4,
     "metadata": {},
     "output_type": "execute_result"
    }
   ],
   "source": [
    "function check_criteria(game)\n",
    "    # criteria (will set as parameter in future)\n",
    "    valid_time = [\"180+0\", \"600+0\", \"1800+0\"]\n",
    "    elo_ranges = [(1250, 1350), (1750, 1850), (2150, Inf)]\n",
    "\n",
    "    # time groups:                                                                                               \n",
    "    # 0 - Invalid time group\n",
    "    # 1 - Blitz: 180+0 seconds (3 minutes)\n",
    "    # 2 - Rapid: 600+0 seconds (10 minutes)\n",
    "    # 3 - Classical: 1800+0 seconds (30 minutes)\n",
    "\n",
    "    time_group = 0\n",
    "\n",
    "    # valid elo groups:\n",
    "    # 0 - Invalid time group\n",
    "    # 1 - Beginners: 1250-1350\n",
    "    # 2 - Intermediate: 1750-1850\n",
    "    # 3 - Expert: Above 2150\n",
    "\n",
    "    elo_group = 0\n",
    "\n",
    "    # get data from the game header\n",
    "    time_control, player1_elo, player2_elo = time_and_elo(game.headers)\n",
    "\n",
    "    for time in 1:length(valid_time)\n",
    "        if (cmp(valid_time[time], time_control) == 0)\n",
    "            time_group = time\n",
    "        end\n",
    "    end\n",
    "\n",
    "    for elo in 1:length(elo_ranges)\n",
    "        if ((elo_ranges[elo][1] < player1_elo) && (player1_elo < elo_ranges[elo][2]) && (elo_ranges[elo][1] < player2_elo) && (player2_elo < elo_ranges[elo][2]))\n",
    "            elo_group = elo\n",
    "        end\n",
    "    end\n",
    "\n",
    "    return time_group, elo_group\n",
    "end"
   ]
  },
  {
   "cell_type": "markdown",
   "id": "ca4a1c9d-fa14-4836-bdea-8dd1e96bba2f",
   "metadata": {},
   "source": [
    "## Random process"
   ]
  },
  {
   "cell_type": "code",
   "execution_count": 5,
   "id": "e1068bfa-6c95-4a23-82b6-d867ad550bcd",
   "metadata": {},
   "outputs": [
    {
     "data": {
      "text/plain": [
       "random_process (generic function with 1 method)"
      ]
     },
     "execution_count": 5,
     "metadata": {},
     "output_type": "execute_result"
    }
   ],
   "source": [
    "function random_process(seed::Int64, range::Int64, n::Int)::Vector{Int32}\n",
    "    \"\"\"\n",
    "    @param seed::Int64 seed of the randoming method\n",
    "    @param range::Int64 the generated value is from 1 this upper bound\n",
    "    @param n::Int n numbers of generated number is going to be returned\n",
    "    @return Vector{Int32} the return list\n",
    "\n",
    "    \"\"\"\n",
    "    Random.seed!(seed)\n",
    "    drawn = Set{Int32}()\n",
    "    \n",
    "    while length(drawn) < n\n",
    "        # Draw numbers up to the remaining amount needed\n",
    "        new_draws = rand(1:range, (n - length(drawn)))\n",
    "        # Add them to the set (automatically filters out duplicates)\n",
    "        union!(drawn, new_draws)\n",
    "    end\n",
    "    \n",
    "    # Correctly convert the set to a vector\n",
    "    return collect(Int32, drawn)\n",
    "end\n"
   ]
  },
  {
   "cell_type": "code",
   "execution_count": 6,
   "id": "74644e9a-2e80-42e1-b5fb-cb63ba60cc0a",
   "metadata": {},
   "outputs": [],
   "source": [
    "# function random_arr(pipeline::Pipeline, start_nth::Int, n::Int)::Vector{Int32}\n",
    "#     # 1-indexed\n",
    "#     Random.seed!(pipeline.seed)\n",
    "#     rand(1:pipeline.total_games, start_nth - 1)\n",
    "#     return rand(1:pipeline.total_games, n)\n",
    "# end"
   ]
  },
  {
   "cell_type": "markdown",
   "id": "65ccd0b8-a633-44e8-8a72-03642f66e027",
   "metadata": {},
   "source": [
    "## Game File I/O"
   ]
  },
  {
   "cell_type": "code",
   "execution_count": 7,
   "id": "607b0352-5573-451a-a25f-168a916e24e1",
   "metadata": {},
   "outputs": [
    {
     "data": {
      "text/plain": [
       "write_game_file (generic function with 1 method)"
      ]
     },
     "execution_count": 7,
     "metadata": {},
     "output_type": "execute_result"
    }
   ],
   "source": [
    "# write game in file\n",
    "function write_game_file(filename::String, game)\n",
    "    \n",
    "    # Check if the file exists\n",
    "    file_mode = isfile(filename) ? \"a\" : \"w\"\n",
    "\n",
    "    # Open the file with appropriate mode\n",
    "    open(filename, file_mode) do new_pgn\n",
    "        # Create an exporter instance\n",
    "        exporter = cp.FileExporter(new_pgn)\n",
    "        \n",
    "        # Use the game.accept method to write the game to the file\n",
    "        game.accept(exporter)\n",
    "    end\n",
    "\n",
    "end\n"
   ]
  },
  {
   "cell_type": "code",
   "execution_count": 8,
   "id": "4e0af798-7418-40e3-a61a-b7deb68c967c",
   "metadata": {},
   "outputs": [
    {
     "data": {
      "text/plain": [
       "game_cell_filename (generic function with 1 method)"
      ]
     },
     "execution_count": 8,
     "metadata": {},
     "output_type": "execute_result"
    }
   ],
   "source": [
    "function game_cell_filename(criteria_result)::String\n",
    "    time_group, elo_group = criteria_result\n",
    "\n",
    "    # Mapping time groups to their string representations\n",
    "    time_control = if time_group == 1\n",
    "        \"blitz\"\n",
    "    elseif time_group == 2\n",
    "        \"rapid\"\n",
    "    elseif time_group == 3\n",
    "        \"classical\"\n",
    "    end\n",
    "\n",
    "    # Mapping ELO groups to their string representations\n",
    "    elo_range = if elo_group == 1\n",
    "        \"beginner\"\n",
    "    elseif elo_group == 2\n",
    "        \"intermediate\"\n",
    "    elseif elo_group == 3\n",
    "        \"expert\"\n",
    "    end\n",
    "\n",
    "    filename = \"$(time_control)_$(elo_range)\"\n",
    "\n",
    "    return filename\n",
    "end\n"
   ]
  },
  {
   "cell_type": "markdown",
   "id": "b642a5f0-f440-4d00-a224-9f6dbc3df812",
   "metadata": {},
   "source": [
    "## Log file I/O"
   ]
  },
  {
   "cell_type": "code",
   "execution_count": 9,
   "id": "346c6d9f-935b-4b8b-9072-82233969dee8",
   "metadata": {},
   "outputs": [
    {
     "data": {
      "text/plain": [
       "write_log (generic function with 1 method)"
      ]
     },
     "execution_count": 9,
     "metadata": {},
     "output_type": "execute_result"
    }
   ],
   "source": [
    "function write_log(filename::String, message::String; overwrite::Bool=false)\n",
    "    file_mode = \"\"\n",
    "    if overwrite\n",
    "        file_mode = \"w\"\n",
    "    else\n",
    "        # Check if the file exists\n",
    "        file_mode = isfile(filename) ? \"a\" : \"w\"\n",
    "    end\n",
    "\n",
    "    # Open the file with appropriate mode\n",
    "    open(filename, file_mode) do file\n",
    "        # Append the string to the file\n",
    "        write(file, \"$message\\n\")\n",
    "    end\n",
    "end\n"
   ]
  },
  {
   "cell_type": "code",
   "execution_count": 10,
   "id": "dc9938df-3859-468c-808b-bd0511fc7163",
   "metadata": {},
   "outputs": [
    {
     "data": {
      "text/plain": [
       "log_game_message (generic function with 1 method)"
      ]
     },
     "execution_count": 10,
     "metadata": {},
     "output_type": "execute_result"
    }
   ],
   "source": [
    "# Function to save the current position in a file\n",
    "function save_game_position(index::Int64, pos::Int64, saved_filename::String)\n",
    "    save_msg = \"$index:$pos\"\n",
    "    write_log(saved_filename, save_msg, overwrite=true)\n",
    "end\n",
    "\n",
    "# # Function to restore the position in a file\n",
    "# function restore_position(file::IOStream, pos::Int64)\n",
    "#     seek(file, pos)\n",
    "# end\n",
    "\n",
    "\n",
    "function log_game_message(game_pos::Int64, path::String, criteria_result::Tuple)::String\n",
    "    # if the game satisfies one of the traits in the matrix\n",
    "    # log the game with file pointer position in the game log\n",
    "    # save game log file separatly\n",
    "\n",
    "    filename = game_cell_filename(criteria_result)\n",
    "    write_log(\"$path/$(filename)_index_list\", string(game_pos))\n",
    "\n",
    "    return \"Written $filename game with the position $game_pos\"\n",
    "end"
   ]
  },
  {
   "cell_type": "code",
   "execution_count": 11,
   "id": "f864da05-1218-4a86-b950-40c7be8012aa",
   "metadata": {},
   "outputs": [
    {
     "data": {
      "text/plain": [
       "matrix_csv (generic function with 1 method)"
      ]
     },
     "execution_count": 11,
     "metadata": {},
     "output_type": "execute_result"
    }
   ],
   "source": [
    "function matrix_csv(filename::String, criteria_result::Tuple)\n",
    "    if isfile(filename)\n",
    "        # Read the existing CSV file\n",
    "        df = CSV.read(filename, DataFrame)\n",
    "    else\n",
    "        # Create a new 3x3 DataFrame with zeros\n",
    "        df = DataFrame(Int64.(zeros(3, 3)), :auto)\n",
    "        \n",
    "        # Rename columns and rows as per your specification\n",
    "        rename!(df, [:blitz, :rapid, :classical])\n",
    "        df[!, :Level] = [\"beginner\", \"intermediate\", \"expert\"]\n",
    "        df = df[:, [:Level, :blitz, :rapid, :classical]]\n",
    "    end\n",
    "\n",
    "    # Increment the specified cell by 1\n",
    "    # Adjust cell_location to account for the added \"Level\" column\n",
    "    adjusted_cell_location = (criteria_result[1], criteria_result[2] + 1)\n",
    "    df[adjusted_cell_location...] += 1\n",
    "\n",
    "    # Write the DataFrame back to the CSV file\n",
    "    CSV.write(filename, df)\n",
    "end"
   ]
  },
  {
   "cell_type": "code",
   "execution_count": 23,
   "id": "2fe610bc-2c1b-4682-9c96-cd6da5e11adf",
   "metadata": {},
   "outputs": [
    {
     "data": {
      "text/plain": [
       "adjustment (generic function with 1 method)"
      ]
     },
     "execution_count": 23,
     "metadata": {},
     "output_type": "execute_result"
    }
   ],
   "source": [
    "function adjustment(filename::String)\n",
    "    if isfile(filename)\n",
    "        # Read the existing CSV file\n",
    "        df = CSV.read(filename, DataFrame)\n",
    "\n",
    "        # Iterate through each cell and decrement by 1\n",
    "        for row in 1:size(df, 1)\n",
    "            for col in 1:size(df, 2)\n",
    "                # Skip the \"Level\" column\n",
    "                if col != 1\n",
    "                    df[row, col] += 1\n",
    "                end\n",
    "            end\n",
    "        end\n",
    "    \n",
    "        # Write the DataFrame back to the CSV file\n",
    "        CSV.write(filename, df)\n",
    "    else\n",
    "        println(\"File not found: $filename\")\n",
    "    end\n",
    "end\n"
   ]
  },
  {
   "cell_type": "markdown",
   "id": "a15e75cc-6d80-4ccb-bcfd-c7d73405eafa",
   "metadata": {},
   "source": [
    "# Actual Workflow"
   ]
  },
  {
   "cell_type": "markdown",
   "id": "5eceebec-6e64-489d-b557-5f716951e5b7",
   "metadata": {},
   "source": [
    "## $1^{st}$ workflow - process and log the eligible games in file\n",
    "1. process every game in the file\n",
    "2. if the game satisfies one of the cell trait, log the file pointer's position and increment corresponded cell in table\n",
    "3. if not, continue processing until finished"
   ]
  },
  {
   "cell_type": "code",
   "execution_count": 13,
   "id": "17c7a095-bb4f-4e4b-a6ed-da57a2911f90",
   "metadata": {},
   "outputs": [
    {
     "data": {
      "text/plain": [
       "pre_check (generic function with 3 methods)"
      ]
     },
     "execution_count": 13,
     "metadata": {},
     "output_type": "execute_result"
    }
   ],
   "source": [
    "function pre_check(pipeline::Pipeline, index::Int64=1, starting_position::Int64=0)::Pipeline\n",
    "    # log files path and name\n",
    "    log_save_path = \"./log\"\n",
    "    pos_save = \"running_position\"\n",
    "    game_cell_stats = \"game_statistics.csv\"\n",
    "\n",
    "    # Start process file\n",
    "    open(pipeline.filename, \"r\") do pgn\n",
    "\n",
    "        # Check sizes\n",
    "        seekend(pgn)\n",
    "        fileSize = position(pgn)\n",
    "        seekstart(pgn)\n",
    "        \n",
    "        # Initialize progress bar\n",
    "        file_scaning_progress = Progress(fileSize; dt=1.0, desc=\"Scanning Progress...\")\n",
    "\n",
    "        if starting_position != 0\n",
    "            # restore process in case interrupted\n",
    "            print(\"starting from index $starting_position\")\n",
    "            seek(pgn, starting_position)\n",
    "        end\n",
    "\n",
    "        while !eof(pgn)\n",
    "            cur_pos = position(pgn)\n",
    "            game = cp.read_game(pgn)\n",
    "\n",
    "            # Check the game's criteria to see if the game satisfies the condition\n",
    "            criteria_result = check_criteria(game)\n",
    "\n",
    "            # If the game satisfies the condition\n",
    "            if all(x -> x != 0, criteria_result)\n",
    "                filename = game_cell_filename(criteria_result)\n",
    "                # log game file and upate the csv matrix\n",
    "                log_game_message(cur_pos, log_save_path, criteria_result)\n",
    "                matrix_csv(\"$log_save_path/$game_cell_stats\", criteria_result)\n",
    "            end\n",
    "\n",
    "            index += 1\n",
    "            save_game_position(index, cur_pos, \"$log_save_path/$pos_save\")\n",
    "\n",
    "        end\n",
    "    end\n",
    "\n",
    "    if pipeline.total_games != index\n",
    "        pipeline.total_games == index\n",
    "    end\n",
    "    \n",
    "    return pipeline\n",
    "\n",
    "end"
   ]
  },
  {
   "cell_type": "markdown",
   "id": "22766f08-d2d8-4ecb-92f1-d7e433c71cfb",
   "metadata": {},
   "source": [
    "## $2^{nd}$ workflow - randomly select data from the cell, read and write games"
   ]
  },
  {
   "cell_type": "code",
   "execution_count": 33,
   "id": "eb26aaa3-14ed-41f4-98a4-04e889cfc9fb",
   "metadata": {},
   "outputs": [
    {
     "data": {
      "text/plain": [
       "log_list (generic function with 1 method)"
      ]
     },
     "execution_count": 33,
     "metadata": {},
     "output_type": "execute_result"
    }
   ],
   "source": [
    "# log the randomized array\n",
    "\n",
    "# random_process(seed::Int64, range::Int64, n::Int)::Vector{Int32}\n",
    "# log the randomized array\n",
    "\n",
    "function log_list(pipeline::Pipeline, log_path::String, game_stats_filename::String)\n",
    "    # Read the CSV file into a DataFrame\n",
    "    df = CSV.read(\"$log_path/$game_stats_filename\", DataFrame)\n",
    "    random_index = 0\n",
    "\n",
    "    # Iterate through each cell in the DataFrame\n",
    "    for level in 1:3\n",
    "        for time in 2:4\n",
    "            cell_value = df[level, time]\n",
    "\n",
    "            # Determine the number of games to select\n",
    "            num_games_to_select = 3000\n",
    "\n",
    "            section_name = game_cell_filename((level, (time - 1)))\n",
    "            # Read the corresponding index list file\n",
    "            index_list_filename = \"$log_path/$(section_name)_index_list\"\n",
    "            index_list = CSV.read(index_list_filename, DataFrame)\n",
    "\n",
    "            # Make sure the range does not exceed the number of rows in the index list\n",
    "            actual_range = size(index_list, 1)\n",
    "\n",
    "            # in case the outlier situation\n",
    "            if actual_range <= num_games_to_select\n",
    "                indices = 1:actual_range  # set indices to be from 1 to actual_range\n",
    "            else\n",
    "                # Generate random indices within the actual range\n",
    "                indices = random_process((pipeline.seed + random_index), actual_range, num_games_to_select - 1)\n",
    "            end\n",
    "\n",
    "            # Select the games based on indices\n",
    "            selected_games = index_list[indices, :]\n",
    "\n",
    "            # Write the selected games to a new file\n",
    "            drawn_games_filename = \"$log_path/drawn_game_$(section_name)\"\n",
    "            CSV.write(drawn_games_filename, selected_games)\n",
    "\n",
    "            random_index += 1\n",
    "        end\n",
    "    end\n",
    "end\n"
   ]
  },
  {
   "cell_type": "markdown",
   "id": "78f43862-237a-4054-b0c5-613a665057cd",
   "metadata": {},
   "source": [
    "## $3^{rd}$ workflow - read and write games to export folder"
   ]
  },
  {
   "cell_type": "code",
   "execution_count": 35,
   "id": "0ff49173-a4c2-4db0-b665-003ddc75da8e",
   "metadata": {},
   "outputs": [
    {
     "data": {
      "text/plain": [
       "main (generic function with 1 method)"
      ]
     },
     "execution_count": 35,
     "metadata": {},
     "output_type": "execute_result"
    }
   ],
   "source": [
    "function main(pipeline::Pipeline, log_path::String)\n",
    "\n",
    "    open(pipeline.filename, \"r\") do pgn\n",
    "        for level in 1:3\n",
    "            for time in 1:3\n",
    "\n",
    "                # read file\n",
    "                section_name = game_cell_filename((level, time))\n",
    "                drawn_list = \"$log_path/drawn_game_$(section_name)\"\n",
    "                \n",
    "                open(drawn_list, \"r\") do game_ppt\n",
    "                    for game_ptr_str in eachline(game_ppt)\n",
    "                        game_ptr = parse(Int, game_ptr_str)\n",
    "\n",
    "                        seek(pgn, game_ptr)\n",
    "                        game = cp.read_game(pgn)\n",
    "\n",
    "                        # println(game.headers)\n",
    "                        # write file\n",
    "                        write_game_file(\"$(pipeline.export_path)/$(section_name).pgn\", game)\n",
    "                    end\n",
    "                end\n",
    "            end\n",
    "        end\n",
    "    end\n",
    "    \n",
    "    println(\"Total number of game in file: $(pipeline.total_games)\");\n",
    "    println(\"Work finished! I know, finally! (but it is just the first pipeline...)\");\n",
    "end"
   ]
  },
  {
   "cell_type": "markdown",
   "id": "caeba2c1-d163-4a04-9991-aa4049bf8d45",
   "metadata": {},
   "source": [
    "# Define variables"
   ]
  },
  {
   "cell_type": "code",
   "execution_count": 16,
   "id": "33749f5a-7cdd-48bc-88a8-6de30027833b",
   "metadata": {
    "editable": true,
    "slideshow": {
     "slide_type": ""
    },
    "tags": []
   },
   "outputs": [
    {
     "data": {
      "text/plain": [
       "Pipeline(\"./data/lichess_db_standard_rated_2023-09.pgn\", \"./data/exported\", 2023, 93218629, 3000, 100000, [0 0 0; 0 0 0; 0 0 0])"
      ]
     },
     "execution_count": 16,
     "metadata": {},
     "output_type": "execute_result"
    }
   ],
   "source": [
    "# File name of the original decompressed file\n",
    "filename = \"./data/lichess_db_standard_rated_2023-09.pgn\"\n",
    "\n",
    "# The seed for the randomness control in this project\n",
    "seed = 2023\n",
    "\n",
    "# Export path\n",
    "export_path = \"./data/exported\"\n",
    "\n",
    "# Total games\n",
    "total_games = 93218629\n",
    "\n",
    "# Games per cell\n",
    "games_per_cell = 3000\n",
    "\n",
    "# Number of random indices to draw each round\n",
    "round_draw_numbers = 100000\n",
    "\n",
    "# log path of all non-game files\n",
    "log_path = \"./log\"\n",
    "\n",
    "# filename of the csv table\n",
    "game_stats_filename = \"game_statistics.csv\"\n",
    "\n",
    "# Pipeline struct\n",
    "# Initialize with filename, export_path, seed, total_games, and games_per_cell, round_draw_numbers\n",
    "pipeline = Pipeline(filename, export_path, seed, total_games, games_per_cell, round_draw_numbers)"
   ]
  },
  {
   "cell_type": "markdown",
   "id": "52bae826-8f50-42c2-aec6-c168b8101e75",
   "metadata": {},
   "source": [
    "# Run workflow"
   ]
  },
  {
   "cell_type": "code",
   "execution_count": 17,
   "id": "f9b34290-d385-4359-b057-fdd981ed606e",
   "metadata": {},
   "outputs": [],
   "source": [
    "# run pre_check\n",
    "# @time pre_check(pipeline)\n",
    "\n",
    "# if interrupted and attempt to restore\n",
    "# index =  # enter the running position file first value\n",
    "# position =  # enter the running position file second value\n",
    "# pre_check(pipeline, index, position)"
   ]
  },
  {
   "cell_type": "code",
   "execution_count": 24,
   "id": "05dd12b0-de00-4be2-82a2-acd0b56d08d4",
   "metadata": {},
   "outputs": [
    {
     "data": {
      "text/plain": [
       "\"./log/game_statistics.csv\""
      ]
     },
     "execution_count": 24,
     "metadata": {},
     "output_type": "execute_result"
    }
   ],
   "source": [
    "# decrement the reuslt by 1\n",
    "# adjustment(\"$log_path/$game_stats_filename\")"
   ]
  },
  {
   "cell_type": "code",
   "execution_count": 34,
   "id": "85d3a1b0-7288-4d3a-b20f-7324881ce478",
   "metadata": {},
   "outputs": [
    {
     "name": "stdout",
     "output_type": "stream",
     "text": [
      "  0.504162 seconds (149.67 k allocations: 105.995 MiB, 2.63% gc time)\n"
     ]
    }
   ],
   "source": [
    "@time log_list(pipeline, log_path, game_stats_filename)"
   ]
  },
  {
   "cell_type": "code",
   "execution_count": 37,
   "id": "9165422e-1a37-4962-9df4-7308c2d03d7a",
   "metadata": {},
   "outputs": [
    {
     "name": "stdout",
     "output_type": "stream",
     "text": [
      "Total number of game in file: 93218629\n",
      "Work finished! I know, finally! (but it is just the first pipeline...)\n",
      "283.051692 seconds (143.67 M allocations: 4.855 GiB, 1.19% gc time)\n"
     ]
    }
   ],
   "source": [
    "@time main(pipeline, log_path)"
   ]
  },
  {
   "cell_type": "code",
   "execution_count": 29,
   "id": "957aea29-e165-4c8c-8173-0cc2201f9a23",
   "metadata": {},
   "outputs": [
    {
     "name": "stdout",
     "output_type": "stream",
     "text": [
      "PyObject Headers(Event='Rated Classical game', Site='https://lichess.org/OsBizORo', Date='2023.09.01', Round='-', White='Manorainjan', Black='Harshin', Result='1-0', UTCDate='2023.09.01', UTCTime='03:02:09', WhiteElo='2283', BlackElo='2161', WhiteRatingDiff='+4', BlackRatingDiff='-4', ECO='A45', Opening='Indian Defense', TimeControl='1800+0', Termination='Normal')\n"
     ]
    }
   ],
   "source": [
    "# open(filename, \"r\") do pgn\n",
    "#     seek(pgn, 521961214)\n",
    "#     game = cp.read_game(pgn)\n",
    "\n",
    "#     println(game.headers)\n",
    "#     # write file\n",
    "#     # write_game_file(\"$(pipeline.export_path)/$(section_name).pgn\", game)\n",
    "# end"
   ]
  }
 ],
 "metadata": {
  "kernelspec": {
   "display_name": "Julia 1.9.4",
   "language": "julia",
   "name": "julia-1.9"
  },
  "language_info": {
   "file_extension": ".jl",
   "mimetype": "application/julia",
   "name": "julia",
   "version": "1.9.4"
  },
  "widgets": {
   "application/vnd.jupyter.widget-state+json": {
    "state": {},
    "version_major": 2,
    "version_minor": 0
   }
  }
 },
 "nbformat": 4,
 "nbformat_minor": 5
}
