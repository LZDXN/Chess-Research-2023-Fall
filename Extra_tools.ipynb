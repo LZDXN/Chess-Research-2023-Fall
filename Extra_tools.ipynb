{
 "cells": [
  {
   "cell_type": "code",
   "execution_count": 2,
   "id": "91a79d54-0fcc-4c93-a55f-632e921b6d7a",
   "metadata": {},
   "outputs": [
    {
     "data": {
      "text/plain": [
       "PyObject <module 'chess.pgn' from '/home/ubuntu/.local/lib/python3.10/site-packages/chess/pgn.py'>"
      ]
     },
     "execution_count": 2,
     "metadata": {},
     "output_type": "execute_result"
    }
   ],
   "source": [
    "# import julia libraries\n",
    "using PyCall\n",
    "using CSV\n",
    "using DataFrames\n",
    "\n",
    "\n",
    "@pyimport chess\n",
    "cp = pyimport(\"chess.pgn\")"
   ]
  },
  {
   "cell_type": "markdown",
   "id": "19b1083c-d7c6-4ab3-a09f-095779d8c84d",
   "metadata": {},
   "source": [
    "## unique_players"
   ]
  },
  {
   "cell_type": "code",
   "execution_count": 3,
   "id": "95a69a92-5cfd-4424-89ff-512b885fb3d3",
   "metadata": {},
   "outputs": [
    {
     "data": {
      "text/plain": [
       "unique_players (generic function with 1 method)"
      ]
     },
     "execution_count": 3,
     "metadata": {},
     "output_type": "execute_result"
    }
   ],
   "source": [
    "function unique_players(filename::String)::Vector{String}\n",
    "    \"\"\"\n",
    "    count how many unique players in a specified file\n",
    "    @param filename::String the path and the filename of the processing game file\n",
    "    @return \n",
    "    \"\"\"\n",
    "\n",
    "    unique_set = Set{String}()\n",
    "\n",
    "    open(filename, \"r\") do pgn\n",
    "        while !eof(pgn)\n",
    "            game = cp.read_game(pgn)\n",
    "\n",
    "\n",
    "            # Check if the \"White\" key exists in the headers and is a string, then add it.\n",
    "            white_player = get(game.headers, \"White\", nothing)\n",
    "            if isa(white_player, String)\n",
    "                push!(unique_set, white_player)\n",
    "            end\n",
    "\n",
    "            # Check if the \"Black\" key exists in the headers and is a string, then add it.\n",
    "            black_player = get(game.headers, \"Black\", nothing)\n",
    "            if isa(black_player, String)\n",
    "                push!(unique_set, black_player)\n",
    "            end\n",
    "\n",
    "            # println(get(game.headers, \"White\"))\n",
    "            # println(get(game.headers, \"Black\"))\n",
    "            # println(game.headers)\n",
    "        end\n",
    "\n",
    "        # # Draw numbers up to the remaining amount needed\n",
    "        # new_draws = rand(1:range, (n - length(drawn)))\n",
    "        # # Add them to the set (automatically filters out duplicates)\n",
    "    end\n",
    "\n",
    "    # Correctly convert the set to a vector\n",
    "    return collect(unique_set)\n",
    "end\n"
   ]
  },
  {
   "cell_type": "code",
   "execution_count": 5,
   "id": "15f081ce-afe1-45a1-a909-cdecb3344c90",
   "metadata": {},
   "outputs": [
    {
     "name": "stdout",
     "output_type": "stream",
     "text": [
      "A total of 2314 unique players in ./data/pipeline1_exported/classical_intermediate.pgn\n",
      "The list of players is written in file ./log/unique_player_classical_intermediate.csv\n"
     ]
    }
   ],
   "source": [
    "filename = \"./data/pipeline1_exported/classical_intermediate.pgn\"\n",
    "unique_player = unique_players(filename)\n",
    "\n",
    "# Convert the list of unique players into a DataFrame\n",
    "unique_player_df = DataFrame(Players=unique_player)\n",
    "\n",
    "log_path = \"./log\"\n",
    "unique_player_log = \"$log_path/unique_player_classical_intermediate.csv\"\n",
    "\n",
    "# Write the DataFrame to a new CSV file\n",
    "CSV.write(unique_player_log, unique_player_df)\n",
    "\n",
    "\n",
    "println(\"A total of $(length(unique_player)) unique players in $filename\")\n",
    "println(\"The list of players is written in file $unique_player_log\")"
   ]
  },
  {
   "cell_type": "code",
   "execution_count": null,
   "id": "5fddce25-00ef-4bb5-a4f3-62f06827a8f2",
   "metadata": {},
   "outputs": [],
   "source": []
  }
 ],
 "metadata": {
  "kernelspec": {
   "display_name": "Julia 1.9.4",
   "language": "julia",
   "name": "julia-1.9"
  },
  "language_info": {
   "file_extension": ".jl",
   "mimetype": "application/julia",
   "name": "julia",
   "version": "1.9.4"
  }
 },
 "nbformat": 4,
 "nbformat_minor": 5
}
