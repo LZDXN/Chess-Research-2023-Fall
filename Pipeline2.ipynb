{
 "cells": [
  {
   "cell_type": "code",
   "execution_count": null,
   "id": "91a79d54-0fcc-4c93-a55f-632e921b6d7a",
   "metadata": {},
   "outputs": [],
   "source": [
    "using Base: start, Process, pipeline, run, read, write, close\n",
    "\n",
    "# Start Stockfish engine process\n",
    "engine = start(`stockfish`)\n",
    "\n",
    "# Function to send commands to Stockfish\n",
    "function send_command(engine, command::String)\n",
    "    write(engine.in, command * \"\\n\")\n",
    "    flush(engine.in)\n",
    "end\n",
    "\n",
    "# Function to read lines from Stockfish\n",
    "function read_lines(engine)\n",
    "    while true\n",
    "        line = readline(engine.out)\n",
    "        println(line)\n",
    "    end\n",
    "end\n",
    "\n",
    "# Initialize and configure Stockfish\n",
    "send_command(engine, \"uci\")\n",
    "send_command(engine, \"setoption name Skill Level value 20\")\n",
    "\n",
    "# Set up the board and start calculation\n",
    "send_command(engine, \"position startpos\")\n",
    "send_command(engine, \"go depth 20\")\n",
    "\n",
    "# Read and print the engine's output\n",
    "read_lines(engine)\n",
    "\n",
    "# Close the engine when done\n",
    "close(engine)\n"
   ]
  }
 ],
 "metadata": {
  "kernelspec": {
   "display_name": "Julia 1.9.4",
   "language": "julia",
   "name": "julia-1.9"
  },
  "language_info": {
   "file_extension": ".jl",
   "mimetype": "application/julia",
   "name": "julia",
   "version": "1.9.4"
  }
 },
 "nbformat": 4,
 "nbformat_minor": 5
}
