{
 "cells": [
  {
   "cell_type": "markdown",
   "id": "b38709f7-4f75-469f-a9df-4418b1d44f7c",
   "metadata": {},
   "source": [
    "# Pipeline 2 - Stockfish engine evaluation"
   ]
  },
  {
   "cell_type": "markdown",
   "id": "259bf558-1f4f-4f83-a5e7-79f56b250993",
   "metadata": {},
   "source": [
    "## Inputs\n",
    "- The extracted files from previous pipeline 1\n",
    "\n",
    "## Output\n",
    "- A csv file"
   ]
  },
  {
   "cell_type": "markdown",
   "id": "afab3e8b-c4b0-4a36-a066-4dab1ee9a65d",
   "metadata": {},
   "source": [
    "## CSV file columns\n",
    "For each row of the csv file, the output contains:\n",
    "- **Basic game info**\n",
    "    - WhiteUsername\n",
    "    - BlackUsername\n",
    "    - WhiteElo\n",
    "    - BlackElo\n",
    "    - EloDifference\n",
    "    - TimeControl\n",
    "    - Opening\n",
    "    - GameId\n",
    "- **Moving info**\n",
    "    - MoveId\n",
    "    - RemainingTime\n",
    "    - MovePlayed\n",
    "    - MovePlayedEval\n",
    "    - ProcessTime\n",
    "    - NumberofNodes\n",
    "- **Algorithm prediction** ($n$ from $1$ to $5$)\n",
    "    - best_move_$n$,\n",
    "    - best_score_$n$,\n",
    "    - ProcessTime_$n$,\n",
    "    - NumberofNodes_$n$,"
   ]
  },
  {
   "cell_type": "markdown",
   "id": "3c8a2e4a-83d5-4c0e-be22-df44fb138522",
   "metadata": {},
   "source": [
    "---"
   ]
  },
  {
   "cell_type": "markdown",
   "id": "b6648405-310c-48a7-9cb2-f603ce9b6585",
   "metadata": {},
   "source": [
    "## Import libraries"
   ]
  },
  {
   "cell_type": "code",
   "execution_count": 1,
   "id": "2760cb37-8416-4280-be1f-e60e34318eb2",
   "metadata": {},
   "outputs": [
    {
     "data": {
      "text/plain": [
       "PyObject <module 'chess.engine' from '/home/ubuntu/.local/lib/python3.10/site-packages/chess/engine.py'>"
      ]
     },
     "execution_count": 1,
     "metadata": {},
     "output_type": "execute_result"
    }
   ],
   "source": [
    "# import julia libraries\n",
    "using PyCall\n",
    "using CSV\n",
    "using DataFrames\n",
    "using Plots\n",
    "\n",
    "# import python chess library\n",
    "@pyimport chess\n",
    "cp = pyimport(\"chess.pgn\")\n",
    "ce = pyimport(\"chess.engine\")"
   ]
  },
  {
   "cell_type": "markdown",
   "id": "1a0ca765-8716-4e59-96ee-cdd524b12e19",
   "metadata": {},
   "source": [
    "## Path"
   ]
  },
  {
   "cell_type": "code",
   "execution_count": 2,
   "id": "e6d16c70-10ad-4469-9d4a-88891767ab1f",
   "metadata": {},
   "outputs": [
    {
     "data": {
      "text/plain": [
       "\"./log/\""
      ]
     },
     "execution_count": 2,
     "metadata": {},
     "output_type": "execute_result"
    }
   ],
   "source": [
    "# Constants\n",
    "const STOCKFISH_PATH = \"/usr/local/bin/stockfish\"\n",
    "\n",
    "const DATA_PATH = \"./data/\"\n",
    "const INPUT_DATA_PATH = \"$(DATA_PATH)pipeline1_exported/\" # file type: .pgn\n",
    "const OUTPUT_DATA_PATH = \"$(DATA_PATH)pipeline2_exported/\" # file type: .csv\n",
    "\n",
    "const TEMPLATE_FILE_PATH = \"$(DATA_PATH)expected_output_template.csv\"\n",
    "\n",
    "# File types\n",
    "const INPUT_FILETYPE = \".pgn\"\n",
    "const OUTPUT_FILETYPE = \".csv\"\n",
    "\n",
    "# Log\n",
    "const LOG_FILE_PATH = \"./log/\""
   ]
  },
  {
   "cell_type": "code",
   "execution_count": 3,
   "id": "a5461648-7676-4b7e-acfb-67b91eaa7d93",
   "metadata": {},
   "outputs": [],
   "source": [
    "# pgn_file = open(input_filename)\n",
    "# game = cp.read_game(pgn_file)"
   ]
  },
  {
   "cell_type": "markdown",
   "id": "32d69901-a5be-432c-873b-5d97077c246b",
   "metadata": {},
   "source": [
    "## Methods"
   ]
  },
  {
   "cell_type": "markdown",
   "id": "eb564357-04ef-4b03-8072-50bf5ccdf962",
   "metadata": {},
   "source": [
    "### From the Pipeline1"
   ]
  },
  {
   "cell_type": "code",
   "execution_count": 4,
   "id": "0ff2adf6-ace7-4464-8be2-c203d4b58485",
   "metadata": {},
   "outputs": [
    {
     "data": {
      "text/plain": [
       "write_log (generic function with 1 method)"
      ]
     },
     "execution_count": 4,
     "metadata": {},
     "output_type": "execute_result"
    }
   ],
   "source": [
    "function write_log(filename::String, message::String; overwrite::Bool=false)\n",
    "    file_mode = \"\"\n",
    "    if overwrite\n",
    "        file_mode = \"w\"\n",
    "    else\n",
    "        # Check if the file exists\n",
    "        file_mode = isfile(filename) ? \"a\" : \"w\"\n",
    "    end\n",
    "\n",
    "    # Open the file with appropriate mode\n",
    "    open(filename, file_mode) do file\n",
    "        # Append the string to the file\n",
    "        write(file, \"$message\")\n",
    "    end\n",
    "end"
   ]
  },
  {
   "cell_type": "code",
   "execution_count": 5,
   "id": "8b80861f-5cda-4b63-a568-f7bea3e8c9b7",
   "metadata": {},
   "outputs": [
    {
     "data": {
      "text/plain": [
       "game_cell_filename (generic function with 1 method)"
      ]
     },
     "execution_count": 5,
     "metadata": {},
     "output_type": "execute_result"
    }
   ],
   "source": [
    "function game_cell_filename(criteria_result)::String\n",
    "    time_group, elo_group = criteria_result\n",
    "\n",
    "    # Mapping time groups to their string representations\n",
    "    time_control = if time_group == 1\n",
    "        \"blitz\"\n",
    "    elseif time_group == 2\n",
    "        \"rapid\"\n",
    "    elseif time_group == 3\n",
    "        \"classical\"\n",
    "    end\n",
    "\n",
    "    # Mapping ELO groups to their string representations\n",
    "    elo_range = if elo_group == 1\n",
    "        \"beginner\"\n",
    "    elseif elo_group == 2\n",
    "        \"intermediate\"\n",
    "    elseif elo_group == 3\n",
    "        \"expert\"\n",
    "    end\n",
    "\n",
    "    filename = \"$(time_control)_$(elo_range)\"\n",
    "\n",
    "    return filename\n",
    "end"
   ]
  },
  {
   "cell_type": "markdown",
   "id": "c0dfab36-8ee7-470f-80f3-f92770dc178f",
   "metadata": {},
   "source": [
    "#### Test file paths"
   ]
  },
  {
   "cell_type": "code",
   "execution_count": 6,
   "id": "231c61ea-35e6-4d1d-bc9a-e6a2a656a663",
   "metadata": {},
   "outputs": [],
   "source": [
    "# cell_name = game_cell_filename((3,3))"
   ]
  },
  {
   "cell_type": "code",
   "execution_count": 7,
   "id": "3cdd0dbb-5892-4692-b8c9-af49acdc50a4",
   "metadata": {},
   "outputs": [],
   "source": [
    "# log_filename = \"$(LOG_FILE_PATH)P2_$cell_name.log\""
   ]
  },
  {
   "cell_type": "code",
   "execution_count": 8,
   "id": "41635ec7-d644-402c-bdd1-9c8f825d5052",
   "metadata": {},
   "outputs": [],
   "source": [
    "# input_filename = \"$INPUT_DATA_PATH$cell_name$INPUT_FILETYPE\""
   ]
  },
  {
   "cell_type": "code",
   "execution_count": 9,
   "id": "350d17c1-e6a2-4a0d-92cc-96bc6f281678",
   "metadata": {},
   "outputs": [],
   "source": [
    "# output_filename = \"$OUTPUT_DATA_PATH$cell_name$OUTPUT_FILETYPE\""
   ]
  },
  {
   "cell_type": "markdown",
   "id": "e1460411-8580-42c4-9c2d-dd88432a4d4a",
   "metadata": {},
   "source": [
    "### From Pipeline 2"
   ]
  },
  {
   "cell_type": "code",
   "execution_count": 10,
   "id": "3a590335-a56e-423c-b7b0-a541ab203e02",
   "metadata": {},
   "outputs": [
    {
     "data": {
      "text/plain": [
       "template_output (generic function with 1 method)"
      ]
     },
     "execution_count": 10,
     "metadata": {},
     "output_type": "execute_result"
    }
   ],
   "source": [
    "function template_output(filename::String)\n",
    "    game_data = DataFrame(\n",
    "        GameOrder = Int64[],\n",
    "        # basic_game_info()\n",
    "        WhiteUsername = String[], BlackUsername = String[], WhiteElo = Int64[], BlackElo = Int64[], \n",
    "        EloDifference = Int64[], TimeControl = String[], Opening = String[], GameId = String[],\n",
    "        # per_move_info()\n",
    "        MoveId = Int64[], MovePlayed = String[], RemainingTime = Float64[],\n",
    "        # post_game()\n",
    "        MoveEvaluation = Int64[],\n",
    "        # per_move_prediction()\n",
    "        best_move_1 = String[], best_mate_1 = Int64[], best_score_1 = Int64[], processTime_1 = Float64[], numberofNodes_1 = Int64[], \n",
    "        best_move_2 = String[], best_mate_2 = Int64[], best_score_2 = Int64[], processTime_2 = Float64[], numberofNodes_2 = Int64[], \n",
    "        best_move_3 = String[], best_mate_3 = Int64[], best_score_3 = Int64[], processTime_3 = Float64[], numberofNodes_3 = Int64[], \n",
    "        best_move_4 = String[], best_mate_4 = Int64[], best_score_4 = Int64[], processTime_4 = Float64[], numberofNodes_4 = Int64[], \n",
    "        best_move_5 = String[], best_mate_5 = Int64[], best_score_5 = Int64[], processTime_5 = Float64[], numberofNodes_5 = Int64[]\n",
    "    )\n",
    "    CSV.write(filename, game_data)\n",
    "end"
   ]
  },
  {
   "cell_type": "code",
   "execution_count": 11,
   "id": "b8938e58-2966-463e-a7e7-ab2d79bfaf9f",
   "metadata": {},
   "outputs": [],
   "source": [
    "# template_output(\"./template_test_output.csv\")"
   ]
  },
  {
   "cell_type": "code",
   "execution_count": 12,
   "id": "f02b6b52-d562-474f-a47c-5cb1d29612b5",
   "metadata": {},
   "outputs": [
    {
     "data": {
      "text/plain": [
       "initialize_stockfish (generic function with 1 method)"
      ]
     },
     "execution_count": 12,
     "metadata": {},
     "output_type": "execute_result"
    }
   ],
   "source": [
    "function initialize_stockfish(STOCKFISH_PATH)\n",
    "    stockfish = ce.SimpleEngine.popen_uci(STOCKFISH_PATH)\n",
    "\n",
    "    return stockfish\n",
    "end"
   ]
  },
  {
   "cell_type": "code",
   "execution_count": 13,
   "id": "84c1617f-fe46-4263-b0c3-53ae4d188501",
   "metadata": {},
   "outputs": [],
   "source": [
    "# stockfish = initialize_stockfish(STOCKFISH_PATH)"
   ]
  },
  {
   "cell_type": "code",
   "execution_count": 14,
   "id": "fa038c90-bb91-4a4a-a36f-62dcd9011409",
   "metadata": {},
   "outputs": [
    {
     "data": {
      "text/plain": [
       "basic_game_info (generic function with 1 method)"
      ]
     },
     "execution_count": 14,
     "metadata": {},
     "output_type": "execute_result"
    }
   ],
   "source": [
    "function basic_game_info(game)\n",
    "    headers = game.headers\n",
    "\n",
    "    WhiteUsername = get(headers, \"White\", \"NA\")\n",
    "    BlackUsername = get(headers, \"Black\", \"NA\")\n",
    "    WhiteElo = parse(Int64, get(headers, \"WhiteElo\", \"0\"))\n",
    "    BlackElo = parse(Int64, get(headers, \"BlackElo\", \"0\"))\n",
    "    EloDifference = WhiteElo - BlackElo\n",
    "    TimeControl = get(headers, \"TimeControl\", \"NA\")\n",
    "    Opening = get(headers, \"Opening\", \"NA\")\n",
    "    GameId = split(get(headers, \"Site\", \"NA\"), \"/\")[end]\n",
    "\n",
    "    basic_game_info = DataFrame(\n",
    "        WhiteUsername = [WhiteUsername],\n",
    "        BlackUsername = [BlackUsername],\n",
    "        WhiteElo = [WhiteElo],\n",
    "        BlackElo = [BlackElo],\n",
    "        EloDifference = [EloDifference],\n",
    "        TimeControl = [TimeControl],\n",
    "        Opening = [Opening],\n",
    "        GameId = [GameId]\n",
    "    )\n",
    "\n",
    "    return basic_game_info\n",
    "end"
   ]
  },
  {
   "cell_type": "code",
   "execution_count": 15,
   "id": "a1114c8a-d0f1-4f3f-8ab1-cc90b12c444b",
   "metadata": {},
   "outputs": [],
   "source": [
    "# basic_game_info(game)"
   ]
  },
  {
   "cell_type": "markdown",
   "id": "514367f6-a2a9-4e80-91b2-d0b6f5f17beb",
   "metadata": {},
   "source": [
    "- **Moving info**\n",
    "    - MoveId\n",
    "    - RemainingTime\n",
    "    - MovePlayed\n",
    "    - MovePlayedEval\n",
    "    - ProcessTime\n",
    "    - NumberofNodes\n",
    "- **Algorithm prediction** ($n$ from $1$ to $5$)\n",
    "    - best_move_$n$,\n",
    "    - best_score_$n$,\n",
    "    - ProcessTime_$n$,\n",
    "    - NumberofNodes_$n$,\n",
    "\n",
    "--\n",
    "\n",
    "- Clock: `[%clk ...]`\n",
    "- Eval: `[%eval ...]`"
   ]
  },
  {
   "cell_type": "code",
   "execution_count": 16,
   "id": "218e46b0-efb6-4408-b5bb-bd8d4b16e0fc",
   "metadata": {},
   "outputs": [
    {
     "data": {
      "text/plain": [
       "per_move_info (generic function with 1 method)"
      ]
     },
     "execution_count": 16,
     "metadata": {},
     "output_type": "execute_result"
    }
   ],
   "source": [
    "function per_move_info(stockfish, curr_move, MoveId)\n",
    "    board = curr_move.board()\n",
    "\n",
    "    MovePlayed = (curr_move.move == nothing) ? \"\" : curr_move.move.uci()\n",
    "    RemainingTime = curr_move.clock() == nothing ? -999.999 : curr_move.clock()\n",
    "\n",
    "    # write_log(log_filename, \"$MoveId: \")\n",
    "    \n",
    "    move_info = DataFrame(\n",
    "        MoveId = MoveId, MovePlayed = MovePlayed, RemainingTime = RemainingTime\n",
    "    )\n",
    "\n",
    "    return move_info\n",
    "\n",
    "end"
   ]
  },
  {
   "cell_type": "code",
   "execution_count": 17,
   "id": "ed7adada-62ae-4be8-84e9-a437b1d97977",
   "metadata": {},
   "outputs": [],
   "source": [
    "# per_move_info(stockfish, game.next(), 1)"
   ]
  },
  {
   "cell_type": "code",
   "execution_count": 18,
   "id": "f9bfe6d8-db57-400c-a5f8-1dfda7481c4c",
   "metadata": {},
   "outputs": [
    {
     "data": {
      "text/plain": [
       "per_move_prediction (generic function with 3 methods)"
      ]
     },
     "execution_count": 18,
     "metadata": {},
     "output_type": "execute_result"
    }
   ],
   "source": [
    "function per_move_prediction(stockfish, curr_move, log_filename::String, depth::Int64 = 20, multipv::Int64 = 5)\n",
    "    board = curr_move.board()\n",
    "    analysis_results = stockfish.analyse(board, ce.Limit(depth=depth), multipv=multipv)\n",
    "\n",
    "    best_moves = String[]\n",
    "    best_mates = Int64[]\n",
    "    best_scores = Int64[]\n",
    "    processTimes = Float64[]\n",
    "    numberofNodes = Int64[]\n",
    "\n",
    "    for (index, result) in enumerate(analysis_results)\n",
    "        if haskey(result, \"pv\") == false\n",
    "            continue\n",
    "        end\n",
    "\n",
    "        append!(best_moves, String[result[\"pv\"][1].uci()])\n",
    "        score = result[\"score\"].white()\n",
    "        \n",
    "        if score.is_mate() == true\n",
    "            # print(\"Mate($index) is $(score.mate()); \")\n",
    "            write_log(log_filename, \"Mate($index) is $(score.mate()); \")\n",
    "            append!(best_mates, score.mate())\n",
    "            append!(best_scores, -999999)\n",
    "        else\n",
    "            # print(\"Cp($index) is $(score.score());\")\n",
    "            write_log(log_filename, \"Cp($index) is $(score.score()); \")\n",
    "            append!(best_mates, -999999)\n",
    "            append!(best_scores, score.score())\n",
    "        end\n",
    "        append!(processTimes, get(result, \"time\", 0.000000))\n",
    "        append!(numberofNodes, get(result, \"nodes\", 0))\n",
    "    end\n",
    "\n",
    "    for i = (length(best_moves) + 1):5\n",
    "        push!(best_moves, \"\")\n",
    "        push!(best_mates, -999999)\n",
    "        push!(best_scores, -999999)\n",
    "        push!(processTimes, 0.0000)\n",
    "        push!(numberofNodes, -999999)\n",
    "    end\n",
    "\n",
    "    move_info = DataFrame(\n",
    "        best_move_1 = best_moves[1], best_mate_1 = best_mates[1], best_score_1 = best_scores[1], processTime_1 = processTimes[1], numberofNodes_1 = numberofNodes[1],\n",
    "        best_move_2 = best_moves[2], best_mate_2 = best_mates[2], best_score_2 = best_scores[2], processTime_2 = processTimes[2], numberofNodes_2 = numberofNodes[2],\n",
    "        best_move_3 = best_moves[3], best_mate_3 = best_mates[3], best_score_3 = best_scores[3], processTime_3 = processTimes[3], numberofNodes_3 = numberofNodes[3],\n",
    "        best_move_4 = best_moves[4], best_mate_4 = best_mates[4], best_score_4 = best_scores[4], processTime_4 = processTimes[4], numberofNodes_4 = numberofNodes[4],\n",
    "        best_move_5 = best_moves[5], best_mate_5 = best_mates[5], best_score_5 = best_scores[5], processTime_5 = processTimes[5], numberofNodes_5 = numberofNodes[5]\n",
    "    )\n",
    "    \n",
    "    return move_info\n",
    "\n",
    "end"
   ]
  },
  {
   "cell_type": "code",
   "execution_count": 19,
   "id": "b896c18c-b132-4fcc-b010-5e7533b02c9a",
   "metadata": {},
   "outputs": [],
   "source": [
    "# per_move_prediction(stockfish, game, log_filename)"
   ]
  },
  {
   "cell_type": "code",
   "execution_count": 20,
   "id": "91e733f7-dc03-49c3-a472-89c7ea056079",
   "metadata": {},
   "outputs": [
    {
     "data": {
      "text/plain": [
       "per_game (generic function with 1 method)"
      ]
     },
     "execution_count": 20,
     "metadata": {},
     "output_type": "execute_result"
    }
   ],
   "source": [
    "function per_game(stockfish, curr_game, game_order::Int64, log_filename::String)\n",
    "    # Log data analysis\n",
    "    start_time = time() # Start processing ...\n",
    "\n",
    "    # Not using `ucinewgame` since this is not actual playing\n",
    "    # Re-initialize engine per each game\n",
    "    ce.Protocol.initialize(stockfish)\n",
    "\n",
    "    engine_time_stop = time() - start_time\n",
    "    write_log(log_filename, \"\\n\")\n",
    "    write_log(log_filename, \"Spent $engine_time_stop to initialize engine\")\n",
    "\n",
    "    # Constant info per each game\n",
    "    game = curr_game\n",
    "    base_info = basic_game_info(curr_game)\n",
    "    gid = DataFrame(GameOrder = game_order)\n",
    "\n",
    "    MoveId = 0\n",
    "    gids = DataFrame(GameOrder = Int64[])\n",
    "    base_infos = DataFrame(\n",
    "        # basic_game_info()\n",
    "        WhiteUsername = String[], BlackUsername = String[], WhiteElo = Int64[], BlackElo = Int64[], \n",
    "        EloDifference = Int64[], TimeControl = String[], Opening = String[], GameId = String[]\n",
    "    )\n",
    "    per_move_infos = DataFrame(\n",
    "        # per_move_info()\n",
    "        MoveId = Int64[], MovePlayed = String[], RemainingTime = Float64[]\n",
    "    )\n",
    "    per_move_predictions = DataFrame(\n",
    "        # per_move_prediction()\n",
    "        best_move_1 = String[], best_mate_1 = Int64[], best_score_1 = Int64[], processTime_1 = Float64[], numberofNodes_1 = Int64[], \n",
    "        best_move_2 = String[], best_mate_2 = Int64[], best_score_2 = Int64[], processTime_2 = Float64[], numberofNodes_2 = Int64[], \n",
    "        best_move_3 = String[], best_mate_3 = Int64[], best_score_3 = Int64[], processTime_3 = Float64[], numberofNodes_3 = Int64[], \n",
    "        best_move_4 = String[], best_mate_4 = Int64[], best_score_4 = Int64[], processTime_4 = Float64[], numberofNodes_4 = Int64[], \n",
    "        best_move_5 = String[], best_mate_5 = Int64[], best_score_5 = Int64[], processTime_5 = Float64[], numberofNodes_5 = Int64[]\n",
    "    )\n",
    "\n",
    "    while true\n",
    "        # print(\"\\nMove $MoveId processing...\")\n",
    "        write_log(log_filename, \"\\nMove $MoveId processing...\")\n",
    "\n",
    "        if MoveId == 0\n",
    "            per_move_predictions = vcat(per_move_predictions, per_move_prediction(stockfish, game, log_filename))\n",
    "            game = game.next()\n",
    "            MoveId += 1\n",
    "            continue\n",
    "        end\n",
    "        \n",
    "        # Add move info and combine output vertically\n",
    "        gids = vcat(gids, gid)\n",
    "        base_infos = vcat(base_infos, base_info)\n",
    "        per_move_infos = vcat(per_move_infos, per_move_info(stockfish, game, MoveId))\n",
    "        per_move_predictions = vcat(per_move_predictions, per_move_prediction(stockfish, game, log_filename))\n",
    "\n",
    "        # Check if the node is the last node of the game\n",
    "        if game.is_end() == true \n",
    "            break\n",
    "        end\n",
    "\n",
    "        # Next move\n",
    "        game = game.next()\n",
    "        MoveId += 1\n",
    "\n",
    "    end\n",
    "\n",
    "    # Data combination\n",
    "    per_move_predictions = per_move_predictions[1:end-1, :]\n",
    "    game_infos = hcat(gids, base_infos)\n",
    "    move_infos = hcat(per_move_infos, per_move_predictions)\n",
    "    game_data = hcat(game_infos, move_infos)\n",
    "\n",
    "    # Log data analysis\n",
    "    end_time = time() # End processing ...\n",
    "    one_game_time_elapsed = end_time - start_time\n",
    "    # println(\"Process time: $one_game_time_elapsed\")\n",
    "    write_log(log_filename, \"\\n\")\n",
    "    write_log(log_filename, \"Game $game_order whole process time: $one_game_time_elapsed, number of games: $MoveId\")\n",
    "\n",
    "    log_time = DataFrame(\n",
    "        GameId = game_order, NumberOfMoves = MoveId, TotalProcessTime = one_game_time_elapsed\n",
    "    )\n",
    "    \n",
    "    CSV.write(\"$log_filename.csv\", log_time, append=true)\n",
    "\n",
    "    return game_data\n",
    "    \n",
    "end"
   ]
  },
  {
   "cell_type": "code",
   "execution_count": 21,
   "id": "f57b0b5a-8c09-4faf-b3e8-d72e6e4b3629",
   "metadata": {},
   "outputs": [],
   "source": [
    "# @time one_game = per_game(stockfish, game, 1, log_filename)"
   ]
  },
  {
   "cell_type": "code",
   "execution_count": 22,
   "id": "fb68afe1-f5a2-4f96-b5f8-79cbecae0304",
   "metadata": {},
   "outputs": [
    {
     "data": {
      "text/plain": [
       "post_game (generic function with 1 method)"
      ]
     },
     "execution_count": 22,
     "metadata": {},
     "output_type": "execute_result"
    }
   ],
   "source": [
    "function post_game(data)\n",
    "    # Initialize an array\n",
    "    move_eva = Int64[]\n",
    "    game_data = copy(data)\n",
    "    \n",
    "    for i in 2:(size(game_data, 1))\n",
    "        # # Centi-pawn -> Cp()\n",
    "        # t_n1_score = game_data[i - 1, :best_score_1]\n",
    "        # t_score = game_data[i, :best_score_1]\n",
    "        # # Mate -> Mate()\n",
    "        # t_n1_mate = game_data[i - 1, :best_mate_1]\n",
    "        # t_mate = game_data[i, :best_mate_1]\n",
    "\n",
    "        # # diff = Cp(t) - Cp(t-1)\n",
    "        # diff = t_score - t_n1_score\n",
    "        # if t_n1_mate != -999999 && t_mate != -999999 # If it is on mating process\n",
    "        #     # diff = Mate(t) - Mate(t-1)\n",
    "        #     diff = t_mate - t_n1_mate\n",
    "        # elseif t_n1_mate == -999999 && t_score == -999999 # If it switches from Cp() to Mate()\n",
    "        #     # diff = nothing\n",
    "        #     diff = -999999\n",
    "        # end\n",
    "\n",
    "        # push!(move_eva, diff)\n",
    "        push!(move_eva, game_data[i, :best_score_1])\n",
    " \n",
    "    end\n",
    "\n",
    "    for i = size(move_eva)[1]:(size(game_data)[1] - 1)\n",
    "        push!(move_eva, -999999)\n",
    "    end\n",
    "\n",
    "    insertcols!(game_data, findfirst(x -> x == \"RemainingTime\", names(game_data)), :MoveEvaluation => move_eva)\n",
    "\n",
    "    return game_data\n",
    "end"
   ]
  },
  {
   "cell_type": "code",
   "execution_count": 23,
   "id": "7e9204bd-b12c-4c84-aab1-8a201cda2cba",
   "metadata": {},
   "outputs": [],
   "source": [
    "# post_game(one_game)"
   ]
  },
  {
   "cell_type": "code",
   "execution_count": 24,
   "id": "a07670ae-69ef-47f2-b8b4-45b1e6ea0e3f",
   "metadata": {},
   "outputs": [],
   "source": [
    "# CSV.write(\"one_game_sample_data.csv\", post_game(one_game))"
   ]
  },
  {
   "cell_type": "code",
   "execution_count": 25,
   "id": "05999c1d-e67a-4546-bfb5-52888a9f38ca",
   "metadata": {},
   "outputs": [
    {
     "data": {
      "text/plain": [
       "per_file (generic function with 1 method)"
      ]
     },
     "execution_count": 25,
     "metadata": {},
     "output_type": "execute_result"
    }
   ],
   "source": [
    "function per_file(stockfish, input_filename::String, output_filename::String, log_filename::String)\n",
    "    pgn_file = open(input_filename)\n",
    "\n",
    "    data_template = DataFrame(\n",
    "        # per_game()\n",
    "        GameOrder = Int64[],\n",
    "        # basic_game_info()\n",
    "        WhiteUsername = String[], BlackUsername = String[], WhiteElo = Int64[], BlackElo = Int64[], \n",
    "        EloDifference = Int64[], TimeControl = String[], Opening = String[], GameId = String[],\n",
    "        # per_move_info() & post_game()\n",
    "        MoveId = Int64[], MovePlayed = String[], MoveEvaluation = Int64[], RemainingTime = Float64[],\n",
    "        # per_move_prediction()\n",
    "        best_move_1 = String[], best_mate_1 = Int64[], best_score_1 = Int64[], processTime_1 = Float64[], numberofNodes_1 = Int64[], \n",
    "        best_move_2 = String[], best_mate_2 = Int64[], best_score_2 = Int64[], processTime_2 = Float64[], numberofNodes_2 = Int64[], \n",
    "        best_move_3 = String[], best_mate_3 = Int64[], best_score_3 = Int64[], processTime_3 = Float64[], numberofNodes_3 = Int64[], \n",
    "        best_move_4 = String[], best_mate_4 = Int64[], best_score_4 = Int64[], processTime_4 = Float64[], numberofNodes_4 = Int64[], \n",
    "        best_move_5 = String[], best_mate_5 = Int64[], best_score_5 = Int64[], processTime_5 = Float64[], numberofNodes_5 = Int64[]\n",
    "    )\n",
    "\n",
    "    column_order = [\n",
    "        :GameOrder,\n",
    "        :WhiteUsername, :BlackUsername, :WhiteElo, :BlackElo,\n",
    "        :EloDifference, :TimeControl, :Opening, :GameId,\n",
    "        :MoveId, :MovePlayed, :MoveEvaluation, :RemainingTime,\n",
    "        :best_move_1, :best_mate_1, :best_score_1, :processTime_1, :numberofNodes_1,\n",
    "        :best_move_2, :best_mate_2, :best_score_2, :processTime_2, :numberofNodes_2,\n",
    "        :best_move_3, :best_mate_3, :best_score_3, :processTime_3, :numberofNodes_3,\n",
    "        :best_move_4, :best_mate_4, :best_score_4, :processTime_4, :numberofNodes_4,\n",
    "        :best_move_5, :best_mate_5, :best_score_5, :processTime_5, :numberofNodes_5\n",
    "    ]\n",
    "\n",
    "    log_time_template = DataFrame(\n",
    "        GameId = Int64[], NumberOfGame = Int64[], OverAllTime = Float64[]\n",
    "    )\n",
    "        \n",
    "    CSV.write(output_filename, data_template, cols=column_order)\n",
    "    CSV.write(\"$log_filename.csv\", log_time_template)\n",
    "    \n",
    "    # for GameId = 1:3\n",
    "    while !isnothing(game)\n",
    "        # println(\"\\nGame $GameId ......\")\n",
    "        write_log(log_filename, \"\\nGame $GameId ......\")\n",
    "    \n",
    "        game = cp.read_game(pgn_file)\n",
    "        if game == nothing\n",
    "            close(pgn_file)\n",
    "            return\n",
    "        end\n",
    "\n",
    "        one_game_rows = post_game(per_game(stockfish, game, GameId, log_filename))\n",
    "        CSV.write(output_filename, one_game_rows, append=true, cols=column_order)\n",
    "\n",
    "    end\n",
    "\n",
    "    close(pgn_file)\n",
    "\n",
    "end"
   ]
  },
  {
   "cell_type": "code",
   "execution_count": 26,
   "id": "5befcd83-b08c-4258-8aa3-5c0a4cda7112",
   "metadata": {},
   "outputs": [],
   "source": [
    "# test_output_filename = \"./test_output.csv\""
   ]
  },
  {
   "cell_type": "code",
   "execution_count": 27,
   "id": "c115437a-f512-4b85-a946-c47b8761ce3c",
   "metadata": {},
   "outputs": [],
   "source": [
    "# per_file(stockfish, input_filename, test_output_filename, log_filename)"
   ]
  },
  {
   "cell_type": "code",
   "execution_count": 28,
   "id": "5cc8233a-d9db-41ea-8d4f-336abb1c4818",
   "metadata": {},
   "outputs": [
    {
     "data": {
      "text/plain": [
       "main (generic function with 1 method)"
      ]
     },
     "execution_count": 28,
     "metadata": {},
     "output_type": "execute_result"
    }
   ],
   "source": [
    "function main()\n",
    "    stockfish = initialize_stockfish(STOCKFISH_PATH)\n",
    "    for i in 1:3\n",
    "        for j in 1:3\n",
    "            cell_name = game_cell_filename((i,j))\n",
    "            log_filename = \"$(LOG_FILE_PATH)P2_$cell_name.log\"\n",
    "            input_filename = \"$INPUT_DATA_PATH$cell_name$INPUT_FILETYPE\"\n",
    "            output_filename = \"$OUTPUT_DATA_PATH$cell_name$OUTPUT_FILETYPE\"\n",
    "            per_file(stockfish, input_filename, test_output_filename, log_filename)\n",
    "        end\n",
    "    end\n",
    "end"
   ]
  },
  {
   "cell_type": "markdown",
   "id": "b19b6cb4-a048-42bc-86ab-9d84723ac2dc",
   "metadata": {},
   "source": [
    "## Execution"
   ]
  },
  {
   "cell_type": "code",
   "execution_count": null,
   "id": "0a1f2ad0-4bf6-4007-8edd-bb0afc0b7749",
   "metadata": {},
   "outputs": [],
   "source": [
    "main()"
   ]
  }
 ],
 "metadata": {
  "kernelspec": {
   "display_name": "Julia 1.9.4",
   "language": "julia",
   "name": "julia-1.9"
  },
  "language_info": {
   "file_extension": ".jl",
   "mimetype": "application/julia",
   "name": "julia",
   "version": "1.9.4"
  }
 },
 "nbformat": 4,
 "nbformat_minor": 5
}
