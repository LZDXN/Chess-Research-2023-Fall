{
 "cells": [
  {
   "cell_type": "markdown",
   "id": "b38709f7-4f75-469f-a9df-4418b1d44f7c",
   "metadata": {},
   "source": [
    "# Pipeline 2 - Stockfish engine evaluation"
   ]
  },
  {
   "cell_type": "markdown",
   "id": "259bf558-1f4f-4f83-a5e7-79f56b250993",
   "metadata": {},
   "source": [
    "## Inputs\n",
    "- The extracted files from previous pipeline 1\n",
    "\n",
    "## Output\n",
    "- A csv file"
   ]
  },
  {
   "cell_type": "markdown",
   "id": "afab3e8b-c4b0-4a36-a066-4dab1ee9a65d",
   "metadata": {},
   "source": [
    "## CSV file columns\n",
    "For each row of the csv file, the output contains:\n",
    "- **Basic game info**\n",
    "    - WhiteUsername\n",
    "    - BlackUsername\n",
    "    - WhiteElo\n",
    "    - BlackElo\n",
    "    - EloDifference\n",
    "    - TimeControl\n",
    "    - Opening\n",
    "    - GameId\n",
    "- **Moving info**\n",
    "    - MoveId\n",
    "    - RemainingTime\n",
    "    - MovePlayed\n",
    "    - MovePlayedEval\n",
    "    - ProcessTime\n",
    "    - NumberofNodes\n",
    "- **Algorithm prediction** ($n$ from $1$ to $5$)\n",
    "    - best_move_$n$,\n",
    "    - best_score_$n$,\n",
    "    - ProcessTime_$n$,\n",
    "    - NumberofNodes_$n$,"
   ]
  },
  {
   "cell_type": "markdown",
   "id": "0b8409dd-0098-45c8-80c6-a87ca8a840e3",
   "metadata": {},
   "source": [
    "WhiteUsername,BlackUsername,WhiteElo,BlackElo,EloDifference,TimeControl,Opening,GameId,\n",
    "MoveId,RemainingTime,MovePlayed,MovePlayedEval,ProcessTime,NumberofNodes,\n",
    "\n",
    "best_move_1,best_score_1,ProcessTime_1,NumberofNodes_1,\n",
    "best_move_2,best_score_2,ProcessTime_2,NumberofNodes_2,\n",
    "best_move_3,best_score_3,ProcessTime_3,NumberofNodes_3,\n",
    "best_move_4,best_score_4,ProcessTime_4,NumberofNodes_4,\n",
    "best_move_5,best_score_5,ProcessTime_5,NumberofNodes_5"
   ]
  },
  {
   "cell_type": "markdown",
   "id": "3c8a2e4a-83d5-4c0e-be22-df44fb138522",
   "metadata": {},
   "source": [
    "---"
   ]
  },
  {
   "cell_type": "markdown",
   "id": "b6648405-310c-48a7-9cb2-f603ce9b6585",
   "metadata": {},
   "source": [
    "## Import APIs"
   ]
  },
  {
   "cell_type": "code",
   "execution_count": 52,
   "id": "2760cb37-8416-4280-be1f-e60e34318eb2",
   "metadata": {},
   "outputs": [
    {
     "data": {
      "text/plain": [
       "PyObject <module 'chess.engine' from '/home/ubuntu/.local/lib/python3.10/site-packages/chess/engine.py'>"
      ]
     },
     "execution_count": 52,
     "metadata": {},
     "output_type": "execute_result"
    }
   ],
   "source": [
    "# import julia libraries\n",
    "using PyCall\n",
    "using CSV\n",
    "using DataFrames\n",
    "using Plots\n",
    "\n",
    "# import python chess library\n",
    "@pyimport chess\n",
    "cp = pyimport(\"chess.pgn\")\n",
    "ce = pyimport(\"chess.engine\")"
   ]
  },
  {
   "cell_type": "markdown",
   "id": "1a0ca765-8716-4e59-96ee-cdd524b12e19",
   "metadata": {},
   "source": [
    "## Path"
   ]
  },
  {
   "cell_type": "code",
   "execution_count": 3,
   "id": "e6d16c70-10ad-4469-9d4a-88891767ab1f",
   "metadata": {},
   "outputs": [
    {
     "name": "stderr",
     "output_type": "stream",
     "text": [
      "WARNING: redefinition of constant TEMPLATE_FILE_PATH. This may fail, cause incorrect answers, or produce other errors.\n"
     ]
    },
    {
     "data": {
      "text/plain": [
       "\"./data/expected_output_template.csv\""
      ]
     },
     "execution_count": 3,
     "metadata": {},
     "output_type": "execute_result"
    }
   ],
   "source": [
    "# Constants\n",
    "const STOCKFISH_PATH = \"/usr/local/bin/stockfish\"\n",
    "\n",
    "const DATA_PATH = \"./data/\"\n",
    "const INPUT_DATA_PATH = \"$(DATA_PATH)pipeline1_exported/\" # file type: .pgn and .csv file\n",
    "const OUTPUT_DATA_PATH = \"$(DATA_PATH)pipeline2_exported/\" # file type: .csv file\n",
    "\n",
    "const TEMPLATE_FILE_PATH = \"$(DATA_PATH)expected_output_template.csv\"\n",
    "\n",
    "# Variables\n",
    "INPUT_FILENAME = \".pgn\"\n",
    "OUTPUT_FILENAME = \".csv\""
   ]
  },
  {
   "cell_type": "code",
   "execution_count": 5,
   "id": "2e2865e6-a9e6-44d0-b910-fbd80aff12c3",
   "metadata": {},
   "outputs": [
    {
     "data": {
      "text/plain": [
       "\"./test_output.csv\""
      ]
     },
     "execution_count": 5,
     "metadata": {},
     "output_type": "execute_result"
    }
   ],
   "source": [
    "# Test file paths\n",
    "const TEST_INPUT_PATH = \"./pre-pipeline-test/\"\n",
    "const TEST_OUTPUT_PATH = \"./\"\n",
    "\n",
    "const TEST_INPUT_FILENAME = \"$(TEST_INPUT_PATH)test1000.pgn\"\n",
    "const TEST_OUTPUT_FILENAME = \"$(TEST_OUTPUT_PATH)test_output.csv\""
   ]
  },
  {
   "cell_type": "markdown",
   "id": "32d69901-a5be-432c-873b-5d97077c246b",
   "metadata": {},
   "source": [
    "## Methods"
   ]
  },
  {
   "cell_type": "code",
   "execution_count": 28,
   "id": "f02b6b52-d562-474f-a47c-5cb1d29612b5",
   "metadata": {},
   "outputs": [
    {
     "data": {
      "text/plain": [
       "PyObject <SimpleEngine (pid=5771)>"
      ]
     },
     "execution_count": 28,
     "metadata": {},
     "output_type": "execute_result"
    }
   ],
   "source": [
    "function initialize_stockfish(STOCKFISH_PATH)\n",
    "    stockfish = ce.SimpleEngine.popen_uci(STOCKFISH_PATH)\n",
    "    return stockfish\n",
    "end\n",
    "stockfish = initialize_stockfish(STOCKFISH_PATH)"
   ]
  },
  {
   "cell_type": "code",
   "execution_count": 114,
   "id": "368f3f6b-6a1f-41d0-89f8-af0e0530b15a",
   "metadata": {},
   "outputs": [
    {
     "data": {
      "text/plain": [
       "PyObject <Game at 0x7fa29ecb7a30 ('slammayjammay' vs. 'Zedward', '2023.09.01' at 'https://lichess.org/kLKqVm2U')>"
      ]
     },
     "execution_count": 114,
     "metadata": {},
     "output_type": "execute_result"
    }
   ],
   "source": [
    "pgn_file = open(TEST_INPUT_FILENAME)\n",
    "game = cp.read_game(pgn_file)"
   ]
  },
  {
   "cell_type": "code",
   "execution_count": 22,
   "id": "fa038c90-bb91-4a4a-a36f-62dcd9011409",
   "metadata": {},
   "outputs": [
    {
     "data": {
      "text/plain": [
       "basic_game_info (generic function with 1 method)"
      ]
     },
     "execution_count": 22,
     "metadata": {},
     "output_type": "execute_result"
    }
   ],
   "source": [
    "function basic_game_info(game)\n",
    "    headers = game.headers\n",
    "\n",
    "    WhiteUsername = get(headers, \"White\", \"NA\")\n",
    "    BlackUsername = get(headers, \"Black\", \"NA\")\n",
    "    WhiteElo = parse(Int64, get(headers, \"WhiteElo\", \"0\"))\n",
    "    BlackElo = parse(Int64, get(headers, \"BlackElo\", \"0\"))\n",
    "    EloDifference = WhiteElo - BlackElo\n",
    "    TimeControl = get(headers, \"TimeControl\", \"NA\")\n",
    "    Opening = get(headers, \"Opening\", \"NA\")\n",
    "    GameId = split(get(headers, \"Site\", \"NA\"), \"/\")[end]\n",
    "\n",
    "    basic_game_info = DataFrame(WhiteUsername = [WhiteUsername],\n",
    "                   BlackUsername = [BlackUsername],\n",
    "                   WhiteElo = [WhiteElo],\n",
    "                   BlackElo = [BlackElo],\n",
    "                   EloDifference = [EloDifference],\n",
    "                   TimeControl = [TimeControl],\n",
    "                   Opening = [Opening],\n",
    "                   GameId = [GameId])\n",
    "\n",
    "    return basic_game_info\n",
    "end"
   ]
  },
  {
   "cell_type": "code",
   "execution_count": 89,
   "id": "a1114c8a-d0f1-4f3f-8ab1-cc90b12c444b",
   "metadata": {},
   "outputs": [
    {
     "data": {
      "text/html": [
       "<div><div style = \"float: left;\"><span>1×8 DataFrame</span></div><div style = \"clear: both;\"></div></div><div class = \"data-frame\" style = \"overflow-x: scroll;\"><table class = \"data-frame\" style = \"margin-bottom: 6px;\"><thead><tr class = \"header\"><th class = \"rowNumber\" style = \"font-weight: bold; text-align: right;\">Row</th><th style = \"text-align: left;\">WhiteUsername</th><th style = \"text-align: left;\">BlackUsername</th><th style = \"text-align: left;\">WhiteElo</th><th style = \"text-align: left;\">BlackElo</th><th style = \"text-align: left;\">EloDifference</th><th style = \"text-align: left;\">TimeControl</th><th style = \"text-align: left;\">Opening</th><th style = \"text-align: left;\">GameId</th></tr><tr class = \"subheader headerLastRow\"><th class = \"rowNumber\" style = \"font-weight: bold; text-align: right;\"></th><th title = \"String\" style = \"text-align: left;\">String</th><th title = \"String\" style = \"text-align: left;\">String</th><th title = \"Int64\" style = \"text-align: left;\">Int64</th><th title = \"Int64\" style = \"text-align: left;\">Int64</th><th title = \"Int64\" style = \"text-align: left;\">Int64</th><th title = \"String\" style = \"text-align: left;\">String</th><th title = \"String\" style = \"text-align: left;\">String</th><th title = \"SubString{String}\" style = \"text-align: left;\">SubStrin…</th></tr></thead><tbody><tr><td class = \"rowNumber\" style = \"font-weight: bold; text-align: right;\">1</td><td style = \"text-align: left;\">slammayjammay</td><td style = \"text-align: left;\">Zedward</td><td style = \"text-align: right;\">1982</td><td style = \"text-align: right;\">1979</td><td style = \"text-align: right;\">3</td><td style = \"text-align: left;\">60+0</td><td style = \"text-align: left;\">Sicilian Defense: Old Sicilian</td><td style = \"text-align: left;\">kLKqVm2U</td></tr></tbody></table></div>"
      ],
      "text/latex": [
       "\\begin{tabular}{r|cccccccc}\n",
       "\t& WhiteUsername & BlackUsername & WhiteElo & BlackElo & EloDifference & TimeControl & Opening & \\\\\n",
       "\t\\hline\n",
       "\t& String & String & Int64 & Int64 & Int64 & String & String & \\\\\n",
       "\t\\hline\n",
       "\t1 & slammayjammay & Zedward & 1982 & 1979 & 3 & 60+0 & Sicilian Defense: Old Sicilian & $\\dots$ \\\\\n",
       "\\end{tabular}\n"
      ],
      "text/plain": [
       "\u001b[1m1×8 DataFrame\u001b[0m\n",
       "\u001b[1m Row \u001b[0m│\u001b[1m WhiteUsername \u001b[0m\u001b[1m BlackUsername \u001b[0m\u001b[1m WhiteElo \u001b[0m\u001b[1m BlackElo \u001b[0m\u001b[1m EloDifference \u001b[0m\u001b[1m TimeCo\u001b[0m ⋯\n",
       "     │\u001b[90m String        \u001b[0m\u001b[90m String        \u001b[0m\u001b[90m Int64    \u001b[0m\u001b[90m Int64    \u001b[0m\u001b[90m Int64         \u001b[0m\u001b[90m String\u001b[0m ⋯\n",
       "─────┼──────────────────────────────────────────────────────────────────────────\n",
       "   1 │ slammayjammay  Zedward            1982      1979              3  60+0   ⋯\n",
       "\u001b[36m                                                               3 columns omitted\u001b[0m"
      ]
     },
     "execution_count": 89,
     "metadata": {},
     "output_type": "execute_result"
    }
   ],
   "source": [
    "basic_game_info(game)"
   ]
  },
  {
   "cell_type": "markdown",
   "id": "514367f6-a2a9-4e80-91b2-d0b6f5f17beb",
   "metadata": {},
   "source": [
    "- **Moving info**\n",
    "    - MoveId\n",
    "    - RemainingTime\n",
    "    - MovePlayed\n",
    "    - MovePlayedEval\n",
    "    - ProcessTime\n",
    "    - NumberofNodes\n",
    "- **Algorithm prediction** ($n$ from $1$ to $5$)\n",
    "    - best_move_$n$,\n",
    "    - best_score_$n$,\n",
    "    - ProcessTime_$n$,\n",
    "    - NumberofNodes_$n$,\n",
    "\n",
    "--\n",
    "\n",
    "- Clock: `[%clk ...]`\n",
    "- Eval: `[%eval ...]`"
   ]
  },
  {
   "cell_type": "code",
   "execution_count": 72,
   "id": "130e93d8-68f6-44d5-bb45-5fd22dd29c0b",
   "metadata": {},
   "outputs": [
    {
     "data": {
      "text/plain": [
       "moving_info (generic function with 1 method)"
      ]
     },
     "execution_count": 72,
     "metadata": {},
     "output_type": "execute_result"
    }
   ],
   "source": [
    "function moving_info(game)\n",
    "    # Get the current node (latest move played in the game)\n",
    "    current_node = game.next()\n",
    "\n",
    "    # MoveId: Assuming this is the ID of the move in the game\n",
    "    MoveId = current_node.ply()\n",
    "\n",
    "    # MovePlayed: The move leading to the current node\n",
    "    # Using UCI notation for the move, you can also use .san() for standard algebraic notation\n",
    "    MovePlayed = current_node.move.uci()\n",
    "\n",
    "    # RemainingTime: Retrieve the remaining time after the move\n",
    "    RemainingTime = current_node.clock()\n",
    "\n",
    "    MovePlayedEval = nothing\n",
    "    \n",
    "    ProcessTime = nothing\n",
    "    NumberofNodes = nothing\n",
    "    # ProcessTime = best_move_analysis[1][\"time\"]\n",
    "    # NumberofNodes = best_move_analysis[1][\"nodes\"]\n",
    "\n",
    "    return game, MoveId, RemainingTime, MovePlayed, MovePlayedEval, ProcessTime, NumberofNodes\n",
    "end\n",
    "\n",
    "# function moving_info(game)\n",
    "#     MoveId\n",
    "#     RemainingTime\n",
    "#     MovePlayed\n",
    "#     MovePlayedEval\n",
    "#     ProcessTime\n",
    "#     NumberofNodes\n",
    "# end"
   ]
  },
  {
   "cell_type": "code",
   "execution_count": 116,
   "id": "d4bb6e06-c0bc-49a1-b831-19dadb487d3d",
   "metadata": {},
   "outputs": [
    {
     "data": {
      "text/plain": [
       "5-element Vector{Dict{Any, Any}}:\n",
       " Dict(\"string\" => \"NNUE evaluation using nn-0000000000a0.nnue\", \"time\" => 1.561, \"tbhits\" => 0, \"hashfull\" => 354, \"depth\" => 22, \"nodes\" => 920605, \"multipv\" => 1, \"score\" => PyObject PovScore(Cp(+42), WHITE), \"pv\" => PyObject[PyObject Move.from_uci('d2d4'), PyObject Move.from_uci('e7e6'), PyObject Move.from_uci('e2e4'), PyObject Move.from_uci('d7d5'), PyObject Move.from_uci('b1c3'), PyObject Move.from_uci('g8f6'), PyObject Move.from_uci('e4e5'), PyObject Move.from_uci('f6d7'), PyObject Move.from_uci('f2f4'), PyObject Move.from_uci('c7c5')  …  PyObject Move.from_uci('f3d4'), PyObject Move.from_uci('f8c5'), PyObject Move.from_uci('e2f3'), PyObject Move.from_uci('c5d4'), PyObject Move.from_uci('e3d4'), PyObject Move.from_uci('c6d4'), PyObject Move.from_uci('d1d4'), PyObject Move.from_uci('e8g8'), PyObject Move.from_uci('c3e2'), PyObject Move.from_uci('a6a5')], \"seldepth\" => 34…)\n",
       " Dict(\"depth\" => 22, \"nodes\" => 920605, \"multipv\" => 2, \"score\" => PyObject PovScore(Cp(+42), WHITE), \"time\" => 1.561, \"pv\" => PyObject[PyObject Move.from_uci('e2e4'), PyObject Move.from_uci('e7e6'), PyObject Move.from_uci('d2d4'), PyObject Move.from_uci('d7d5'), PyObject Move.from_uci('b1c3'), PyObject Move.from_uci('g8f6'), PyObject Move.from_uci('e4e5'), PyObject Move.from_uci('f6d7'), PyObject Move.from_uci('f2f4'), PyObject Move.from_uci('c7c5')  …  PyObject Move.from_uci('e8g8'), PyObject Move.from_uci('a2a3'), PyObject Move.from_uci('c6d4'), PyObject Move.from_uci('e3d4'), PyObject Move.from_uci('b7b5'), PyObject Move.from_uci('h2h4'), PyObject Move.from_uci('c5d4'), PyObject Move.from_uci('d2d4'), PyObject Move.from_uci('c8b7'), PyObject Move.from_uci('e1c1')], \"seldepth\" => 30, \"nps\" => 589753, \"tbhits\" => 0, \"hashfull\" => 354…)\n",
       " Dict(\"depth\" => 22, \"nodes\" => 920605, \"multipv\" => 3, \"score\" => PyObject PovScore(Cp(+34), WHITE), \"time\" => 1.561, \"pv\" => PyObject[PyObject Move.from_uci('g1f3'), PyObject Move.from_uci('d7d5'), PyObject Move.from_uci('d2d4'), PyObject Move.from_uci('g8f6'), PyObject Move.from_uci('c2c4'), PyObject Move.from_uci('c7c6'), PyObject Move.from_uci('b1c3'), PyObject Move.from_uci('d5c4'), PyObject Move.from_uci('a2a4'), PyObject Move.from_uci('c8f5')  …  PyObject Move.from_uci('e8g8'), PyObject Move.from_uci('f2f3'), PyObject Move.from_uci('f5g6'), PyObject Move.from_uci('e3e4'), PyObject Move.from_uci('e6e5'), PyObject Move.from_uci('c1e3'), PyObject Move.from_uci('e5d4'), PyObject Move.from_uci('e3d4'), PyObject Move.from_uci('d8e7'), PyObject Move.from_uci('d1e2')], \"seldepth\" => 29, \"nps\" => 589753, \"tbhits\" => 0, \"hashfull\" => 354…)\n",
       " Dict(\"depth\" => 22, \"nodes\" => 920605, \"multipv\" => 4, \"score\" => PyObject PovScore(Cp(+25), WHITE), \"time\" => 1.561, \"pv\" => PyObject[PyObject Move.from_uci('g2g3'), PyObject Move.from_uci('d7d5'), PyObject Move.from_uci('g1f3'), PyObject Move.from_uci('g7g6'), PyObject Move.from_uci('d2d4'), PyObject Move.from_uci('f8g7'), PyObject Move.from_uci('f1g2'), PyObject Move.from_uci('c7c6'), PyObject Move.from_uci('c2c4'), PyObject Move.from_uci('g8f6'), PyObject Move.from_uci('c4d5'), PyObject Move.from_uci('c6d5'), PyObject Move.from_uci('b1c3'), PyObject Move.from_uci('e8g8'), PyObject Move.from_uci('f3e5'), PyObject Move.from_uci('c8f5'), PyObject Move.from_uci('e1g1'), PyObject Move.from_uci('b8c6')], \"seldepth\" => 35, \"nps\" => 589753, \"tbhits\" => 0, \"hashfull\" => 354…)\n",
       " Dict(\"depth\" => 22, \"nodes\" => 920605, \"multipv\" => 5, \"score\" => PyObject PovScore(Cp(+25), WHITE), \"time\" => 1.561, \"pv\" => PyObject[PyObject Move.from_uci('c2c4'), PyObject Move.from_uci('e7e5'), PyObject Move.from_uci('b1c3'), PyObject Move.from_uci('g8f6'), PyObject Move.from_uci('g2g3'), PyObject Move.from_uci('f8b4'), PyObject Move.from_uci('f1g2'), PyObject Move.from_uci('e8g8'), PyObject Move.from_uci('e2e4'), PyObject Move.from_uci('d7d6')  …  PyObject Move.from_uci('b4b5'), PyObject Move.from_uci('a5a4'), PyObject Move.from_uci('e1g1'), PyObject Move.from_uci('b8d7'), PyObject Move.from_uci('d2d4'), PyObject Move.from_uci('f8e8'), PyObject Move.from_uci('c1b2'), PyObject Move.from_uci('e5d4'), PyObject Move.from_uci('e2d4'), PyObject Move.from_uci('f6e4')], \"seldepth\" => 37, \"nps\" => 589753, \"tbhits\" => 0, \"hashfull\" => 354…)"
      ]
     },
     "execution_count": 116,
     "metadata": {},
     "output_type": "execute_result"
    }
   ],
   "source": [
    "analysis_results = stockfish.analyse(game.board(), ce.Limit(depth=22), multipv=5)\n",
    "analysis_results"
   ]
  },
  {
   "cell_type": "code",
   "execution_count": 61,
   "id": "d3c43305-7bba-4bc1-bbed-4251ca943768",
   "metadata": {},
   "outputs": [
    {
     "data": {
      "text/plain": [
       "(PyObject Move.from_uci('e2e4'), PyObject PovScore(Cp(+41), WHITE), 0.057, 35995)"
      ]
     },
     "execution_count": 61,
     "metadata": {},
     "output_type": "execute_result"
    }
   ],
   "source": [
    "prediction(game.board())[1]"
   ]
  },
  {
   "cell_type": "code",
   "execution_count": 111,
   "id": "90074ee1-a189-4543-9b59-ea85838e5402",
   "metadata": {},
   "outputs": [
    {
     "data": {
      "image/png": "[encoded data removed]",
      "image/svg+xml": [
       "<?xml version=\"1.0\" encoding=\"utf-8\"?>\n",
       "<svg xmlns=\"http://www.w3.org/2000/svg\" xmlns:xlink=\"http://www.w3.org/1999/xlink\" width=\"600\" height=\"400\" viewBox=\"0 0 2400 1600\">\n",
       "<defs>\n",
       "  <clipPath id=\"clip530\">\n",
       "    <rect x=\"0\" y=\"0\" width=\"2400\" height=\"1600\"/>\n",
       "  </clipPath>\n",
       "</defs>\n",
       "<path clip-path=\"url(#clip530)\" d=\"M0 1600 L2400 1600 L2400 0 L0 0  Z\" fill=\"#ffffff\" fill-rule=\"evenodd\" fill-opacity=\"1\"/>\n",
       "<defs>\n",
       "  <clipPath id=\"clip531\">\n",
       "    <rect x=\"480\" y=\"0\" width=\"1681\" height=\"1600\"/>\n",
       "  </clipPath>\n",
       "</defs>\n",
       "<path clip-path=\"url(#clip530)\" d=\"M247.459 1423.18 L2352.76 1423.18 L2352.76 123.472 L247.459 123.472  Z\" fill=\"#ffffff\" fill-rule=\"evenodd\" fill-opacity=\"1\"/>\n",
       "<defs>\n",
       "  <clipPath id=\"clip532\">\n",
       "    <rect x=\"247\" y=\"123\" width=\"2106\" height=\"1301\"/>\n",
       "  </clipPath>\n",
       "</defs>\n",
       "<polyline clip-path=\"url(#clip532)\" style=\"stroke:#000000; stroke-linecap:round; stroke-linejoin:round; stroke-width:2; stroke-opacity:0.1; fill:none\" points=\"505.656,1423.18 505.656,123.472 \"/>\n",
       "<polyline clip-path=\"url(#clip532)\" style=\"stroke:#000000; stroke-linecap:round; stroke-linejoin:round; stroke-width:2; stroke-opacity:0.1; fill:none\" points=\"902.881,1423.18 902.881,123.472 \"/>\n",
       "<polyline clip-path=\"url(#clip532)\" style=\"stroke:#000000; stroke-linecap:round; stroke-linejoin:round; stroke-width:2; stroke-opacity:0.1; fill:none\" points=\"1300.11,1423.18 1300.11,123.472 \"/>\n",
       "<polyline clip-path=\"url(#clip532)\" style=\"stroke:#000000; stroke-linecap:round; stroke-linejoin:round; stroke-width:2; stroke-opacity:0.1; fill:none\" points=\"1697.33,1423.18 1697.33,123.472 \"/>\n",
       "<polyline clip-path=\"url(#clip532)\" style=\"stroke:#000000; stroke-linecap:round; stroke-linejoin:round; stroke-width:2; stroke-opacity:0.1; fill:none\" points=\"2094.56,1423.18 2094.56,123.472 \"/>\n",
       "<polyline clip-path=\"url(#clip530)\" style=\"stroke:#000000; stroke-linecap:round; stroke-linejoin:round; stroke-width:4; stroke-opacity:1; fill:none\" points=\"247.459,1423.18 2352.76,1423.18 \"/>\n",
       "<polyline clip-path=\"url(#clip530)\" style=\"stroke:#000000; stroke-linecap:round; stroke-linejoin:round; stroke-width:4; stroke-opacity:1; fill:none\" points=\"505.656,1423.18 505.656,1404.28 \"/>\n",
       "<polyline clip-path=\"url(#clip530)\" style=\"stroke:#000000; stroke-linecap:round; stroke-linejoin:round; stroke-width:4; stroke-opacity:1; fill:none\" points=\"902.881,1423.18 902.881,1404.28 \"/>\n",
       "<polyline clip-path=\"url(#clip530)\" style=\"stroke:#000000; stroke-linecap:round; stroke-linejoin:round; stroke-width:4; stroke-opacity:1; fill:none\" points=\"1300.11,1423.18 1300.11,1404.28 \"/>\n",
       "<polyline clip-path=\"url(#clip530)\" style=\"stroke:#000000; stroke-linecap:round; stroke-linejoin:round; stroke-width:4; stroke-opacity:1; fill:none\" points=\"1697.33,1423.18 1697.33,1404.28 \"/>\n",
       "<polyline clip-path=\"url(#clip530)\" style=\"stroke:#000000; stroke-linecap:round; stroke-linejoin:round; stroke-width:4; stroke-opacity:1; fill:none\" points=\"2094.56,1423.18 2094.56,1404.28 \"/>\n",
       "<path clip-path=\"url(#clip530)\" d=\"M480.262 1481.64 L487.901 1481.64 L487.901 1455.28 L479.591 1456.95 L479.591 1452.69 L487.855 1451.02 L492.531 1451.02 L492.531 1481.64 L500.169 1481.64 L500.169 1485.58 L480.262 1485.58 L480.262 1481.64 Z\" fill=\"#000000\" fill-rule=\"nonzero\" fill-opacity=\"1\" /><path clip-path=\"url(#clip530)\" d=\"M520.192 1466.44 Q517.044 1466.44 515.193 1468.59 Q513.364 1470.74 513.364 1474.49 Q513.364 1478.22 515.193 1480.39 Q517.044 1482.55 520.192 1482.55 Q523.341 1482.55 525.169 1480.39 Q527.021 1478.22 527.021 1474.49 Q527.021 1470.74 525.169 1468.59 Q523.341 1466.44 520.192 1466.44 M529.475 1451.78 L529.475 1456.04 Q527.716 1455.21 525.91 1454.77 Q524.128 1454.33 522.368 1454.33 Q517.739 1454.33 515.285 1457.45 Q512.855 1460.58 512.507 1466.9 Q513.873 1464.89 515.933 1463.82 Q517.993 1462.73 520.47 1462.73 Q525.679 1462.73 528.688 1465.9 Q531.72 1469.05 531.72 1474.49 Q531.72 1479.82 528.572 1483.03 Q525.424 1486.25 520.192 1486.25 Q514.197 1486.25 511.026 1481.67 Q507.855 1477.06 507.855 1468.33 Q507.855 1460.14 511.743 1455.28 Q515.632 1450.39 522.183 1450.39 Q523.942 1450.39 525.725 1450.74 Q527.53 1451.09 529.475 1451.78 Z\" fill=\"#000000\" fill-rule=\"nonzero\" fill-opacity=\"1\" /><path clip-path=\"url(#clip530)\" d=\"M877.615 1481.64 L885.254 1481.64 L885.254 1455.28 L876.944 1456.95 L876.944 1452.69 L885.208 1451.02 L889.884 1451.02 L889.884 1481.64 L897.523 1481.64 L897.523 1485.58 L877.615 1485.58 L877.615 1481.64 Z\" fill=\"#000000\" fill-rule=\"nonzero\" fill-opacity=\"1\" /><path clip-path=\"url(#clip530)\" d=\"M916.967 1469.17 Q913.634 1469.17 911.712 1470.95 Q909.814 1472.73 909.814 1475.86 Q909.814 1478.98 911.712 1480.77 Q913.634 1482.55 916.967 1482.55 Q920.3 1482.55 922.222 1480.77 Q924.143 1478.96 924.143 1475.86 Q924.143 1472.73 922.222 1470.95 Q920.323 1469.17 916.967 1469.17 M912.291 1467.18 Q909.282 1466.44 907.592 1464.38 Q905.925 1462.32 905.925 1459.35 Q905.925 1455.21 908.865 1452.8 Q911.828 1450.39 916.967 1450.39 Q922.129 1450.39 925.069 1452.8 Q928.009 1455.21 928.009 1459.35 Q928.009 1462.32 926.319 1464.38 Q924.652 1466.44 921.666 1467.18 Q925.046 1467.96 926.921 1470.26 Q928.819 1472.55 928.819 1475.86 Q928.819 1480.88 925.74 1483.57 Q922.685 1486.25 916.967 1486.25 Q911.249 1486.25 908.171 1483.57 Q905.115 1480.88 905.115 1475.86 Q905.115 1472.55 907.013 1470.26 Q908.911 1467.96 912.291 1467.18 M910.578 1459.79 Q910.578 1462.48 912.245 1463.98 Q913.935 1465.49 916.967 1465.49 Q919.976 1465.49 921.666 1463.98 Q923.379 1462.48 923.379 1459.79 Q923.379 1457.11 921.666 1455.6 Q919.976 1454.1 916.967 1454.1 Q913.935 1454.1 912.245 1455.6 Q910.578 1457.11 910.578 1459.79 Z\" fill=\"#000000\" fill-rule=\"nonzero\" fill-opacity=\"1\" /><path clip-path=\"url(#clip530)\" d=\"M1278.88 1481.64 L1295.2 1481.64 L1295.2 1485.58 L1273.26 1485.58 L1273.26 1481.64 Q1275.92 1478.89 1280.5 1474.26 Q1285.11 1469.61 1286.29 1468.27 Q1288.53 1465.74 1289.41 1464.01 Q1290.32 1462.25 1290.32 1460.56 Q1290.32 1457.8 1288.37 1456.07 Q1286.45 1454.33 1283.35 1454.33 Q1281.15 1454.33 1278.7 1455.09 Q1276.26 1455.86 1273.49 1457.41 L1273.49 1452.69 Q1276.31 1451.55 1278.76 1450.97 Q1281.22 1450.39 1283.26 1450.39 Q1288.63 1450.39 1291.82 1453.08 Q1295.01 1455.77 1295.01 1460.26 Q1295.01 1462.39 1294.2 1464.31 Q1293.42 1466.2 1291.31 1468.8 Q1290.73 1469.47 1287.63 1472.69 Q1284.53 1475.88 1278.88 1481.64 Z\" fill=\"#000000\" fill-rule=\"nonzero\" fill-opacity=\"1\" /><path clip-path=\"url(#clip530)\" d=\"M1315.01 1454.1 Q1311.4 1454.1 1309.57 1457.66 Q1307.77 1461.2 1307.77 1468.33 Q1307.77 1475.44 1309.57 1479.01 Q1311.4 1482.55 1315.01 1482.55 Q1318.65 1482.55 1320.45 1479.01 Q1322.28 1475.44 1322.28 1468.33 Q1322.28 1461.2 1320.45 1457.66 Q1318.65 1454.1 1315.01 1454.1 M1315.01 1450.39 Q1320.82 1450.39 1323.88 1455 Q1326.96 1459.58 1326.96 1468.33 Q1326.96 1477.06 1323.88 1481.67 Q1320.82 1486.25 1315.01 1486.25 Q1309.2 1486.25 1306.13 1481.67 Q1303.07 1477.06 1303.07 1468.33 Q1303.07 1459.58 1306.13 1455 Q1309.2 1450.39 1315.01 1450.39 Z\" fill=\"#000000\" fill-rule=\"nonzero\" fill-opacity=\"1\" /><path clip-path=\"url(#clip530)\" d=\"M1676.91 1481.64 L1693.22 1481.64 L1693.22 1485.58 L1671.28 1485.58 L1671.28 1481.64 Q1673.94 1478.89 1678.53 1474.26 Q1683.13 1469.61 1684.31 1468.27 Q1686.56 1465.74 1687.44 1464.01 Q1688.34 1462.25 1688.34 1460.56 Q1688.34 1457.8 1686.4 1456.07 Q1684.47 1454.33 1681.37 1454.33 Q1679.17 1454.33 1676.72 1455.09 Q1674.29 1455.86 1671.51 1457.41 L1671.51 1452.69 Q1674.34 1451.55 1676.79 1450.97 Q1679.24 1450.39 1681.28 1450.39 Q1686.65 1450.39 1689.84 1453.08 Q1693.04 1455.77 1693.04 1460.26 Q1693.04 1462.39 1692.23 1464.31 Q1691.44 1466.2 1689.34 1468.8 Q1688.76 1469.47 1685.66 1472.69 Q1682.55 1475.88 1676.91 1481.64 Z\" fill=\"#000000\" fill-rule=\"nonzero\" fill-opacity=\"1\" /><path clip-path=\"url(#clip530)\" d=\"M1707.07 1481.64 L1723.39 1481.64 L1723.39 1485.58 L1701.44 1485.58 L1701.44 1481.64 Q1704.1 1478.89 1708.69 1474.26 Q1713.29 1469.61 1714.47 1468.27 Q1716.72 1465.74 1717.6 1464.01 Q1718.5 1462.25 1718.5 1460.56 Q1718.5 1457.8 1716.56 1456.07 Q1714.64 1454.33 1711.53 1454.33 Q1709.34 1454.33 1706.88 1455.09 Q1704.45 1455.86 1701.67 1457.41 L1701.67 1452.69 Q1704.5 1451.55 1706.95 1450.97 Q1709.4 1450.39 1711.44 1450.39 Q1716.81 1450.39 1720.01 1453.08 Q1723.2 1455.77 1723.2 1460.26 Q1723.2 1462.39 1722.39 1464.31 Q1721.6 1466.2 1719.5 1468.8 Q1718.92 1469.47 1715.82 1472.69 Q1712.72 1475.88 1707.07 1481.64 Z\" fill=\"#000000\" fill-rule=\"nonzero\" fill-opacity=\"1\" /><path clip-path=\"url(#clip530)\" d=\"M2073.09 1481.64 L2089.41 1481.64 L2089.41 1485.58 L2067.46 1485.58 L2067.46 1481.64 Q2070.13 1478.89 2074.71 1474.26 Q2079.32 1469.61 2080.5 1468.27 Q2082.74 1465.74 2083.62 1464.01 Q2084.52 1462.25 2084.52 1460.56 Q2084.52 1457.8 2082.58 1456.07 Q2080.66 1454.33 2077.56 1454.33 Q2075.36 1454.33 2072.9 1455.09 Q2070.47 1455.86 2067.7 1457.41 L2067.7 1452.69 Q2070.52 1451.55 2072.97 1450.97 Q2075.43 1450.39 2077.46 1450.39 Q2082.83 1450.39 2086.03 1453.08 Q2089.22 1455.77 2089.22 1460.26 Q2089.22 1462.39 2088.41 1464.31 Q2087.63 1466.2 2085.52 1468.8 Q2084.94 1469.47 2081.84 1472.69 Q2078.74 1475.88 2073.09 1481.64 Z\" fill=\"#000000\" fill-rule=\"nonzero\" fill-opacity=\"1\" /><path clip-path=\"url(#clip530)\" d=\"M2112.07 1455.09 L2100.27 1473.54 L2112.07 1473.54 L2112.07 1455.09 M2110.84 1451.02 L2116.72 1451.02 L2116.72 1473.54 L2121.65 1473.54 L2121.65 1477.43 L2116.72 1477.43 L2116.72 1485.58 L2112.07 1485.58 L2112.07 1477.43 L2096.47 1477.43 L2096.47 1472.92 L2110.84 1451.02 Z\" fill=\"#000000\" fill-rule=\"nonzero\" fill-opacity=\"1\" /><path clip-path=\"url(#clip530)\" d=\"M1213.23 1525.81 L1213.23 1562.76 L1221 1562.76 Q1230.83 1562.76 1235.38 1558.3 Q1239.97 1553.85 1239.97 1544.24 Q1239.97 1534.69 1235.38 1530.26 Q1230.83 1525.81 1221 1525.81 L1213.23 1525.81 M1206.8 1520.52 L1220.01 1520.52 Q1233.82 1520.52 1240.29 1526.28 Q1246.75 1532.01 1246.75 1544.24 Q1246.75 1556.52 1240.25 1562.28 Q1233.76 1568.04 1220.01 1568.04 L1206.8 1568.04 L1206.8 1520.52 Z\" fill=\"#000000\" fill-rule=\"nonzero\" fill-opacity=\"1\" /><path clip-path=\"url(#clip530)\" d=\"M1287.23 1548.76 L1287.23 1551.62 L1260.31 1551.62 Q1260.69 1557.67 1263.93 1560.85 Q1267.21 1564 1273.04 1564 Q1276.41 1564 1279.56 1563.17 Q1282.74 1562.35 1285.86 1560.69 L1285.86 1566.23 Q1282.71 1567.57 1279.4 1568.27 Q1276.09 1568.97 1272.69 1568.97 Q1264.16 1568.97 1259.16 1564 Q1254.19 1559.04 1254.19 1550.57 Q1254.19 1541.82 1258.91 1536.69 Q1263.65 1531.54 1271.67 1531.54 Q1278.86 1531.54 1283.03 1536.18 Q1287.23 1540.8 1287.23 1548.76 M1281.38 1547.04 Q1281.31 1542.23 1278.67 1539.37 Q1276.06 1536.5 1271.73 1536.5 Q1266.83 1536.5 1263.87 1539.27 Q1260.94 1542.04 1260.5 1547.07 L1281.38 1547.04 Z\" fill=\"#000000\" fill-rule=\"nonzero\" fill-opacity=\"1\" /><path clip-path=\"url(#clip530)\" d=\"M1302.51 1562.7 L1302.51 1581.6 L1296.62 1581.6 L1296.62 1532.4 L1302.51 1532.4 L1302.51 1537.81 Q1304.36 1534.62 1307.16 1533.1 Q1309.99 1531.54 1313.9 1531.54 Q1320.4 1531.54 1324.44 1536.69 Q1328.51 1541.85 1328.51 1550.25 Q1328.51 1558.65 1324.44 1563.81 Q1320.4 1568.97 1313.9 1568.97 Q1309.99 1568.97 1307.16 1567.44 Q1304.36 1565.88 1302.51 1562.7 M1322.44 1550.25 Q1322.44 1543.79 1319.76 1540.13 Q1317.12 1536.44 1312.47 1536.44 Q1307.83 1536.44 1305.15 1540.13 Q1302.51 1543.79 1302.51 1550.25 Q1302.51 1556.71 1305.15 1560.4 Q1307.83 1564.07 1312.47 1564.07 Q1317.12 1564.07 1319.76 1560.4 Q1322.44 1556.71 1322.44 1550.25 Z\" fill=\"#000000\" fill-rule=\"nonzero\" fill-opacity=\"1\" /><path clip-path=\"url(#clip530)\" d=\"M1344.01 1522.27 L1344.01 1532.4 L1356.08 1532.4 L1356.08 1536.95 L1344.01 1536.95 L1344.01 1556.3 Q1344.01 1560.66 1345.19 1561.9 Q1346.4 1563.14 1350.06 1563.14 L1356.08 1563.14 L1356.08 1568.04 L1350.06 1568.04 Q1343.28 1568.04 1340.7 1565.53 Q1338.13 1562.98 1338.13 1556.3 L1338.13 1536.95 L1333.83 1536.95 L1333.83 1532.4 L1338.13 1532.4 L1338.13 1522.27 L1344.01 1522.27 Z\" fill=\"#000000\" fill-rule=\"nonzero\" fill-opacity=\"1\" /><path clip-path=\"url(#clip530)\" d=\"M1393.41 1546.53 L1393.41 1568.04 L1387.56 1568.04 L1387.56 1546.72 Q1387.56 1541.66 1385.58 1539.14 Q1383.61 1536.63 1379.66 1536.63 Q1374.92 1536.63 1372.18 1539.65 Q1369.45 1542.68 1369.45 1547.9 L1369.45 1568.04 L1363.56 1568.04 L1363.56 1518.52 L1369.45 1518.52 L1369.45 1537.93 Q1371.55 1534.72 1374.38 1533.13 Q1377.24 1531.54 1380.97 1531.54 Q1387.11 1531.54 1390.26 1535.36 Q1393.41 1539.14 1393.41 1546.53 Z\" fill=\"#000000\" fill-rule=\"nonzero\" fill-opacity=\"1\" /><polyline clip-path=\"url(#clip532)\" style=\"stroke:#000000; stroke-linecap:round; stroke-linejoin:round; stroke-width:2; stroke-opacity:0.1; fill:none\" points=\"247.459,1390.73 2352.76,1390.73 \"/>\n",
       "<polyline clip-path=\"url(#clip532)\" style=\"stroke:#000000; stroke-linecap:round; stroke-linejoin:round; stroke-width:2; stroke-opacity:0.1; fill:none\" points=\"247.459,1167.89 2352.76,1167.89 \"/>\n",
       "<polyline clip-path=\"url(#clip532)\" style=\"stroke:#000000; stroke-linecap:round; stroke-linejoin:round; stroke-width:2; stroke-opacity:0.1; fill:none\" points=\"247.459,945.044 2352.76,945.044 \"/>\n",
       "<polyline clip-path=\"url(#clip532)\" style=\"stroke:#000000; stroke-linecap:round; stroke-linejoin:round; stroke-width:2; stroke-opacity:0.1; fill:none\" points=\"247.459,722.203 2352.76,722.203 \"/>\n",
       "<polyline clip-path=\"url(#clip532)\" style=\"stroke:#000000; stroke-linecap:round; stroke-linejoin:round; stroke-width:2; stroke-opacity:0.1; fill:none\" points=\"247.459,499.361 2352.76,499.361 \"/>\n",
       "<polyline clip-path=\"url(#clip532)\" style=\"stroke:#000000; stroke-linecap:round; stroke-linejoin:round; stroke-width:2; stroke-opacity:0.1; fill:none\" points=\"247.459,276.52 2352.76,276.52 \"/>\n",
       "<polyline clip-path=\"url(#clip530)\" style=\"stroke:#000000; stroke-linecap:round; stroke-linejoin:round; stroke-width:4; stroke-opacity:1; fill:none\" points=\"247.459,1423.18 247.459,123.472 \"/>\n",
       "<polyline clip-path=\"url(#clip530)\" style=\"stroke:#000000; stroke-linecap:round; stroke-linejoin:round; stroke-width:4; stroke-opacity:1; fill:none\" points=\"247.459,1390.73 266.356,1390.73 \"/>\n",
       "<polyline clip-path=\"url(#clip530)\" style=\"stroke:#000000; stroke-linecap:round; stroke-linejoin:round; stroke-width:4; stroke-opacity:1; fill:none\" points=\"247.459,1167.89 266.356,1167.89 \"/>\n",
       "<polyline clip-path=\"url(#clip530)\" style=\"stroke:#000000; stroke-linecap:round; stroke-linejoin:round; stroke-width:4; stroke-opacity:1; fill:none\" points=\"247.459,945.044 266.356,945.044 \"/>\n",
       "<polyline clip-path=\"url(#clip530)\" style=\"stroke:#000000; stroke-linecap:round; stroke-linejoin:round; stroke-width:4; stroke-opacity:1; fill:none\" points=\"247.459,722.203 266.356,722.203 \"/>\n",
       "<polyline clip-path=\"url(#clip530)\" style=\"stroke:#000000; stroke-linecap:round; stroke-linejoin:round; stroke-width:4; stroke-opacity:1; fill:none\" points=\"247.459,499.361 266.356,499.361 \"/>\n",
       "<polyline clip-path=\"url(#clip530)\" style=\"stroke:#000000; stroke-linecap:round; stroke-linejoin:round; stroke-width:4; stroke-opacity:1; fill:none\" points=\"247.459,276.52 266.356,276.52 \"/>\n",
       "<path clip-path=\"url(#clip530)\" d=\"M154.283 1376.53 Q150.672 1376.53 148.843 1380.09 Q147.038 1383.63 147.038 1390.76 Q147.038 1397.87 148.843 1401.43 Q150.672 1404.98 154.283 1404.98 Q157.917 1404.98 159.723 1401.43 Q161.552 1397.87 161.552 1390.76 Q161.552 1383.63 159.723 1380.09 Q157.917 1376.53 154.283 1376.53 M154.283 1372.82 Q160.093 1372.82 163.149 1377.43 Q166.227 1382.01 166.227 1390.76 Q166.227 1399.49 163.149 1404.1 Q160.093 1408.68 154.283 1408.68 Q148.473 1408.68 145.394 1404.1 Q142.339 1399.49 142.339 1390.76 Q142.339 1382.01 145.394 1377.43 Q148.473 1372.82 154.283 1372.82 Z\" fill=\"#000000\" fill-rule=\"nonzero\" fill-opacity=\"1\" /><path clip-path=\"url(#clip530)\" d=\"M174.445 1402.13 L179.329 1402.13 L179.329 1408.01 L174.445 1408.01 L174.445 1402.13 Z\" fill=\"#000000\" fill-rule=\"nonzero\" fill-opacity=\"1\" /><path clip-path=\"url(#clip530)\" d=\"M199.514 1376.53 Q195.903 1376.53 194.075 1380.09 Q192.269 1383.63 192.269 1390.76 Q192.269 1397.87 194.075 1401.43 Q195.903 1404.98 199.514 1404.98 Q203.149 1404.98 204.954 1401.43 Q206.783 1397.87 206.783 1390.76 Q206.783 1383.63 204.954 1380.09 Q203.149 1376.53 199.514 1376.53 M199.514 1372.82 Q205.324 1372.82 208.38 1377.43 Q211.459 1382.01 211.459 1390.76 Q211.459 1399.49 208.38 1404.1 Q205.324 1408.68 199.514 1408.68 Q193.704 1408.68 190.625 1404.1 Q187.57 1399.49 187.57 1390.76 Q187.57 1382.01 190.625 1377.43 Q193.704 1372.82 199.514 1372.82 Z\" fill=\"#000000\" fill-rule=\"nonzero\" fill-opacity=\"1\" /><path clip-path=\"url(#clip530)\" d=\"M149.306 1181.23 L165.626 1181.23 L165.626 1185.17 L143.681 1185.17 L143.681 1181.23 Q146.343 1178.48 150.927 1173.85 Q155.533 1169.19 156.714 1167.85 Q158.959 1165.33 159.839 1163.59 Q160.741 1161.83 160.741 1160.14 Q160.741 1157.39 158.797 1155.65 Q156.876 1153.92 153.774 1153.92 Q151.575 1153.92 149.121 1154.68 Q146.691 1155.44 143.913 1156.99 L143.913 1152.27 Q146.737 1151.14 149.191 1150.56 Q151.644 1149.98 153.681 1149.98 Q159.052 1149.98 162.246 1152.67 Q165.44 1155.35 165.44 1159.84 Q165.44 1161.97 164.63 1163.89 Q163.843 1165.79 161.737 1168.38 Q161.158 1169.05 158.056 1172.27 Q154.954 1175.47 149.306 1181.23 Z\" fill=\"#000000\" fill-rule=\"nonzero\" fill-opacity=\"1\" /><path clip-path=\"url(#clip530)\" d=\"M175.44 1179.29 L180.325 1179.29 L180.325 1185.17 L175.44 1185.17 L175.44 1179.29 Z\" fill=\"#000000\" fill-rule=\"nonzero\" fill-opacity=\"1\" /><path clip-path=\"url(#clip530)\" d=\"M190.556 1150.61 L208.912 1150.61 L208.912 1154.54 L194.838 1154.54 L194.838 1163.01 Q195.857 1162.67 196.875 1162.5 Q197.894 1162.32 198.912 1162.32 Q204.699 1162.32 208.079 1165.49 Q211.459 1168.66 211.459 1174.08 Q211.459 1179.66 207.987 1182.76 Q204.514 1185.84 198.195 1185.84 Q196.019 1185.84 193.75 1185.47 Q191.505 1185.1 189.098 1184.36 L189.098 1179.66 Q191.181 1180.79 193.403 1181.35 Q195.625 1181.9 198.102 1181.9 Q202.107 1181.9 204.445 1179.8 Q206.783 1177.69 206.783 1174.08 Q206.783 1170.47 204.445 1168.36 Q202.107 1166.25 198.102 1166.25 Q196.227 1166.25 194.352 1166.67 Q192.5 1167.09 190.556 1167.97 L190.556 1150.61 Z\" fill=\"#000000\" fill-rule=\"nonzero\" fill-opacity=\"1\" /><path clip-path=\"url(#clip530)\" d=\"M144.329 927.764 L162.686 927.764 L162.686 931.7 L148.612 931.7 L148.612 940.172 Q149.63 939.825 150.649 939.663 Q151.667 939.477 152.686 939.477 Q158.473 939.477 161.852 942.649 Q165.232 945.82 165.232 951.237 Q165.232 956.815 161.76 959.917 Q158.288 962.996 151.968 962.996 Q149.792 962.996 147.524 962.625 Q145.279 962.255 142.871 961.514 L142.871 956.815 Q144.954 957.949 147.177 958.505 Q149.399 959.061 151.876 959.061 Q155.88 959.061 158.218 956.954 Q160.556 954.848 160.556 951.237 Q160.556 947.625 158.218 945.519 Q155.88 943.412 151.876 943.412 Q150.001 943.412 148.126 943.829 Q146.274 944.246 144.329 945.125 L144.329 927.764 Z\" fill=\"#000000\" fill-rule=\"nonzero\" fill-opacity=\"1\" /><path clip-path=\"url(#clip530)\" d=\"M174.445 956.445 L179.329 956.445 L179.329 962.324 L174.445 962.324 L174.445 956.445 Z\" fill=\"#000000\" fill-rule=\"nonzero\" fill-opacity=\"1\" /><path clip-path=\"url(#clip530)\" d=\"M199.514 930.843 Q195.903 930.843 194.075 934.408 Q192.269 937.95 192.269 945.079 Q192.269 952.186 194.075 955.75 Q195.903 959.292 199.514 959.292 Q203.149 959.292 204.954 955.75 Q206.783 952.186 206.783 945.079 Q206.783 937.95 204.954 934.408 Q203.149 930.843 199.514 930.843 M199.514 927.139 Q205.324 927.139 208.38 931.746 Q211.459 936.329 211.459 945.079 Q211.459 953.806 208.38 958.412 Q205.324 962.996 199.514 962.996 Q193.704 962.996 190.625 958.412 Q187.57 953.806 187.57 945.079 Q187.57 936.329 190.625 931.746 Q193.704 927.139 199.514 927.139 Z\" fill=\"#000000\" fill-rule=\"nonzero\" fill-opacity=\"1\" /><path clip-path=\"url(#clip530)\" d=\"M144.098 704.923 L166.32 704.923 L166.32 706.914 L153.774 739.483 L148.89 739.483 L160.695 708.858 L144.098 708.858 L144.098 704.923 Z\" fill=\"#000000\" fill-rule=\"nonzero\" fill-opacity=\"1\" /><path clip-path=\"url(#clip530)\" d=\"M175.44 733.603 L180.325 733.603 L180.325 739.483 L175.44 739.483 L175.44 733.603 Z\" fill=\"#000000\" fill-rule=\"nonzero\" fill-opacity=\"1\" /><path clip-path=\"url(#clip530)\" d=\"M190.556 704.923 L208.912 704.923 L208.912 708.858 L194.838 708.858 L194.838 717.33 Q195.857 716.983 196.875 716.821 Q197.894 716.636 198.912 716.636 Q204.699 716.636 208.079 719.807 Q211.459 722.978 211.459 728.395 Q211.459 733.974 207.987 737.075 Q204.514 740.154 198.195 740.154 Q196.019 740.154 193.75 739.784 Q191.505 739.413 189.098 738.673 L189.098 733.974 Q191.181 735.108 193.403 735.663 Q195.625 736.219 198.102 736.219 Q202.107 736.219 204.445 734.112 Q206.783 732.006 206.783 728.395 Q206.783 724.784 204.445 722.677 Q202.107 720.571 198.102 720.571 Q196.227 720.571 194.352 720.988 Q192.5 721.404 190.556 722.284 L190.556 704.923 Z\" fill=\"#000000\" fill-rule=\"nonzero\" fill-opacity=\"1\" /><path clip-path=\"url(#clip530)\" d=\"M114.931 512.706 L122.57 512.706 L122.57 486.34 L114.26 488.007 L114.26 483.748 L122.524 482.081 L127.2 482.081 L127.2 512.706 L134.839 512.706 L134.839 516.641 L114.931 516.641 L114.931 512.706 Z\" fill=\"#000000\" fill-rule=\"nonzero\" fill-opacity=\"1\" /><path clip-path=\"url(#clip530)\" d=\"M154.283 485.16 Q150.672 485.16 148.843 488.725 Q147.038 492.266 147.038 499.396 Q147.038 506.502 148.843 510.067 Q150.672 513.609 154.283 513.609 Q157.917 513.609 159.723 510.067 Q161.552 506.502 161.552 499.396 Q161.552 492.266 159.723 488.725 Q157.917 485.16 154.283 485.16 M154.283 481.456 Q160.093 481.456 163.149 486.063 Q166.227 490.646 166.227 499.396 Q166.227 508.123 163.149 512.729 Q160.093 517.313 154.283 517.313 Q148.473 517.313 145.394 512.729 Q142.339 508.123 142.339 499.396 Q142.339 490.646 145.394 486.063 Q148.473 481.456 154.283 481.456 Z\" fill=\"#000000\" fill-rule=\"nonzero\" fill-opacity=\"1\" /><path clip-path=\"url(#clip530)\" d=\"M174.445 510.762 L179.329 510.762 L179.329 516.641 L174.445 516.641 L174.445 510.762 Z\" fill=\"#000000\" fill-rule=\"nonzero\" fill-opacity=\"1\" /><path clip-path=\"url(#clip530)\" d=\"M199.514 485.16 Q195.903 485.16 194.075 488.725 Q192.269 492.266 192.269 499.396 Q192.269 506.502 194.075 510.067 Q195.903 513.609 199.514 513.609 Q203.149 513.609 204.954 510.067 Q206.783 506.502 206.783 499.396 Q206.783 492.266 204.954 488.725 Q203.149 485.16 199.514 485.16 M199.514 481.456 Q205.324 481.456 208.38 486.063 Q211.459 490.646 211.459 499.396 Q211.459 508.123 208.38 512.729 Q205.324 517.313 199.514 517.313 Q193.704 517.313 190.625 512.729 Q187.57 508.123 187.57 499.396 Q187.57 490.646 190.625 486.063 Q193.704 481.456 199.514 481.456 Z\" fill=\"#000000\" fill-rule=\"nonzero\" fill-opacity=\"1\" /><path clip-path=\"url(#clip530)\" d=\"M115.927 289.864 L123.566 289.864 L123.566 263.499 L115.256 265.166 L115.256 260.906 L123.519 259.24 L128.195 259.24 L128.195 289.864 L135.834 289.864 L135.834 293.8 L115.927 293.8 L115.927 289.864 Z\" fill=\"#000000\" fill-rule=\"nonzero\" fill-opacity=\"1\" /><path clip-path=\"url(#clip530)\" d=\"M149.306 289.864 L165.626 289.864 L165.626 293.8 L143.681 293.8 L143.681 289.864 Q146.343 287.11 150.927 282.48 Q155.533 277.827 156.714 276.485 Q158.959 273.962 159.839 272.226 Q160.741 270.466 160.741 268.777 Q160.741 266.022 158.797 264.286 Q156.876 262.55 153.774 262.55 Q151.575 262.55 149.121 263.314 Q146.691 264.078 143.913 265.628 L143.913 260.906 Q146.737 259.772 149.191 259.193 Q151.644 258.615 153.681 258.615 Q159.052 258.615 162.246 261.3 Q165.44 263.985 165.44 268.476 Q165.44 270.605 164.63 272.527 Q163.843 274.425 161.737 277.017 Q161.158 277.689 158.056 280.906 Q154.954 284.101 149.306 289.864 Z\" fill=\"#000000\" fill-rule=\"nonzero\" fill-opacity=\"1\" /><path clip-path=\"url(#clip530)\" d=\"M175.44 287.92 L180.325 287.92 L180.325 293.8 L175.44 293.8 L175.44 287.92 Z\" fill=\"#000000\" fill-rule=\"nonzero\" fill-opacity=\"1\" /><path clip-path=\"url(#clip530)\" d=\"M190.556 259.24 L208.912 259.24 L208.912 263.175 L194.838 263.175 L194.838 271.647 Q195.857 271.3 196.875 271.138 Q197.894 270.953 198.912 270.953 Q204.699 270.953 208.079 274.124 Q211.459 277.295 211.459 282.712 Q211.459 288.29 207.987 291.392 Q204.514 294.471 198.195 294.471 Q196.019 294.471 193.75 294.101 Q191.505 293.73 189.098 292.989 L189.098 288.29 Q191.181 289.425 193.403 289.98 Q195.625 290.536 198.102 290.536 Q202.107 290.536 204.445 288.429 Q206.783 286.323 206.783 282.712 Q206.783 279.101 204.445 276.994 Q202.107 274.888 198.102 274.888 Q196.227 274.888 194.352 275.304 Q192.5 275.721 190.556 276.601 L190.556 259.24 Z\" fill=\"#000000\" fill-rule=\"nonzero\" fill-opacity=\"1\" /><path clip-path=\"url(#clip530)\" d=\"M16.4842 903.155 L16.4842 862.955 L21.895 862.955 L21.895 879.824 L64.0042 879.824 L64.0042 886.285 L21.895 886.285 L21.895 903.155 L16.4842 903.155 Z\" fill=\"#000000\" fill-rule=\"nonzero\" fill-opacity=\"1\" /><path clip-path=\"url(#clip530)\" d=\"M28.3562 859.008 L28.3562 853.152 L64.0042 853.152 L64.0042 859.008 L28.3562 859.008 M14.479 859.008 L14.479 853.152 L21.895 853.152 L21.895 859.008 L14.479 859.008 Z\" fill=\"#000000\" fill-rule=\"nonzero\" fill-opacity=\"1\" /><path clip-path=\"url(#clip530)\" d=\"M35.1993 813.143 Q31.2526 810.947 29.3747 807.892 Q27.4968 804.836 27.4968 800.699 Q27.4968 795.129 31.4117 792.105 Q35.2948 789.081 42.4881 789.081 L64.0042 789.081 L64.0042 794.969 L42.679 794.969 Q37.5546 794.969 35.072 796.784 Q32.5894 798.598 32.5894 802.322 Q32.5894 806.873 35.6131 809.515 Q38.6368 812.157 43.8567 812.157 L64.0042 812.157 L64.0042 818.045 L42.679 818.045 Q37.5228 818.045 35.072 819.859 Q32.5894 821.674 32.5894 825.461 Q32.5894 829.949 35.6449 832.591 Q38.6686 835.232 43.8567 835.232 L64.0042 835.232 L64.0042 841.121 L28.3562 841.121 L28.3562 835.232 L33.8944 835.232 Q30.616 833.227 29.0564 830.426 Q27.4968 827.625 27.4968 823.774 Q27.4968 819.891 29.4702 817.186 Q31.4436 814.448 35.1993 813.143 Z\" fill=\"#000000\" fill-rule=\"nonzero\" fill-opacity=\"1\" /><path clip-path=\"url(#clip530)\" d=\"M44.7161 746.908 L47.5806 746.908 L47.5806 773.835 Q53.6281 773.453 56.8109 770.207 Q59.9619 766.928 59.9619 761.104 Q59.9619 757.73 59.1344 754.579 Q58.3069 751.396 56.6518 748.277 L62.1899 748.277 Q63.5267 751.428 64.227 754.738 Q64.9272 758.048 64.9272 761.454 Q64.9272 769.984 59.9619 774.981 Q54.9967 779.946 46.5303 779.946 Q37.7774 779.946 32.6531 775.236 Q27.4968 770.493 27.4968 762.472 Q27.4968 755.279 32.1438 751.11 Q36.7589 746.908 44.7161 746.908 M42.9973 752.765 Q38.1912 752.828 35.3266 755.47 Q32.4621 758.08 32.4621 762.409 Q32.4621 767.31 35.2312 770.27 Q38.0002 773.199 43.0292 773.644 L42.9973 752.765 Z\" fill=\"#000000\" fill-rule=\"nonzero\" fill-opacity=\"1\" /><path clip-path=\"url(#clip530)\" d=\"M14.5426 702.507 Q21.8632 706.773 29.0246 708.841 Q36.186 710.91 43.5384 710.91 Q50.8908 710.91 58.1159 708.841 Q65.3091 706.741 72.5979 702.507 L72.5979 707.6 Q65.1182 712.374 57.8931 714.761 Q50.668 717.117 43.5384 717.117 Q36.4406 717.117 29.2474 714.761 Q22.0542 712.406 14.5426 707.6 L14.5426 702.507 Z\" fill=\"#000000\" fill-rule=\"nonzero\" fill-opacity=\"1\" /><path clip-path=\"url(#clip530)\" d=\"M29.4065 668.419 L34.9447 668.419 Q33.6716 670.902 33.035 673.575 Q32.3984 676.249 32.3984 679.114 Q32.3984 683.474 33.7352 685.67 Q35.072 687.835 37.7456 687.835 Q39.7826 687.835 40.9603 686.275 Q42.1061 684.715 43.1565 680.005 L43.6021 678 Q44.9389 671.761 47.3897 669.151 Q49.8086 666.509 54.1691 666.509 Q59.1344 666.509 62.0308 670.456 Q64.9272 674.371 64.9272 681.246 Q64.9272 684.111 64.3543 687.23 Q63.8132 690.317 62.6992 693.755 L56.6518 693.755 Q58.3387 690.508 59.198 687.357 Q60.0256 684.206 60.0256 681.119 Q60.0256 676.981 58.6251 674.753 Q57.1929 672.525 54.6147 672.525 Q52.2276 672.525 50.9545 674.148 Q49.6813 675.74 48.5037 681.182 L48.0262 683.219 Q46.8804 688.662 44.5251 691.081 Q42.138 693.5 38.0002 693.5 Q32.9713 693.5 30.2341 689.935 Q27.4968 686.37 27.4968 679.814 Q27.4968 676.567 27.9743 673.703 Q28.4517 670.838 29.4065 668.419 Z\" fill=\"#000000\" fill-rule=\"nonzero\" fill-opacity=\"1\" /><path clip-path=\"url(#clip530)\" d=\"M14.5426 658.107 L14.5426 653.014 Q22.0542 648.24 29.2474 645.885 Q36.4406 643.497 43.5384 643.497 Q50.668 643.497 57.8931 645.885 Q65.1182 648.24 72.5979 653.014 L72.5979 658.107 Q65.3091 653.873 58.1159 651.805 Q50.8908 649.704 43.5384 649.704 Q36.186 649.704 29.0246 651.805 Q21.8632 653.873 14.5426 658.107 Z\" fill=\"#000000\" fill-rule=\"nonzero\" fill-opacity=\"1\" /><path clip-path=\"url(#clip530)\" d=\"M198.768 12.096 L237.008 12.096 L237.008 18.9825 L206.951 18.9825 L206.951 36.8875 L235.752 36.8875 L235.752 43.7741 L206.951 43.7741 L206.951 65.6895 L237.737 65.6895 L237.737 72.576 L198.768 72.576 L198.768 12.096 Z\" fill=\"#000000\" fill-rule=\"nonzero\" fill-opacity=\"1\" /><path clip-path=\"url(#clip530)\" d=\"M288.576 27.2059 L272.17 49.2833 L289.427 72.576 L280.636 72.576 L267.431 54.752 L254.225 72.576 L245.434 72.576 L263.056 48.8377 L246.933 27.2059 L255.723 27.2059 L267.755 43.369 L279.786 27.2059 L288.576 27.2059 Z\" fill=\"#000000\" fill-rule=\"nonzero\" fill-opacity=\"1\" /><path clip-path=\"url(#clip530)\" d=\"M336.215 48.0275 L336.215 51.6733 L301.944 51.6733 Q302.43 59.3701 306.562 63.421 Q310.735 67.4314 318.148 67.4314 Q322.442 67.4314 326.452 66.3781 Q330.503 65.3249 334.473 63.2184 L334.473 70.267 Q330.463 71.9684 326.25 72.8596 Q322.037 73.7508 317.702 73.7508 Q306.846 73.7508 300.486 67.4314 Q294.167 61.1119 294.167 50.3365 Q294.167 39.1965 300.162 32.6746 Q306.198 26.1121 316.406 26.1121 Q325.561 26.1121 330.868 32.0264 Q336.215 37.9003 336.215 48.0275 M328.761 45.84 Q328.68 39.7232 325.318 36.0774 Q321.996 32.4315 316.487 32.4315 Q310.249 32.4315 306.481 35.9558 Q302.754 39.4801 302.187 45.8805 L328.761 45.84 Z\" fill=\"#000000\" fill-rule=\"nonzero\" fill-opacity=\"1\" /><path clip-path=\"url(#clip530)\" d=\"M381.099 28.9478 L381.099 35.9153 Q377.939 34.1734 374.739 33.3227 Q371.579 32.4315 368.339 32.4315 Q361.087 32.4315 357.077 37.0496 Q353.067 41.6271 353.067 49.9314 Q353.067 58.2358 357.077 62.8538 Q361.087 67.4314 368.339 67.4314 Q371.579 67.4314 374.739 66.5807 Q377.939 65.6895 381.099 63.9476 L381.099 70.8341 Q377.98 72.2924 374.617 73.0216 Q371.296 73.7508 367.528 73.7508 Q357.28 73.7508 351.244 67.3098 Q345.208 60.8689 345.208 49.9314 Q345.208 38.832 351.284 32.472 Q357.401 26.1121 368.015 26.1121 Q371.458 26.1121 374.739 26.8413 Q378.02 27.5299 381.099 28.9478 Z\" fill=\"#000000\" fill-rule=\"nonzero\" fill-opacity=\"1\" /><path clip-path=\"url(#clip530)\" d=\"M393.292 54.671 L393.292 27.2059 L400.746 27.2059 L400.746 54.3874 Q400.746 60.8284 403.257 64.0691 Q405.769 67.2693 410.792 67.2693 Q416.828 67.2693 420.312 63.421 Q423.836 59.5726 423.836 52.9291 L423.836 27.2059 L431.29 27.2059 L431.29 72.576 L423.836 72.576 L423.836 65.6084 Q421.122 69.7404 417.517 71.7658 Q413.952 73.7508 409.212 73.7508 Q401.394 73.7508 397.343 68.8897 Q393.292 64.0286 393.292 54.671 M412.048 26.1121 L412.048 26.1121 Z\" fill=\"#000000\" fill-rule=\"nonzero\" fill-opacity=\"1\" /><path clip-path=\"url(#clip530)\" d=\"M454.015 14.324 L454.015 27.2059 L469.368 27.2059 L469.368 32.9987 L454.015 32.9987 L454.015 57.6282 Q454.015 63.1779 455.514 64.7578 Q457.053 66.3376 461.712 66.3376 L469.368 66.3376 L469.368 72.576 L461.712 72.576 Q453.083 72.576 449.802 69.3758 Q446.521 66.1351 446.521 57.6282 L446.521 32.9987 L441.052 32.9987 L441.052 27.2059 L446.521 27.2059 L446.521 14.324 L454.015 14.324 Z\" fill=\"#000000\" fill-rule=\"nonzero\" fill-opacity=\"1\" /><path clip-path=\"url(#clip530)\" d=\"M479.171 27.2059 L486.625 27.2059 L486.625 72.576 L479.171 72.576 L479.171 27.2059 M479.171 9.54393 L486.625 9.54393 L486.625 18.9825 L479.171 18.9825 L479.171 9.54393 Z\" fill=\"#000000\" fill-rule=\"nonzero\" fill-opacity=\"1\" /><path clip-path=\"url(#clip530)\" d=\"M519.802 32.4315 Q513.807 32.4315 510.323 37.1306 Q506.839 41.7891 506.839 49.9314 Q506.839 58.0738 510.282 62.7728 Q513.766 67.4314 519.802 67.4314 Q525.757 67.4314 529.24 62.7323 Q532.724 58.0333 532.724 49.9314 Q532.724 41.8701 529.24 37.1711 Q525.757 32.4315 519.802 32.4315 M519.802 26.1121 Q529.524 26.1121 535.074 32.4315 Q540.624 38.7509 540.624 49.9314 Q540.624 61.0714 535.074 67.4314 Q529.524 73.7508 519.802 73.7508 Q510.039 73.7508 504.489 67.4314 Q498.98 61.0714 498.98 49.9314 Q498.98 38.7509 504.489 32.4315 Q510.039 26.1121 519.802 26.1121 Z\" fill=\"#000000\" fill-rule=\"nonzero\" fill-opacity=\"1\" /><path clip-path=\"url(#clip530)\" d=\"M590.693 45.1919 L590.693 72.576 L583.239 72.576 L583.239 45.4349 Q583.239 38.994 580.727 35.7938 Q578.216 32.5936 573.193 32.5936 Q567.157 32.5936 563.673 36.4419 Q560.189 40.2903 560.189 46.9338 L560.189 72.576 L552.695 72.576 L552.695 27.2059 L560.189 27.2059 L560.189 34.2544 Q562.863 30.163 566.468 28.1376 Q570.114 26.1121 574.854 26.1121 Q582.672 26.1121 586.682 30.9732 Q590.693 35.7938 590.693 45.1919 Z\" fill=\"#000000\" fill-rule=\"nonzero\" fill-opacity=\"1\" /><path clip-path=\"url(#clip530)\" d=\"M623.87 12.096 L675.033 12.096 L675.033 18.9825 L653.563 18.9825 L653.563 72.576 L645.339 72.576 L645.339 18.9825 L623.87 18.9825 L623.87 12.096 Z\" fill=\"#000000\" fill-rule=\"nonzero\" fill-opacity=\"1\" /><path clip-path=\"url(#clip530)\" d=\"M680.056 27.2059 L687.509 27.2059 L687.509 72.576 L680.056 72.576 L680.056 27.2059 M680.056 9.54393 L687.509 9.54393 L687.509 18.9825 L680.056 18.9825 L680.056 9.54393 Z\" fill=\"#000000\" fill-rule=\"nonzero\" fill-opacity=\"1\" /><path clip-path=\"url(#clip530)\" d=\"M738.429 35.9153 Q741.224 30.8922 745.113 28.5022 Q749.002 26.1121 754.268 26.1121 Q761.357 26.1121 765.206 31.0947 Q769.054 36.0368 769.054 45.1919 L769.054 72.576 L761.56 72.576 L761.56 45.4349 Q761.56 38.913 759.251 35.7533 Q756.942 32.5936 752.202 32.5936 Q746.409 32.5936 743.047 36.4419 Q739.685 40.2903 739.685 46.9338 L739.685 72.576 L732.191 72.576 L732.191 45.4349 Q732.191 38.8725 729.882 35.7533 Q727.573 32.5936 722.752 32.5936 Q717.04 32.5936 713.678 36.4824 Q710.316 40.3308 710.316 46.9338 L710.316 72.576 L702.822 72.576 L702.822 27.2059 L710.316 27.2059 L710.316 34.2544 Q712.868 30.082 716.433 28.0971 Q719.998 26.1121 724.899 26.1121 Q729.841 26.1121 733.285 28.6237 Q736.768 31.1352 738.429 35.9153 Z\" fill=\"#000000\" fill-rule=\"nonzero\" fill-opacity=\"1\" /><path clip-path=\"url(#clip530)\" d=\"M822.729 48.0275 L822.729 51.6733 L788.458 51.6733 Q788.944 59.3701 793.076 63.421 Q797.248 67.4314 804.661 67.4314 Q808.955 67.4314 812.966 66.3781 Q817.017 65.3249 820.987 63.2184 L820.987 70.267 Q816.976 71.9684 812.763 72.8596 Q808.55 73.7508 804.216 73.7508 Q793.359 73.7508 787 67.4314 Q780.68 61.1119 780.68 50.3365 Q780.68 39.1965 786.675 32.6746 Q792.711 26.1121 802.92 26.1121 Q812.075 26.1121 817.381 32.0264 Q822.729 37.9003 822.729 48.0275 M815.275 45.84 Q815.194 39.7232 811.832 36.0774 Q808.51 32.4315 803.001 32.4315 Q796.762 32.4315 792.995 35.9558 Q789.268 39.4801 788.701 45.8805 L815.275 45.84 Z\" fill=\"#000000\" fill-rule=\"nonzero\" fill-opacity=\"1\" /><path clip-path=\"url(#clip530)\" d=\"M878.915 32.4315 Q872.919 32.4315 869.435 37.1306 Q865.952 41.7891 865.952 49.9314 Q865.952 58.0738 869.395 62.7728 Q872.879 67.4314 878.915 67.4314 Q884.869 67.4314 888.353 62.7323 Q891.837 58.0333 891.837 49.9314 Q891.837 41.8701 888.353 37.1711 Q884.869 32.4315 878.915 32.4315 M878.915 26.1121 Q888.637 26.1121 894.186 32.4315 Q899.736 38.7509 899.736 49.9314 Q899.736 61.0714 894.186 67.4314 Q888.637 73.7508 878.915 73.7508 Q869.152 73.7508 863.602 67.4314 Q858.093 61.0714 858.093 49.9314 Q858.093 38.7509 863.602 32.4315 Q869.152 26.1121 878.915 26.1121 Z\" fill=\"#000000\" fill-rule=\"nonzero\" fill-opacity=\"1\" /><path clip-path=\"url(#clip530)\" d=\"M935.06 9.54393 L935.06 15.7418 L927.93 15.7418 Q923.92 15.7418 922.34 17.3622 Q920.801 18.9825 920.801 23.1955 L920.801 27.2059 L933.075 27.2059 L933.075 32.9987 L920.801 32.9987 L920.801 72.576 L913.307 72.576 L913.307 32.9987 L906.177 32.9987 L906.177 27.2059 L913.307 27.2059 L913.307 24.0462 Q913.307 16.471 916.831 13.0277 Q920.355 9.54393 928.012 9.54393 L935.06 9.54393 Z\" fill=\"#000000\" fill-rule=\"nonzero\" fill-opacity=\"1\" /><path clip-path=\"url(#clip530)\" d=\"M976.177 18.8205 L976.177 65.8515 L986.061 65.8515 Q998.578 65.8515 1004.37 60.1802 Q1010.2 54.509 1010.2 42.2752 Q1010.2 30.1225 1004.37 24.4918 Q998.578 18.8205 986.061 18.8205 L976.177 18.8205 M967.994 12.096 L984.805 12.096 Q1002.39 12.096 1010.61 19.4281 Q1018.83 26.7198 1018.83 42.2752 Q1018.83 57.9117 1010.57 65.2439 Q1002.31 72.576 984.805 72.576 L967.994 72.576 L967.994 12.096 Z\" fill=\"#000000\" fill-rule=\"nonzero\" fill-opacity=\"1\" /><path clip-path=\"url(#clip530)\" d=\"M1070.36 48.0275 L1070.36 51.6733 L1036.09 51.6733 Q1036.58 59.3701 1040.71 63.421 Q1044.88 67.4314 1052.29 67.4314 Q1056.59 67.4314 1060.6 66.3781 Q1064.65 65.3249 1068.62 63.2184 L1068.62 70.267 Q1064.61 71.9684 1060.4 72.8596 Q1056.18 73.7508 1051.85 73.7508 Q1040.99 73.7508 1034.63 67.4314 Q1028.31 61.1119 1028.31 50.3365 Q1028.31 39.1965 1034.31 32.6746 Q1040.34 26.1121 1050.55 26.1121 Q1059.71 26.1121 1065.01 32.0264 Q1070.36 37.9003 1070.36 48.0275 M1062.91 45.84 Q1062.83 39.7232 1059.46 36.0774 Q1056.14 32.4315 1050.63 32.4315 Q1044.39 32.4315 1040.63 35.9558 Q1036.9 39.4801 1036.33 45.8805 L1062.91 45.84 Z\" fill=\"#000000\" fill-rule=\"nonzero\" fill-opacity=\"1\" /><path clip-path=\"url(#clip530)\" d=\"M1089.8 65.7705 L1089.8 89.8329 L1082.31 89.8329 L1082.31 27.2059 L1089.8 27.2059 L1089.8 34.0924 Q1092.15 30.0415 1095.72 28.0971 Q1099.32 26.1121 1104.31 26.1121 Q1112.57 26.1121 1117.72 32.6746 Q1122.9 39.2371 1122.9 49.9314 Q1122.9 60.6258 1117.72 67.1883 Q1112.57 73.7508 1104.31 73.7508 Q1099.32 73.7508 1095.72 71.8063 Q1092.15 69.8214 1089.8 65.7705 M1115.16 49.9314 Q1115.16 41.7081 1111.76 37.0496 Q1108.4 32.3505 1102.48 32.3505 Q1096.57 32.3505 1093.17 37.0496 Q1089.8 41.7081 1089.8 49.9314 Q1089.8 58.1548 1093.17 62.8538 Q1096.57 67.5124 1102.48 67.5124 Q1108.4 67.5124 1111.76 62.8538 Q1115.16 58.1548 1115.16 49.9314 Z\" fill=\"#000000\" fill-rule=\"nonzero\" fill-opacity=\"1\" /><path clip-path=\"url(#clip530)\" d=\"M1142.63 14.324 L1142.63 27.2059 L1157.98 27.2059 L1157.98 32.9987 L1142.63 32.9987 L1142.63 57.6282 Q1142.63 63.1779 1144.13 64.7578 Q1145.67 66.3376 1150.33 66.3376 L1157.98 66.3376 L1157.98 72.576 L1150.33 72.576 Q1141.7 72.576 1138.42 69.3758 Q1135.13 66.1351 1135.13 57.6282 L1135.13 32.9987 L1129.67 32.9987 L1129.67 27.2059 L1135.13 27.2059 L1135.13 14.324 L1142.63 14.324 Z\" fill=\"#000000\" fill-rule=\"nonzero\" fill-opacity=\"1\" /><path clip-path=\"url(#clip530)\" d=\"M1205.5 45.1919 L1205.5 72.576 L1198.04 72.576 L1198.04 45.4349 Q1198.04 38.994 1195.53 35.7938 Q1193.02 32.5936 1188 32.5936 Q1181.96 32.5936 1178.48 36.4419 Q1175 40.2903 1175 46.9338 L1175 72.576 L1167.5 72.576 L1167.5 9.54393 L1175 9.54393 L1175 34.2544 Q1177.67 30.163 1181.27 28.1376 Q1184.92 26.1121 1189.66 26.1121 Q1197.48 26.1121 1201.49 30.9732 Q1205.5 35.7938 1205.5 45.1919 Z\" fill=\"#000000\" fill-rule=\"nonzero\" fill-opacity=\"1\" /><path clip-path=\"url(#clip530)\" d=\"M1253.95 65.7705 L1253.95 89.8329 L1246.45 89.8329 L1246.45 27.2059 L1253.95 27.2059 L1253.95 34.0924 Q1256.3 30.0415 1259.86 28.0971 Q1263.47 26.1121 1268.45 26.1121 Q1276.71 26.1121 1281.86 32.6746 Q1287.04 39.2371 1287.04 49.9314 Q1287.04 60.6258 1281.86 67.1883 Q1276.71 73.7508 1268.45 73.7508 Q1263.47 73.7508 1259.86 71.8063 Q1256.3 69.8214 1253.95 65.7705 M1279.31 49.9314 Q1279.31 41.7081 1275.9 37.0496 Q1272.54 32.3505 1266.63 32.3505 Q1260.71 32.3505 1257.31 37.0496 Q1253.95 41.7081 1253.95 49.9314 Q1253.95 58.1548 1257.31 62.8538 Q1260.71 67.5124 1266.63 67.5124 Q1272.54 67.5124 1275.9 62.8538 Q1279.31 58.1548 1279.31 49.9314 Z\" fill=\"#000000\" fill-rule=\"nonzero\" fill-opacity=\"1\" /><path clip-path=\"url(#clip530)\" d=\"M1338.21 48.0275 L1338.21 51.6733 L1303.94 51.6733 Q1304.42 59.3701 1308.55 63.421 Q1312.73 67.4314 1320.14 67.4314 Q1324.43 67.4314 1328.44 66.3781 Q1332.49 65.3249 1336.46 63.2184 L1336.46 70.267 Q1332.45 71.9684 1328.24 72.8596 Q1324.03 73.7508 1319.69 73.7508 Q1308.84 73.7508 1302.48 67.4314 Q1296.16 61.1119 1296.16 50.3365 Q1296.16 39.1965 1302.15 32.6746 Q1308.19 26.1121 1318.4 26.1121 Q1327.55 26.1121 1332.86 32.0264 Q1338.21 37.9003 1338.21 48.0275 M1330.75 45.84 Q1330.67 39.7232 1327.31 36.0774 Q1323.99 32.4315 1318.48 32.4315 Q1312.24 32.4315 1308.47 35.9558 Q1304.75 39.4801 1304.18 45.8805 L1330.75 45.84 Z\" fill=\"#000000\" fill-rule=\"nonzero\" fill-opacity=\"1\" /><path clip-path=\"url(#clip530)\" d=\"M1376.73 34.1734 Q1375.47 33.4443 1373.98 33.1202 Q1372.52 32.7556 1370.73 32.7556 Q1364.42 32.7556 1361.01 36.8875 Q1357.65 40.9789 1357.65 48.6757 L1357.65 72.576 L1350.16 72.576 L1350.16 27.2059 L1357.65 27.2059 L1357.65 34.2544 Q1360 30.1225 1363.77 28.1376 Q1367.53 26.1121 1372.92 26.1121 Q1373.69 26.1121 1374.62 26.2337 Q1375.56 26.3147 1376.69 26.5172 L1376.73 34.1734 Z\" fill=\"#000000\" fill-rule=\"nonzero\" fill-opacity=\"1\" /><path clip-path=\"url(#clip530)\" d=\"M1440.77 49.3643 Q1440.77 41.2625 1437.41 36.8065 Q1434.09 32.3505 1428.06 32.3505 Q1422.06 32.3505 1418.7 36.8065 Q1415.38 41.2625 1415.38 49.3643 Q1415.38 57.4256 1418.7 61.8816 Q1422.06 66.3376 1428.06 66.3376 Q1434.09 66.3376 1437.41 61.8816 Q1440.77 57.4256 1440.77 49.3643 M1448.23 66.9452 Q1448.23 78.5308 1443.08 84.1616 Q1437.94 89.8329 1427.33 89.8329 Q1423.4 89.8329 1419.91 89.2252 Q1416.43 88.6581 1413.15 87.4428 L1413.15 80.1917 Q1416.43 81.9741 1419.63 82.8248 Q1422.83 83.6755 1426.15 83.6755 Q1433.48 83.6755 1437.13 79.8271 Q1440.77 76.0193 1440.77 68.282 L1440.77 64.5957 Q1438.47 68.6061 1434.86 70.5911 Q1431.26 72.576 1426.23 72.576 Q1417.89 72.576 1412.78 66.2161 Q1407.68 59.8562 1407.68 49.3643 Q1407.68 38.832 1412.78 32.472 Q1417.89 26.1121 1426.23 26.1121 Q1431.26 26.1121 1434.86 28.0971 Q1438.47 30.082 1440.77 34.0924 L1440.77 27.2059 L1448.23 27.2059 L1448.23 66.9452 Z\" fill=\"#000000\" fill-rule=\"nonzero\" fill-opacity=\"1\" /><path clip-path=\"url(#clip530)\" d=\"M1484.2 49.7694 Q1475.17 49.7694 1471.68 51.8354 Q1468.2 53.9013 1468.2 58.8839 Q1468.2 62.8538 1470.79 65.2034 Q1473.43 67.5124 1477.92 67.5124 Q1484.12 67.5124 1487.85 63.1374 Q1491.61 58.7219 1491.61 51.4303 L1491.61 49.7694 L1484.2 49.7694 M1499.07 46.6907 L1499.07 72.576 L1491.61 72.576 L1491.61 65.6895 Q1489.06 69.8214 1485.25 71.8063 Q1481.45 73.7508 1475.94 73.7508 Q1468.97 73.7508 1464.84 69.8619 Q1460.75 65.9325 1460.75 59.3701 Q1460.75 51.7138 1465.85 47.825 Q1470.99 43.9361 1481.16 43.9361 L1491.61 43.9361 L1491.61 43.2069 Q1491.61 38.0623 1488.21 35.2672 Q1484.85 32.4315 1478.73 32.4315 Q1474.84 32.4315 1471.16 33.3632 Q1467.47 34.295 1464.07 36.1584 L1464.07 29.2718 Q1468.16 27.692 1472.01 26.9223 Q1475.86 26.1121 1479.5 26.1121 Q1489.35 26.1121 1494.21 31.2163 Q1499.07 36.3204 1499.07 46.6907 Z\" fill=\"#000000\" fill-rule=\"nonzero\" fill-opacity=\"1\" /><path clip-path=\"url(#clip530)\" d=\"M1549.74 35.9153 Q1552.54 30.8922 1556.43 28.5022 Q1560.32 26.1121 1565.58 26.1121 Q1572.67 26.1121 1576.52 31.0947 Q1580.37 36.0368 1580.37 45.1919 L1580.37 72.576 L1572.87 72.576 L1572.87 45.4349 Q1572.87 38.913 1570.57 35.7533 Q1568.26 32.5936 1563.52 32.5936 Q1557.72 32.5936 1554.36 36.4419 Q1551 40.2903 1551 46.9338 L1551 72.576 L1543.51 72.576 L1543.51 45.4349 Q1543.51 38.8725 1541.2 35.7533 Q1538.89 32.5936 1534.07 32.5936 Q1528.36 32.5936 1524.99 36.4824 Q1521.63 40.3308 1521.63 46.9338 L1521.63 72.576 L1514.14 72.576 L1514.14 27.2059 L1521.63 27.2059 L1521.63 34.2544 Q1524.18 30.082 1527.75 28.0971 Q1531.31 26.1121 1536.21 26.1121 Q1541.16 26.1121 1544.6 28.6237 Q1548.08 31.1352 1549.74 35.9153 Z\" fill=\"#000000\" fill-rule=\"nonzero\" fill-opacity=\"1\" /><path clip-path=\"url(#clip530)\" d=\"M1634.04 48.0275 L1634.04 51.6733 L1599.77 51.6733 Q1600.26 59.3701 1604.39 63.421 Q1608.56 67.4314 1615.98 67.4314 Q1620.27 67.4314 1624.28 66.3781 Q1628.33 65.3249 1632.3 63.2184 L1632.3 70.267 Q1628.29 71.9684 1624.08 72.8596 Q1619.87 73.7508 1615.53 73.7508 Q1604.67 73.7508 1598.31 67.4314 Q1592 61.1119 1592 50.3365 Q1592 39.1965 1597.99 32.6746 Q1604.03 26.1121 1614.23 26.1121 Q1623.39 26.1121 1628.7 32.0264 Q1634.04 37.9003 1634.04 48.0275 M1626.59 45.84 Q1626.51 39.7232 1623.15 36.0774 Q1619.82 32.4315 1614.32 32.4315 Q1608.08 32.4315 1604.31 35.9558 Q1600.58 39.4801 1600.02 45.8805 L1626.59 45.84 Z\" fill=\"#000000\" fill-rule=\"nonzero\" fill-opacity=\"1\" /><path clip-path=\"url(#clip530)\" d=\"M1690.55 9.62495 Q1685.13 18.942 1682.49 28.0566 Q1679.86 37.1711 1679.86 46.5287 Q1679.86 55.8863 1682.49 65.0818 Q1685.17 74.2369 1690.55 83.5134 L1684.07 83.5134 Q1678 73.9938 1674.96 64.7983 Q1671.96 55.6027 1671.96 46.5287 Q1671.96 37.4952 1674.96 28.3401 Q1677.96 19.1851 1684.07 9.62495 L1690.55 9.62495 Z\" fill=\"#000000\" fill-rule=\"nonzero\" fill-opacity=\"1\" /><path clip-path=\"url(#clip530)\" d=\"M1712.39 14.324 L1712.39 27.2059 L1727.74 27.2059 L1727.74 32.9987 L1712.39 32.9987 L1712.39 57.6282 Q1712.39 63.1779 1713.89 64.7578 Q1715.43 66.3376 1720.08 66.3376 L1727.74 66.3376 L1727.74 72.576 L1720.08 72.576 Q1711.46 72.576 1708.18 69.3758 Q1704.89 66.1351 1704.89 57.6282 L1704.89 32.9987 L1699.43 32.9987 L1699.43 27.2059 L1704.89 27.2059 L1704.89 14.324 L1712.39 14.324 Z\" fill=\"#000000\" fill-rule=\"nonzero\" fill-opacity=\"1\" /><path clip-path=\"url(#clip530)\" d=\"M1755.13 32.4315 Q1749.13 32.4315 1745.65 37.1306 Q1742.16 41.7891 1742.16 49.9314 Q1742.16 58.0738 1745.61 62.7728 Q1749.09 67.4314 1755.13 67.4314 Q1761.08 67.4314 1764.56 62.7323 Q1768.05 58.0333 1768.05 49.9314 Q1768.05 41.8701 1764.56 37.1711 Q1761.08 32.4315 1755.13 32.4315 M1755.13 26.1121 Q1764.85 26.1121 1770.4 32.4315 Q1775.95 38.7509 1775.95 49.9314 Q1775.95 61.0714 1770.4 67.4314 Q1764.85 73.7508 1755.13 73.7508 Q1745.36 73.7508 1739.81 67.4314 Q1734.3 61.0714 1734.3 49.9314 Q1734.3 38.7509 1739.81 32.4315 Q1745.36 26.1121 1755.13 26.1121 Z\" fill=\"#000000\" fill-rule=\"nonzero\" fill-opacity=\"1\" /><path clip-path=\"url(#clip530)\" d=\"M1795.51 65.7705 L1795.51 89.8329 L1788.02 89.8329 L1788.02 27.2059 L1795.51 27.2059 L1795.51 34.0924 Q1797.86 30.0415 1801.43 28.0971 Q1805.03 26.1121 1810.01 26.1121 Q1818.28 26.1121 1823.42 32.6746 Q1828.61 39.2371 1828.61 49.9314 Q1828.61 60.6258 1823.42 67.1883 Q1818.28 73.7508 1810.01 73.7508 Q1805.03 73.7508 1801.43 71.8063 Q1797.86 69.8214 1795.51 65.7705 M1820.87 49.9314 Q1820.87 41.7081 1817.47 37.0496 Q1814.11 32.3505 1808.19 32.3505 Q1802.28 32.3505 1798.87 37.0496 Q1795.51 41.7081 1795.51 49.9314 Q1795.51 58.1548 1798.87 62.8538 Q1802.28 67.5124 1808.19 67.5124 Q1814.11 67.5124 1817.47 62.8538 Q1820.87 58.1548 1820.87 49.9314 Z\" fill=\"#000000\" fill-rule=\"nonzero\" fill-opacity=\"1\" /><path clip-path=\"url(#clip530)\" d=\"M1868.47 12.096 L1900.59 12.096 L1900.59 18.9825 L1875.96 18.9825 L1875.96 33.8088 Q1877.75 33.2012 1879.53 32.9176 Q1881.31 32.5936 1883.09 32.5936 Q1893.22 32.5936 1899.13 38.1433 Q1905.05 43.6931 1905.05 53.1722 Q1905.05 62.9348 1898.97 68.3631 Q1892.9 73.7508 1881.84 73.7508 Q1878.03 73.7508 1874.06 73.1026 Q1870.13 72.4545 1865.92 71.1582 L1865.92 62.9348 Q1869.56 64.9198 1873.45 65.892 Q1877.34 66.8642 1881.68 66.8642 Q1888.68 66.8642 1892.77 63.1779 Q1896.87 59.4916 1896.87 53.1722 Q1896.87 46.8528 1892.77 43.1664 Q1888.68 39.4801 1881.68 39.4801 Q1878.39 39.4801 1875.11 40.2093 Q1871.87 40.9384 1868.47 42.4778 L1868.47 12.096 Z\" fill=\"#000000\" fill-rule=\"nonzero\" fill-opacity=\"1\" /><path clip-path=\"url(#clip530)\" d=\"M1979.06 49.9314 Q1979.06 41.7081 1975.66 37.0496 Q1972.29 32.3505 1966.38 32.3505 Q1960.47 32.3505 1957.06 37.0496 Q1953.7 41.7081 1953.7 49.9314 Q1953.7 58.1548 1957.06 62.8538 Q1960.47 67.5124 1966.38 67.5124 Q1972.29 67.5124 1975.66 62.8538 Q1979.06 58.1548 1979.06 49.9314 M1953.7 34.0924 Q1956.05 30.0415 1959.61 28.0971 Q1963.22 26.1121 1968.2 26.1121 Q1976.47 26.1121 1981.61 32.6746 Q1986.8 39.2371 1986.8 49.9314 Q1986.8 60.6258 1981.61 67.1883 Q1976.47 73.7508 1968.2 73.7508 Q1963.22 73.7508 1959.61 71.8063 Q1956.05 69.8214 1953.7 65.7705 L1953.7 72.576 L1946.21 72.576 L1946.21 9.54393 L1953.7 9.54393 L1953.7 34.0924 Z\" fill=\"#000000\" fill-rule=\"nonzero\" fill-opacity=\"1\" /><path clip-path=\"url(#clip530)\" d=\"M2037.96 48.0275 L2037.96 51.6733 L2003.69 51.6733 Q2004.17 59.3701 2008.31 63.421 Q2012.48 67.4314 2019.89 67.4314 Q2024.19 67.4314 2028.2 66.3781 Q2032.25 65.3249 2036.22 63.2184 L2036.22 70.267 Q2032.21 71.9684 2027.99 72.8596 Q2023.78 73.7508 2019.45 73.7508 Q2008.59 73.7508 2002.23 67.4314 Q1995.91 61.1119 1995.91 50.3365 Q1995.91 39.1965 2001.91 32.6746 Q2007.94 26.1121 2018.15 26.1121 Q2027.31 26.1121 2032.61 32.0264 Q2037.96 37.9003 2037.96 48.0275 M2030.51 45.84 Q2030.42 39.7232 2027.06 36.0774 Q2023.74 32.4315 2018.23 32.4315 Q2011.99 32.4315 2008.23 35.9558 Q2004.5 39.4801 2003.93 45.8805 L2030.51 45.84 Z\" fill=\"#000000\" fill-rule=\"nonzero\" fill-opacity=\"1\" /><path clip-path=\"url(#clip530)\" d=\"M2079.12 28.5427 L2079.12 35.5912 Q2075.96 33.9709 2072.55 33.1607 Q2069.15 32.3505 2065.51 32.3505 Q2059.96 32.3505 2057.16 34.0519 Q2054.41 35.7533 2054.41 39.156 Q2054.41 41.7486 2056.39 43.2475 Q2058.38 44.7058 2064.37 46.0426 L2066.92 46.6097 Q2074.86 48.3111 2078.18 51.4303 Q2081.55 54.509 2081.55 60.0587 Q2081.55 66.3781 2076.52 70.0644 Q2071.54 73.7508 2062.79 73.7508 Q2059.15 73.7508 2055.18 73.0216 Q2051.25 72.3329 2046.87 70.9151 L2046.87 63.2184 Q2051 65.3654 2055.01 66.4591 Q2059.02 67.5124 2062.95 67.5124 Q2068.22 67.5124 2071.06 65.73 Q2073.89 63.9071 2073.89 60.6258 Q2073.89 57.5877 2071.82 55.9673 Q2069.8 54.3469 2062.87 52.8481 L2060.28 52.2405 Q2053.35 50.7821 2050.27 47.7845 Q2047.2 44.7463 2047.2 39.4801 Q2047.2 33.0797 2051.73 29.5959 Q2056.27 26.1121 2064.61 26.1121 Q2068.75 26.1121 2072.39 26.7198 Q2076.04 27.3274 2079.12 28.5427 Z\" fill=\"#000000\" fill-rule=\"nonzero\" fill-opacity=\"1\" /><path clip-path=\"url(#clip530)\" d=\"M2100.79 14.324 L2100.79 27.2059 L2116.14 27.2059 L2116.14 32.9987 L2100.79 32.9987 L2100.79 57.6282 Q2100.79 63.1779 2102.29 64.7578 Q2103.83 66.3376 2108.49 66.3376 L2116.14 66.3376 L2116.14 72.576 L2108.49 72.576 Q2099.86 72.576 2096.58 69.3758 Q2093.29 66.1351 2093.29 57.6282 L2093.29 32.9987 L2087.83 32.9987 L2087.83 27.2059 L2093.29 27.2059 L2093.29 14.324 L2100.79 14.324 Z\" fill=\"#000000\" fill-rule=\"nonzero\" fill-opacity=\"1\" /><path clip-path=\"url(#clip530)\" d=\"M2187.64 35.9153 Q2190.44 30.8922 2194.32 28.5022 Q2198.21 26.1121 2203.48 26.1121 Q2210.57 26.1121 2214.42 31.0947 Q2218.27 36.0368 2218.27 45.1919 L2218.27 72.576 L2210.77 72.576 L2210.77 45.4349 Q2210.77 38.913 2208.46 35.7533 Q2206.15 32.5936 2201.41 32.5936 Q2195.62 32.5936 2192.26 36.4419 Q2188.9 40.2903 2188.9 46.9338 L2188.9 72.576 L2181.4 72.576 L2181.4 45.4349 Q2181.4 38.8725 2179.09 35.7533 Q2176.78 32.5936 2171.96 32.5936 Q2166.25 32.5936 2162.89 36.4824 Q2159.53 40.3308 2159.53 46.9338 L2159.53 72.576 L2152.03 72.576 L2152.03 27.2059 L2159.53 27.2059 L2159.53 34.2544 Q2162.08 30.082 2165.64 28.0971 Q2169.21 26.1121 2174.11 26.1121 Q2179.05 26.1121 2182.5 28.6237 Q2185.98 31.1352 2187.64 35.9153 Z\" fill=\"#000000\" fill-rule=\"nonzero\" fill-opacity=\"1\" /><path clip-path=\"url(#clip530)\" d=\"M2250.71 32.4315 Q2244.72 32.4315 2241.23 37.1306 Q2237.75 41.7891 2237.75 49.9314 Q2237.75 58.0738 2241.19 62.7728 Q2244.68 67.4314 2250.71 67.4314 Q2256.67 67.4314 2260.15 62.7323 Q2263.64 58.0333 2263.64 49.9314 Q2263.64 41.8701 2260.15 37.1711 Q2256.67 32.4315 2250.71 32.4315 M2250.71 26.1121 Q2260.43 26.1121 2265.98 32.4315 Q2271.53 38.7509 2271.53 49.9314 Q2271.53 61.0714 2265.98 67.4314 Q2260.43 73.7508 2250.71 73.7508 Q2240.95 73.7508 2235.4 67.4314 Q2229.89 61.0714 2229.89 49.9314 Q2229.89 38.7509 2235.4 32.4315 Q2240.95 26.1121 2250.71 26.1121 Z\" fill=\"#000000\" fill-rule=\"nonzero\" fill-opacity=\"1\" /><path clip-path=\"url(#clip530)\" d=\"M2278.54 27.2059 L2286.44 27.2059 L2300.62 65.2844 L2314.8 27.2059 L2322.7 27.2059 L2305.68 72.576 L2295.56 72.576 L2278.54 27.2059 Z\" fill=\"#000000\" fill-rule=\"nonzero\" fill-opacity=\"1\" /><path clip-path=\"url(#clip530)\" d=\"M2371.79 48.0275 L2371.79 51.6733 L2337.52 51.6733 Q2338.01 59.3701 2342.14 63.421 Q2346.31 67.4314 2353.73 67.4314 Q2358.02 67.4314 2362.03 66.3781 Q2366.08 65.3249 2370.05 63.2184 L2370.05 70.267 Q2366.04 71.9684 2361.83 72.8596 Q2357.62 73.7508 2353.28 73.7508 Q2342.43 73.7508 2336.07 67.4314 Q2329.75 61.1119 2329.75 50.3365 Q2329.75 39.1965 2335.74 32.6746 Q2341.78 26.1121 2351.99 26.1121 Q2361.14 26.1121 2366.45 32.0264 Q2371.79 37.9003 2371.79 48.0275 M2364.34 45.84 Q2364.26 39.7232 2360.9 36.0774 Q2357.58 32.4315 2352.07 32.4315 Q2345.83 32.4315 2342.06 35.9558 Q2338.33 39.4801 2337.77 45.8805 L2364.34 45.84 Z\" fill=\"#000000\" fill-rule=\"nonzero\" fill-opacity=\"1\" /><path clip-path=\"url(#clip530)\" d=\"M2382.85 9.62495 L2389.33 9.62495 Q2395.41 19.1851 2398.41 28.3401 Q2401.45 37.4952 2401.45 46.5287 Q2401.45 55.6027 2398.41 64.7983 Q2395.41 73.9938 2389.33 83.5134 L2382.85 83.5134 Q2388.24 74.2369 2390.87 65.0818 Q2393.55 55.8863 2393.55 46.5287 Q2393.55 37.1711 2390.87 28.0566 Q2388.24 18.942 2382.85 9.62495 Z\" fill=\"#000000\" fill-rule=\"nonzero\" fill-opacity=\"1\" /><polyline clip-path=\"url(#clip532)\" style=\"stroke:#009af9; stroke-linecap:round; stroke-linejoin:round; stroke-width:4; stroke-opacity:1; fill:none\" points=\"307.043,1386.4 505.656,1380.16 704.268,1381.2 902.881,1379.28 1101.49,1359.91 1300.11,1329.89 1498.72,1279.89 1697.33,1249.1 1895.95,993.298 2094.56,810.318 2293.17,160.256 \"/>\n",
       "<path clip-path=\"url(#clip530)\" d=\"M317.635 270.476 L580.595 270.476 L580.595 166.796 L317.635 166.796  Z\" fill=\"#ffffff\" fill-rule=\"evenodd\" fill-opacity=\"1\"/>\n",
       "<polyline clip-path=\"url(#clip530)\" style=\"stroke:#000000; stroke-linecap:round; stroke-linejoin:round; stroke-width:4; stroke-opacity:1; fill:none\" points=\"317.635,270.476 580.595,270.476 580.595,166.796 317.635,166.796 317.635,270.476 \"/>\n",
       "<polyline clip-path=\"url(#clip530)\" style=\"stroke:#009af9; stroke-linecap:round; stroke-linejoin:round; stroke-width:4; stroke-opacity:1; fill:none\" points=\"341.027,218.636 481.381,218.636 \"/>\n",
       "<path clip-path=\"url(#clip530)\" d=\"M518.615 238.323 Q516.81 242.953 515.097 244.365 Q513.384 245.777 510.514 245.777 L507.111 245.777 L507.111 242.212 L509.611 242.212 Q511.37 242.212 512.342 241.379 Q513.314 240.545 514.495 237.443 L515.259 235.499 L504.773 209.99 L509.287 209.99 L517.388 230.268 L525.49 209.99 L530.004 209.99 L518.615 238.323 Z\" fill=\"#000000\" fill-rule=\"nonzero\" fill-opacity=\"1\" /><path clip-path=\"url(#clip530)\" d=\"M537.296 231.981 L544.935 231.981 L544.935 205.615 L536.624 207.282 L536.624 203.022 L544.888 201.356 L549.564 201.356 L549.564 231.981 L557.203 231.981 L557.203 235.916 L537.296 235.916 L537.296 231.981 Z\" fill=\"#000000\" fill-rule=\"nonzero\" fill-opacity=\"1\" /></svg>\n"
      ],
      "text/html": [
       "<?xml version=\"1.0\" encoding=\"utf-8\"?>\n",
       "<svg xmlns=\"http://www.w3.org/2000/svg\" xmlns:xlink=\"http://www.w3.org/1999/xlink\" width=\"600\" height=\"400\" viewBox=\"0 0 2400 1600\">\n",
       "<defs>\n",
       "  <clipPath id=\"clip580\">\n",
       "    <rect x=\"0\" y=\"0\" width=\"2400\" height=\"1600\"/>\n",
       "  </clipPath>\n",
       "</defs>\n",
       "<path clip-path=\"url(#clip580)\" d=\"M0 1600 L2400 1600 L2400 0 L0 0  Z\" fill=\"#ffffff\" fill-rule=\"evenodd\" fill-opacity=\"1\"/>\n",
       "<defs>\n",
       "  <clipPath id=\"clip581\">\n",
       "    <rect x=\"480\" y=\"0\" width=\"1681\" height=\"1600\"/>\n",
       "  </clipPath>\n",
       "</defs>\n",
       "<path clip-path=\"url(#clip580)\" d=\"M247.459 1423.18 L2352.76 1423.18 L2352.76 123.472 L247.459 123.472  Z\" fill=\"#ffffff\" fill-rule=\"evenodd\" fill-opacity=\"1\"/>\n",
       "<defs>\n",
       "  <clipPath id=\"clip582\">\n",
       "    <rect x=\"247\" y=\"123\" width=\"2106\" height=\"1301\"/>\n",
       "  </clipPath>\n",
       "</defs>\n",
       "<polyline clip-path=\"url(#clip582)\" style=\"stroke:#000000; stroke-linecap:round; stroke-linejoin:round; stroke-width:2; stroke-opacity:0.1; fill:none\" points=\"505.656,1423.18 505.656,123.472 \"/>\n",
       "<polyline clip-path=\"url(#clip582)\" style=\"stroke:#000000; stroke-linecap:round; stroke-linejoin:round; stroke-width:2; stroke-opacity:0.1; fill:none\" points=\"902.881,1423.18 902.881,123.472 \"/>\n",
       "<polyline clip-path=\"url(#clip582)\" style=\"stroke:#000000; stroke-linecap:round; stroke-linejoin:round; stroke-width:2; stroke-opacity:0.1; fill:none\" points=\"1300.11,1423.18 1300.11,123.472 \"/>\n",
       "<polyline clip-path=\"url(#clip582)\" style=\"stroke:#000000; stroke-linecap:round; stroke-linejoin:round; stroke-width:2; stroke-opacity:0.1; fill:none\" points=\"1697.33,1423.18 1697.33,123.472 \"/>\n",
       "<polyline clip-path=\"url(#clip582)\" style=\"stroke:#000000; stroke-linecap:round; stroke-linejoin:round; stroke-width:2; stroke-opacity:0.1; fill:none\" points=\"2094.56,1423.18 2094.56,123.472 \"/>\n",
       "<polyline clip-path=\"url(#clip580)\" style=\"stroke:#000000; stroke-linecap:round; stroke-linejoin:round; stroke-width:4; stroke-opacity:1; fill:none\" points=\"247.459,1423.18 2352.76,1423.18 \"/>\n",
       "<polyline clip-path=\"url(#clip580)\" style=\"stroke:#000000; stroke-linecap:round; stroke-linejoin:round; stroke-width:4; stroke-opacity:1; fill:none\" points=\"505.656,1423.18 505.656,1404.28 \"/>\n",
       "<polyline clip-path=\"url(#clip580)\" style=\"stroke:#000000; stroke-linecap:round; stroke-linejoin:round; stroke-width:4; stroke-opacity:1; fill:none\" points=\"902.881,1423.18 902.881,1404.28 \"/>\n",
       "<polyline clip-path=\"url(#clip580)\" style=\"stroke:#000000; stroke-linecap:round; stroke-linejoin:round; stroke-width:4; stroke-opacity:1; fill:none\" points=\"1300.11,1423.18 1300.11,1404.28 \"/>\n",
       "<polyline clip-path=\"url(#clip580)\" style=\"stroke:#000000; stroke-linecap:round; stroke-linejoin:round; stroke-width:4; stroke-opacity:1; fill:none\" points=\"1697.33,1423.18 1697.33,1404.28 \"/>\n",
       "<polyline clip-path=\"url(#clip580)\" style=\"stroke:#000000; stroke-linecap:round; stroke-linejoin:round; stroke-width:4; stroke-opacity:1; fill:none\" points=\"2094.56,1423.18 2094.56,1404.28 \"/>\n",
       "<path clip-path=\"url(#clip580)\" d=\"M480.262 1481.64 L487.901 1481.64 L487.901 1455.28 L479.591 1456.95 L479.591 1452.69 L487.855 1451.02 L492.531 1451.02 L492.531 1481.64 L500.169 1481.64 L500.169 1485.58 L480.262 1485.58 L480.262 1481.64 Z\" fill=\"#000000\" fill-rule=\"nonzero\" fill-opacity=\"1\" /><path clip-path=\"url(#clip580)\" d=\"M520.192 1466.44 Q517.044 1466.44 515.193 1468.59 Q513.364 1470.74 513.364 1474.49 Q513.364 1478.22 515.193 1480.39 Q517.044 1482.55 520.192 1482.55 Q523.341 1482.55 525.169 1480.39 Q527.021 1478.22 527.021 1474.49 Q527.021 1470.74 525.169 1468.59 Q523.341 1466.44 520.192 1466.44 M529.475 1451.78 L529.475 1456.04 Q527.716 1455.21 525.91 1454.77 Q524.128 1454.33 522.368 1454.33 Q517.739 1454.33 515.285 1457.45 Q512.855 1460.58 512.507 1466.9 Q513.873 1464.89 515.933 1463.82 Q517.993 1462.73 520.47 1462.73 Q525.679 1462.73 528.688 1465.9 Q531.72 1469.05 531.72 1474.49 Q531.72 1479.82 528.572 1483.03 Q525.424 1486.25 520.192 1486.25 Q514.197 1486.25 511.026 1481.67 Q507.855 1477.06 507.855 1468.33 Q507.855 1460.14 511.743 1455.28 Q515.632 1450.39 522.183 1450.39 Q523.942 1450.39 525.725 1450.74 Q527.53 1451.09 529.475 1451.78 Z\" fill=\"#000000\" fill-rule=\"nonzero\" fill-opacity=\"1\" /><path clip-path=\"url(#clip580)\" d=\"M877.615 1481.64 L885.254 1481.64 L885.254 1455.28 L876.944 1456.95 L876.944 1452.69 L885.208 1451.02 L889.884 1451.02 L889.884 1481.64 L897.523 1481.64 L897.523 1485.58 L877.615 1485.58 L877.615 1481.64 Z\" fill=\"#000000\" fill-rule=\"nonzero\" fill-opacity=\"1\" /><path clip-path=\"url(#clip580)\" d=\"M916.967 1469.17 Q913.634 1469.17 911.712 1470.95 Q909.814 1472.73 909.814 1475.86 Q909.814 1478.98 911.712 1480.77 Q913.634 1482.55 916.967 1482.55 Q920.3 1482.55 922.222 1480.77 Q924.143 1478.96 924.143 1475.86 Q924.143 1472.73 922.222 1470.95 Q920.323 1469.17 916.967 1469.17 M912.291 1467.18 Q909.282 1466.44 907.592 1464.38 Q905.925 1462.32 905.925 1459.35 Q905.925 1455.21 908.865 1452.8 Q911.828 1450.39 916.967 1450.39 Q922.129 1450.39 925.069 1452.8 Q928.009 1455.21 928.009 1459.35 Q928.009 1462.32 926.319 1464.38 Q924.652 1466.44 921.666 1467.18 Q925.046 1467.96 926.921 1470.26 Q928.819 1472.55 928.819 1475.86 Q928.819 1480.88 925.74 1483.57 Q922.685 1486.25 916.967 1486.25 Q911.249 1486.25 908.171 1483.57 Q905.115 1480.88 905.115 1475.86 Q905.115 1472.55 907.013 1470.26 Q908.911 1467.96 912.291 1467.18 M910.578 1459.79 Q910.578 1462.48 912.245 1463.98 Q913.935 1465.49 916.967 1465.49 Q919.976 1465.49 921.666 1463.98 Q923.379 1462.48 923.379 1459.79 Q923.379 1457.11 921.666 1455.6 Q919.976 1454.1 916.967 1454.1 Q913.935 1454.1 912.245 1455.6 Q910.578 1457.11 910.578 1459.79 Z\" fill=\"#000000\" fill-rule=\"nonzero\" fill-opacity=\"1\" /><path clip-path=\"url(#clip580)\" d=\"M1278.88 1481.64 L1295.2 1481.64 L1295.2 1485.58 L1273.26 1485.58 L1273.26 1481.64 Q1275.92 1478.89 1280.5 1474.26 Q1285.11 1469.61 1286.29 1468.27 Q1288.53 1465.74 1289.41 1464.01 Q1290.32 1462.25 1290.32 1460.56 Q1290.32 1457.8 1288.37 1456.07 Q1286.45 1454.33 1283.35 1454.33 Q1281.15 1454.33 1278.7 1455.09 Q1276.26 1455.86 1273.49 1457.41 L1273.49 1452.69 Q1276.31 1451.55 1278.76 1450.97 Q1281.22 1450.39 1283.26 1450.39 Q1288.63 1450.39 1291.82 1453.08 Q1295.01 1455.77 1295.01 1460.26 Q1295.01 1462.39 1294.2 1464.31 Q1293.42 1466.2 1291.31 1468.8 Q1290.73 1469.47 1287.63 1472.69 Q1284.53 1475.88 1278.88 1481.64 Z\" fill=\"#000000\" fill-rule=\"nonzero\" fill-opacity=\"1\" /><path clip-path=\"url(#clip580)\" d=\"M1315.01 1454.1 Q1311.4 1454.1 1309.57 1457.66 Q1307.77 1461.2 1307.77 1468.33 Q1307.77 1475.44 1309.57 1479.01 Q1311.4 1482.55 1315.01 1482.55 Q1318.65 1482.55 1320.45 1479.01 Q1322.28 1475.44 1322.28 1468.33 Q1322.28 1461.2 1320.45 1457.66 Q1318.65 1454.1 1315.01 1454.1 M1315.01 1450.39 Q1320.82 1450.39 1323.88 1455 Q1326.96 1459.58 1326.96 1468.33 Q1326.96 1477.06 1323.88 1481.67 Q1320.82 1486.25 1315.01 1486.25 Q1309.2 1486.25 1306.13 1481.67 Q1303.07 1477.06 1303.07 1468.33 Q1303.07 1459.58 1306.13 1455 Q1309.2 1450.39 1315.01 1450.39 Z\" fill=\"#000000\" fill-rule=\"nonzero\" fill-opacity=\"1\" /><path clip-path=\"url(#clip580)\" d=\"M1676.91 1481.64 L1693.22 1481.64 L1693.22 1485.58 L1671.28 1485.58 L1671.28 1481.64 Q1673.94 1478.89 1678.53 1474.26 Q1683.13 1469.61 1684.31 1468.27 Q1686.56 1465.74 1687.44 1464.01 Q1688.34 1462.25 1688.34 1460.56 Q1688.34 1457.8 1686.4 1456.07 Q1684.47 1454.33 1681.37 1454.33 Q1679.17 1454.33 1676.72 1455.09 Q1674.29 1455.86 1671.51 1457.41 L1671.51 1452.69 Q1674.34 1451.55 1676.79 1450.97 Q1679.24 1450.39 1681.28 1450.39 Q1686.65 1450.39 1689.84 1453.08 Q1693.04 1455.77 1693.04 1460.26 Q1693.04 1462.39 1692.23 1464.31 Q1691.44 1466.2 1689.34 1468.8 Q1688.76 1469.47 1685.66 1472.69 Q1682.55 1475.88 1676.91 1481.64 Z\" fill=\"#000000\" fill-rule=\"nonzero\" fill-opacity=\"1\" /><path clip-path=\"url(#clip580)\" d=\"M1707.07 1481.64 L1723.39 1481.64 L1723.39 1485.58 L1701.44 1485.58 L1701.44 1481.64 Q1704.1 1478.89 1708.69 1474.26 Q1713.29 1469.61 1714.47 1468.27 Q1716.72 1465.74 1717.6 1464.01 Q1718.5 1462.25 1718.5 1460.56 Q1718.5 1457.8 1716.56 1456.07 Q1714.64 1454.33 1711.53 1454.33 Q1709.34 1454.33 1706.88 1455.09 Q1704.45 1455.86 1701.67 1457.41 L1701.67 1452.69 Q1704.5 1451.55 1706.95 1450.97 Q1709.4 1450.39 1711.44 1450.39 Q1716.81 1450.39 1720.01 1453.08 Q1723.2 1455.77 1723.2 1460.26 Q1723.2 1462.39 1722.39 1464.31 Q1721.6 1466.2 1719.5 1468.8 Q1718.92 1469.47 1715.82 1472.69 Q1712.72 1475.88 1707.07 1481.64 Z\" fill=\"#000000\" fill-rule=\"nonzero\" fill-opacity=\"1\" /><path clip-path=\"url(#clip580)\" d=\"M2073.09 1481.64 L2089.41 1481.64 L2089.41 1485.58 L2067.46 1485.58 L2067.46 1481.64 Q2070.13 1478.89 2074.71 1474.26 Q2079.32 1469.61 2080.5 1468.27 Q2082.74 1465.74 2083.62 1464.01 Q2084.52 1462.25 2084.52 1460.56 Q2084.52 1457.8 2082.58 1456.07 Q2080.66 1454.33 2077.56 1454.33 Q2075.36 1454.33 2072.9 1455.09 Q2070.47 1455.86 2067.7 1457.41 L2067.7 1452.69 Q2070.52 1451.55 2072.97 1450.97 Q2075.43 1450.39 2077.46 1450.39 Q2082.83 1450.39 2086.03 1453.08 Q2089.22 1455.77 2089.22 1460.26 Q2089.22 1462.39 2088.41 1464.31 Q2087.63 1466.2 2085.52 1468.8 Q2084.94 1469.47 2081.84 1472.69 Q2078.74 1475.88 2073.09 1481.64 Z\" fill=\"#000000\" fill-rule=\"nonzero\" fill-opacity=\"1\" /><path clip-path=\"url(#clip580)\" d=\"M2112.07 1455.09 L2100.27 1473.54 L2112.07 1473.54 L2112.07 1455.09 M2110.84 1451.02 L2116.72 1451.02 L2116.72 1473.54 L2121.65 1473.54 L2121.65 1477.43 L2116.72 1477.43 L2116.72 1485.58 L2112.07 1485.58 L2112.07 1477.43 L2096.47 1477.43 L2096.47 1472.92 L2110.84 1451.02 Z\" fill=\"#000000\" fill-rule=\"nonzero\" fill-opacity=\"1\" /><path clip-path=\"url(#clip580)\" d=\"M1213.23 1525.81 L1213.23 1562.76 L1221 1562.76 Q1230.83 1562.76 1235.38 1558.3 Q1239.97 1553.85 1239.97 1544.24 Q1239.97 1534.69 1235.38 1530.26 Q1230.83 1525.81 1221 1525.81 L1213.23 1525.81 M1206.8 1520.52 L1220.01 1520.52 Q1233.82 1520.52 1240.29 1526.28 Q1246.75 1532.01 1246.75 1544.24 Q1246.75 1556.52 1240.25 1562.28 Q1233.76 1568.04 1220.01 1568.04 L1206.8 1568.04 L1206.8 1520.52 Z\" fill=\"#000000\" fill-rule=\"nonzero\" fill-opacity=\"1\" /><path clip-path=\"url(#clip580)\" d=\"M1287.23 1548.76 L1287.23 1551.62 L1260.31 1551.62 Q1260.69 1557.67 1263.93 1560.85 Q1267.21 1564 1273.04 1564 Q1276.41 1564 1279.56 1563.17 Q1282.74 1562.35 1285.86 1560.69 L1285.86 1566.23 Q1282.71 1567.57 1279.4 1568.27 Q1276.09 1568.97 1272.69 1568.97 Q1264.16 1568.97 1259.16 1564 Q1254.19 1559.04 1254.19 1550.57 Q1254.19 1541.82 1258.91 1536.69 Q1263.65 1531.54 1271.67 1531.54 Q1278.86 1531.54 1283.03 1536.18 Q1287.23 1540.8 1287.23 1548.76 M1281.38 1547.04 Q1281.31 1542.23 1278.67 1539.37 Q1276.06 1536.5 1271.73 1536.5 Q1266.83 1536.5 1263.87 1539.27 Q1260.94 1542.04 1260.5 1547.07 L1281.38 1547.04 Z\" fill=\"#000000\" fill-rule=\"nonzero\" fill-opacity=\"1\" /><path clip-path=\"url(#clip580)\" d=\"M1302.51 1562.7 L1302.51 1581.6 L1296.62 1581.6 L1296.62 1532.4 L1302.51 1532.4 L1302.51 1537.81 Q1304.36 1534.62 1307.16 1533.1 Q1309.99 1531.54 1313.9 1531.54 Q1320.4 1531.54 1324.44 1536.69 Q1328.51 1541.85 1328.51 1550.25 Q1328.51 1558.65 1324.44 1563.81 Q1320.4 1568.97 1313.9 1568.97 Q1309.99 1568.97 1307.16 1567.44 Q1304.36 1565.88 1302.51 1562.7 M1322.44 1550.25 Q1322.44 1543.79 1319.76 1540.13 Q1317.12 1536.44 1312.47 1536.44 Q1307.83 1536.44 1305.15 1540.13 Q1302.51 1543.79 1302.51 1550.25 Q1302.51 1556.71 1305.15 1560.4 Q1307.83 1564.07 1312.47 1564.07 Q1317.12 1564.07 1319.76 1560.4 Q1322.44 1556.71 1322.44 1550.25 Z\" fill=\"#000000\" fill-rule=\"nonzero\" fill-opacity=\"1\" /><path clip-path=\"url(#clip580)\" d=\"M1344.01 1522.27 L1344.01 1532.4 L1356.08 1532.4 L1356.08 1536.95 L1344.01 1536.95 L1344.01 1556.3 Q1344.01 1560.66 1345.19 1561.9 Q1346.4 1563.14 1350.06 1563.14 L1356.08 1563.14 L1356.08 1568.04 L1350.06 1568.04 Q1343.28 1568.04 1340.7 1565.53 Q1338.13 1562.98 1338.13 1556.3 L1338.13 1536.95 L1333.83 1536.95 L1333.83 1532.4 L1338.13 1532.4 L1338.13 1522.27 L1344.01 1522.27 Z\" fill=\"#000000\" fill-rule=\"nonzero\" fill-opacity=\"1\" /><path clip-path=\"url(#clip580)\" d=\"M1393.41 1546.53 L1393.41 1568.04 L1387.56 1568.04 L1387.56 1546.72 Q1387.56 1541.66 1385.58 1539.14 Q1383.61 1536.63 1379.66 1536.63 Q1374.92 1536.63 1372.18 1539.65 Q1369.45 1542.68 1369.45 1547.9 L1369.45 1568.04 L1363.56 1568.04 L1363.56 1518.52 L1369.45 1518.52 L1369.45 1537.93 Q1371.55 1534.72 1374.38 1533.13 Q1377.24 1531.54 1380.97 1531.54 Q1387.11 1531.54 1390.26 1535.36 Q1393.41 1539.14 1393.41 1546.53 Z\" fill=\"#000000\" fill-rule=\"nonzero\" fill-opacity=\"1\" /><polyline clip-path=\"url(#clip582)\" style=\"stroke:#000000; stroke-linecap:round; stroke-linejoin:round; stroke-width:2; stroke-opacity:0.1; fill:none\" points=\"247.459,1390.73 2352.76,1390.73 \"/>\n",
       "<polyline clip-path=\"url(#clip582)\" style=\"stroke:#000000; stroke-linecap:round; stroke-linejoin:round; stroke-width:2; stroke-opacity:0.1; fill:none\" points=\"247.459,1167.89 2352.76,1167.89 \"/>\n",
       "<polyline clip-path=\"url(#clip582)\" style=\"stroke:#000000; stroke-linecap:round; stroke-linejoin:round; stroke-width:2; stroke-opacity:0.1; fill:none\" points=\"247.459,945.044 2352.76,945.044 \"/>\n",
       "<polyline clip-path=\"url(#clip582)\" style=\"stroke:#000000; stroke-linecap:round; stroke-linejoin:round; stroke-width:2; stroke-opacity:0.1; fill:none\" points=\"247.459,722.203 2352.76,722.203 \"/>\n",
       "<polyline clip-path=\"url(#clip582)\" style=\"stroke:#000000; stroke-linecap:round; stroke-linejoin:round; stroke-width:2; stroke-opacity:0.1; fill:none\" points=\"247.459,499.361 2352.76,499.361 \"/>\n",
       "<polyline clip-path=\"url(#clip582)\" style=\"stroke:#000000; stroke-linecap:round; stroke-linejoin:round; stroke-width:2; stroke-opacity:0.1; fill:none\" points=\"247.459,276.52 2352.76,276.52 \"/>\n",
       "<polyline clip-path=\"url(#clip580)\" style=\"stroke:#000000; stroke-linecap:round; stroke-linejoin:round; stroke-width:4; stroke-opacity:1; fill:none\" points=\"247.459,1423.18 247.459,123.472 \"/>\n",
       "<polyline clip-path=\"url(#clip580)\" style=\"stroke:#000000; stroke-linecap:round; stroke-linejoin:round; stroke-width:4; stroke-opacity:1; fill:none\" points=\"247.459,1390.73 266.356,1390.73 \"/>\n",
       "<polyline clip-path=\"url(#clip580)\" style=\"stroke:#000000; stroke-linecap:round; stroke-linejoin:round; stroke-width:4; stroke-opacity:1; fill:none\" points=\"247.459,1167.89 266.356,1167.89 \"/>\n",
       "<polyline clip-path=\"url(#clip580)\" style=\"stroke:#000000; stroke-linecap:round; stroke-linejoin:round; stroke-width:4; stroke-opacity:1; fill:none\" points=\"247.459,945.044 266.356,945.044 \"/>\n",
       "<polyline clip-path=\"url(#clip580)\" style=\"stroke:#000000; stroke-linecap:round; stroke-linejoin:round; stroke-width:4; stroke-opacity:1; fill:none\" points=\"247.459,722.203 266.356,722.203 \"/>\n",
       "<polyline clip-path=\"url(#clip580)\" style=\"stroke:#000000; stroke-linecap:round; stroke-linejoin:round; stroke-width:4; stroke-opacity:1; fill:none\" points=\"247.459,499.361 266.356,499.361 \"/>\n",
       "<polyline clip-path=\"url(#clip580)\" style=\"stroke:#000000; stroke-linecap:round; stroke-linejoin:round; stroke-width:4; stroke-opacity:1; fill:none\" points=\"247.459,276.52 266.356,276.52 \"/>\n",
       "<path clip-path=\"url(#clip580)\" d=\"M154.283 1376.53 Q150.672 1376.53 148.843 1380.09 Q147.038 1383.63 147.038 1390.76 Q147.038 1397.87 148.843 1401.43 Q150.672 1404.98 154.283 1404.98 Q157.917 1404.98 159.723 1401.43 Q161.552 1397.87 161.552 1390.76 Q161.552 1383.63 159.723 1380.09 Q157.917 1376.53 154.283 1376.53 M154.283 1372.82 Q160.093 1372.82 163.149 1377.43 Q166.227 1382.01 166.227 1390.76 Q166.227 1399.49 163.149 1404.1 Q160.093 1408.68 154.283 1408.68 Q148.473 1408.68 145.394 1404.1 Q142.339 1399.49 142.339 1390.76 Q142.339 1382.01 145.394 1377.43 Q148.473 1372.82 154.283 1372.82 Z\" fill=\"#000000\" fill-rule=\"nonzero\" fill-opacity=\"1\" /><path clip-path=\"url(#clip580)\" d=\"M174.445 1402.13 L179.329 1402.13 L179.329 1408.01 L174.445 1408.01 L174.445 1402.13 Z\" fill=\"#000000\" fill-rule=\"nonzero\" fill-opacity=\"1\" /><path clip-path=\"url(#clip580)\" d=\"M199.514 1376.53 Q195.903 1376.53 194.075 1380.09 Q192.269 1383.63 192.269 1390.76 Q192.269 1397.87 194.075 1401.43 Q195.903 1404.98 199.514 1404.98 Q203.149 1404.98 204.954 1401.43 Q206.783 1397.87 206.783 1390.76 Q206.783 1383.63 204.954 1380.09 Q203.149 1376.53 199.514 1376.53 M199.514 1372.82 Q205.324 1372.82 208.38 1377.43 Q211.459 1382.01 211.459 1390.76 Q211.459 1399.49 208.38 1404.1 Q205.324 1408.68 199.514 1408.68 Q193.704 1408.68 190.625 1404.1 Q187.57 1399.49 187.57 1390.76 Q187.57 1382.01 190.625 1377.43 Q193.704 1372.82 199.514 1372.82 Z\" fill=\"#000000\" fill-rule=\"nonzero\" fill-opacity=\"1\" /><path clip-path=\"url(#clip580)\" d=\"M149.306 1181.23 L165.626 1181.23 L165.626 1185.17 L143.681 1185.17 L143.681 1181.23 Q146.343 1178.48 150.927 1173.85 Q155.533 1169.19 156.714 1167.85 Q158.959 1165.33 159.839 1163.59 Q160.741 1161.83 160.741 1160.14 Q160.741 1157.39 158.797 1155.65 Q156.876 1153.92 153.774 1153.92 Q151.575 1153.92 149.121 1154.68 Q146.691 1155.44 143.913 1156.99 L143.913 1152.27 Q146.737 1151.14 149.191 1150.56 Q151.644 1149.98 153.681 1149.98 Q159.052 1149.98 162.246 1152.67 Q165.44 1155.35 165.44 1159.84 Q165.44 1161.97 164.63 1163.89 Q163.843 1165.79 161.737 1168.38 Q161.158 1169.05 158.056 1172.27 Q154.954 1175.47 149.306 1181.23 Z\" fill=\"#000000\" fill-rule=\"nonzero\" fill-opacity=\"1\" /><path clip-path=\"url(#clip580)\" d=\"M175.44 1179.29 L180.325 1179.29 L180.325 1185.17 L175.44 1185.17 L175.44 1179.29 Z\" fill=\"#000000\" fill-rule=\"nonzero\" fill-opacity=\"1\" /><path clip-path=\"url(#clip580)\" d=\"M190.556 1150.61 L208.912 1150.61 L208.912 1154.54 L194.838 1154.54 L194.838 1163.01 Q195.857 1162.67 196.875 1162.5 Q197.894 1162.32 198.912 1162.32 Q204.699 1162.32 208.079 1165.49 Q211.459 1168.66 211.459 1174.08 Q211.459 1179.66 207.987 1182.76 Q204.514 1185.84 198.195 1185.84 Q196.019 1185.84 193.75 1185.47 Q191.505 1185.1 189.098 1184.36 L189.098 1179.66 Q191.181 1180.79 193.403 1181.35 Q195.625 1181.9 198.102 1181.9 Q202.107 1181.9 204.445 1179.8 Q206.783 1177.69 206.783 1174.08 Q206.783 1170.47 204.445 1168.36 Q202.107 1166.25 198.102 1166.25 Q196.227 1166.25 194.352 1166.67 Q192.5 1167.09 190.556 1167.97 L190.556 1150.61 Z\" fill=\"#000000\" fill-rule=\"nonzero\" fill-opacity=\"1\" /><path clip-path=\"url(#clip580)\" d=\"M144.329 927.764 L162.686 927.764 L162.686 931.7 L148.612 931.7 L148.612 940.172 Q149.63 939.825 150.649 939.663 Q151.667 939.477 152.686 939.477 Q158.473 939.477 161.852 942.649 Q165.232 945.82 165.232 951.237 Q165.232 956.815 161.76 959.917 Q158.288 962.996 151.968 962.996 Q149.792 962.996 147.524 962.625 Q145.279 962.255 142.871 961.514 L142.871 956.815 Q144.954 957.949 147.177 958.505 Q149.399 959.061 151.876 959.061 Q155.88 959.061 158.218 956.954 Q160.556 954.848 160.556 951.237 Q160.556 947.625 158.218 945.519 Q155.88 943.412 151.876 943.412 Q150.001 943.412 148.126 943.829 Q146.274 944.246 144.329 945.125 L144.329 927.764 Z\" fill=\"#000000\" fill-rule=\"nonzero\" fill-opacity=\"1\" /><path clip-path=\"url(#clip580)\" d=\"M174.445 956.445 L179.329 956.445 L179.329 962.324 L174.445 962.324 L174.445 956.445 Z\" fill=\"#000000\" fill-rule=\"nonzero\" fill-opacity=\"1\" /><path clip-path=\"url(#clip580)\" d=\"M199.514 930.843 Q195.903 930.843 194.075 934.408 Q192.269 937.95 192.269 945.079 Q192.269 952.186 194.075 955.75 Q195.903 959.292 199.514 959.292 Q203.149 959.292 204.954 955.75 Q206.783 952.186 206.783 945.079 Q206.783 937.95 204.954 934.408 Q203.149 930.843 199.514 930.843 M199.514 927.139 Q205.324 927.139 208.38 931.746 Q211.459 936.329 211.459 945.079 Q211.459 953.806 208.38 958.412 Q205.324 962.996 199.514 962.996 Q193.704 962.996 190.625 958.412 Q187.57 953.806 187.57 945.079 Q187.57 936.329 190.625 931.746 Q193.704 927.139 199.514 927.139 Z\" fill=\"#000000\" fill-rule=\"nonzero\" fill-opacity=\"1\" /><path clip-path=\"url(#clip580)\" d=\"M144.098 704.923 L166.32 704.923 L166.32 706.914 L153.774 739.483 L148.89 739.483 L160.695 708.858 L144.098 708.858 L144.098 704.923 Z\" fill=\"#000000\" fill-rule=\"nonzero\" fill-opacity=\"1\" /><path clip-path=\"url(#clip580)\" d=\"M175.44 733.603 L180.325 733.603 L180.325 739.483 L175.44 739.483 L175.44 733.603 Z\" fill=\"#000000\" fill-rule=\"nonzero\" fill-opacity=\"1\" /><path clip-path=\"url(#clip580)\" d=\"M190.556 704.923 L208.912 704.923 L208.912 708.858 L194.838 708.858 L194.838 717.33 Q195.857 716.983 196.875 716.821 Q197.894 716.636 198.912 716.636 Q204.699 716.636 208.079 719.807 Q211.459 722.978 211.459 728.395 Q211.459 733.974 207.987 737.075 Q204.514 740.154 198.195 740.154 Q196.019 740.154 193.75 739.784 Q191.505 739.413 189.098 738.673 L189.098 733.974 Q191.181 735.108 193.403 735.663 Q195.625 736.219 198.102 736.219 Q202.107 736.219 204.445 734.112 Q206.783 732.006 206.783 728.395 Q206.783 724.784 204.445 722.677 Q202.107 720.571 198.102 720.571 Q196.227 720.571 194.352 720.988 Q192.5 721.404 190.556 722.284 L190.556 704.923 Z\" fill=\"#000000\" fill-rule=\"nonzero\" fill-opacity=\"1\" /><path clip-path=\"url(#clip580)\" d=\"M114.931 512.706 L122.57 512.706 L122.57 486.34 L114.26 488.007 L114.26 483.748 L122.524 482.081 L127.2 482.081 L127.2 512.706 L134.839 512.706 L134.839 516.641 L114.931 516.641 L114.931 512.706 Z\" fill=\"#000000\" fill-rule=\"nonzero\" fill-opacity=\"1\" /><path clip-path=\"url(#clip580)\" d=\"M154.283 485.16 Q150.672 485.16 148.843 488.725 Q147.038 492.266 147.038 499.396 Q147.038 506.502 148.843 510.067 Q150.672 513.609 154.283 513.609 Q157.917 513.609 159.723 510.067 Q161.552 506.502 161.552 499.396 Q161.552 492.266 159.723 488.725 Q157.917 485.16 154.283 485.16 M154.283 481.456 Q160.093 481.456 163.149 486.063 Q166.227 490.646 166.227 499.396 Q166.227 508.123 163.149 512.729 Q160.093 517.313 154.283 517.313 Q148.473 517.313 145.394 512.729 Q142.339 508.123 142.339 499.396 Q142.339 490.646 145.394 486.063 Q148.473 481.456 154.283 481.456 Z\" fill=\"#000000\" fill-rule=\"nonzero\" fill-opacity=\"1\" /><path clip-path=\"url(#clip580)\" d=\"M174.445 510.762 L179.329 510.762 L179.329 516.641 L174.445 516.641 L174.445 510.762 Z\" fill=\"#000000\" fill-rule=\"nonzero\" fill-opacity=\"1\" /><path clip-path=\"url(#clip580)\" d=\"M199.514 485.16 Q195.903 485.16 194.075 488.725 Q192.269 492.266 192.269 499.396 Q192.269 506.502 194.075 510.067 Q195.903 513.609 199.514 513.609 Q203.149 513.609 204.954 510.067 Q206.783 506.502 206.783 499.396 Q206.783 492.266 204.954 488.725 Q203.149 485.16 199.514 485.16 M199.514 481.456 Q205.324 481.456 208.38 486.063 Q211.459 490.646 211.459 499.396 Q211.459 508.123 208.38 512.729 Q205.324 517.313 199.514 517.313 Q193.704 517.313 190.625 512.729 Q187.57 508.123 187.57 499.396 Q187.57 490.646 190.625 486.063 Q193.704 481.456 199.514 481.456 Z\" fill=\"#000000\" fill-rule=\"nonzero\" fill-opacity=\"1\" /><path clip-path=\"url(#clip580)\" d=\"M115.927 289.864 L123.566 289.864 L123.566 263.499 L115.256 265.166 L115.256 260.906 L123.519 259.24 L128.195 259.24 L128.195 289.864 L135.834 289.864 L135.834 293.8 L115.927 293.8 L115.927 289.864 Z\" fill=\"#000000\" fill-rule=\"nonzero\" fill-opacity=\"1\" /><path clip-path=\"url(#clip580)\" d=\"M149.306 289.864 L165.626 289.864 L165.626 293.8 L143.681 293.8 L143.681 289.864 Q146.343 287.11 150.927 282.48 Q155.533 277.827 156.714 276.485 Q158.959 273.962 159.839 272.226 Q160.741 270.466 160.741 268.777 Q160.741 266.022 158.797 264.286 Q156.876 262.55 153.774 262.55 Q151.575 262.55 149.121 263.314 Q146.691 264.078 143.913 265.628 L143.913 260.906 Q146.737 259.772 149.191 259.193 Q151.644 258.615 153.681 258.615 Q159.052 258.615 162.246 261.3 Q165.44 263.985 165.44 268.476 Q165.44 270.605 164.63 272.527 Q163.843 274.425 161.737 277.017 Q161.158 277.689 158.056 280.906 Q154.954 284.101 149.306 289.864 Z\" fill=\"#000000\" fill-rule=\"nonzero\" fill-opacity=\"1\" /><path clip-path=\"url(#clip580)\" d=\"M175.44 287.92 L180.325 287.92 L180.325 293.8 L175.44 293.8 L175.44 287.92 Z\" fill=\"#000000\" fill-rule=\"nonzero\" fill-opacity=\"1\" /><path clip-path=\"url(#clip580)\" d=\"M190.556 259.24 L208.912 259.24 L208.912 263.175 L194.838 263.175 L194.838 271.647 Q195.857 271.3 196.875 271.138 Q197.894 270.953 198.912 270.953 Q204.699 270.953 208.079 274.124 Q211.459 277.295 211.459 282.712 Q211.459 288.29 207.987 291.392 Q204.514 294.471 198.195 294.471 Q196.019 294.471 193.75 294.101 Q191.505 293.73 189.098 292.989 L189.098 288.29 Q191.181 289.425 193.403 289.98 Q195.625 290.536 198.102 290.536 Q202.107 290.536 204.445 288.429 Q206.783 286.323 206.783 282.712 Q206.783 279.101 204.445 276.994 Q202.107 274.888 198.102 274.888 Q196.227 274.888 194.352 275.304 Q192.5 275.721 190.556 276.601 L190.556 259.24 Z\" fill=\"#000000\" fill-rule=\"nonzero\" fill-opacity=\"1\" /><path clip-path=\"url(#clip580)\" d=\"M16.4842 903.155 L16.4842 862.955 L21.895 862.955 L21.895 879.824 L64.0042 879.824 L64.0042 886.285 L21.895 886.285 L21.895 903.155 L16.4842 903.155 Z\" fill=\"#000000\" fill-rule=\"nonzero\" fill-opacity=\"1\" /><path clip-path=\"url(#clip580)\" d=\"M28.3562 859.008 L28.3562 853.152 L64.0042 853.152 L64.0042 859.008 L28.3562 859.008 M14.479 859.008 L14.479 853.152 L21.895 853.152 L21.895 859.008 L14.479 859.008 Z\" fill=\"#000000\" fill-rule=\"nonzero\" fill-opacity=\"1\" /><path clip-path=\"url(#clip580)\" d=\"M35.1993 813.143 Q31.2526 810.947 29.3747 807.892 Q27.4968 804.836 27.4968 800.699 Q27.4968 795.129 31.4117 792.105 Q35.2948 789.081 42.4881 789.081 L64.0042 789.081 L64.0042 794.969 L42.679 794.969 Q37.5546 794.969 35.072 796.784 Q32.5894 798.598 32.5894 802.322 Q32.5894 806.873 35.6131 809.515 Q38.6368 812.157 43.8567 812.157 L64.0042 812.157 L64.0042 818.045 L42.679 818.045 Q37.5228 818.045 35.072 819.859 Q32.5894 821.674 32.5894 825.461 Q32.5894 829.949 35.6449 832.591 Q38.6686 835.232 43.8567 835.232 L64.0042 835.232 L64.0042 841.121 L28.3562 841.121 L28.3562 835.232 L33.8944 835.232 Q30.616 833.227 29.0564 830.426 Q27.4968 827.625 27.4968 823.774 Q27.4968 819.891 29.4702 817.186 Q31.4436 814.448 35.1993 813.143 Z\" fill=\"#000000\" fill-rule=\"nonzero\" fill-opacity=\"1\" /><path clip-path=\"url(#clip580)\" d=\"M44.7161 746.908 L47.5806 746.908 L47.5806 773.835 Q53.6281 773.453 56.8109 770.207 Q59.9619 766.928 59.9619 761.104 Q59.9619 757.73 59.1344 754.579 Q58.3069 751.396 56.6518 748.277 L62.1899 748.277 Q63.5267 751.428 64.227 754.738 Q64.9272 758.048 64.9272 761.454 Q64.9272 769.984 59.9619 774.981 Q54.9967 779.946 46.5303 779.946 Q37.7774 779.946 32.6531 775.236 Q27.4968 770.493 27.4968 762.472 Q27.4968 755.279 32.1438 751.11 Q36.7589 746.908 44.7161 746.908 M42.9973 752.765 Q38.1912 752.828 35.3266 755.47 Q32.4621 758.08 32.4621 762.409 Q32.4621 767.31 35.2312 770.27 Q38.0002 773.199 43.0292 773.644 L42.9973 752.765 Z\" fill=\"#000000\" fill-rule=\"nonzero\" fill-opacity=\"1\" /><path clip-path=\"url(#clip580)\" d=\"M14.5426 702.507 Q21.8632 706.773 29.0246 708.841 Q36.186 710.91 43.5384 710.91 Q50.8908 710.91 58.1159 708.841 Q65.3091 706.741 72.5979 702.507 L72.5979 707.6 Q65.1182 712.374 57.8931 714.761 Q50.668 717.117 43.5384 717.117 Q36.4406 717.117 29.2474 714.761 Q22.0542 712.406 14.5426 707.6 L14.5426 702.507 Z\" fill=\"#000000\" fill-rule=\"nonzero\" fill-opacity=\"1\" /><path clip-path=\"url(#clip580)\" d=\"M29.4065 668.419 L34.9447 668.419 Q33.6716 670.902 33.035 673.575 Q32.3984 676.249 32.3984 679.114 Q32.3984 683.474 33.7352 685.67 Q35.072 687.835 37.7456 687.835 Q39.7826 687.835 40.9603 686.275 Q42.1061 684.715 43.1565 680.005 L43.6021 678 Q44.9389 671.761 47.3897 669.151 Q49.8086 666.509 54.1691 666.509 Q59.1344 666.509 62.0308 670.456 Q64.9272 674.371 64.9272 681.246 Q64.9272 684.111 64.3543 687.23 Q63.8132 690.317 62.6992 693.755 L56.6518 693.755 Q58.3387 690.508 59.198 687.357 Q60.0256 684.206 60.0256 681.119 Q60.0256 676.981 58.6251 674.753 Q57.1929 672.525 54.6147 672.525 Q52.2276 672.525 50.9545 674.148 Q49.6813 675.74 48.5037 681.182 L48.0262 683.219 Q46.8804 688.662 44.5251 691.081 Q42.138 693.5 38.0002 693.5 Q32.9713 693.5 30.2341 689.935 Q27.4968 686.37 27.4968 679.814 Q27.4968 676.567 27.9743 673.703 Q28.4517 670.838 29.4065 668.419 Z\" fill=\"#000000\" fill-rule=\"nonzero\" fill-opacity=\"1\" /><path clip-path=\"url(#clip580)\" d=\"M14.5426 658.107 L14.5426 653.014 Q22.0542 648.24 29.2474 645.885 Q36.4406 643.497 43.5384 643.497 Q50.668 643.497 57.8931 645.885 Q65.1182 648.24 72.5979 653.014 L72.5979 658.107 Q65.3091 653.873 58.1159 651.805 Q50.8908 649.704 43.5384 649.704 Q36.186 649.704 29.0246 651.805 Q21.8632 653.873 14.5426 658.107 Z\" fill=\"#000000\" fill-rule=\"nonzero\" fill-opacity=\"1\" /><path clip-path=\"url(#clip580)\" d=\"M198.768 12.096 L237.008 12.096 L237.008 18.9825 L206.951 18.9825 L206.951 36.8875 L235.752 36.8875 L235.752 43.7741 L206.951 43.7741 L206.951 65.6895 L237.737 65.6895 L237.737 72.576 L198.768 72.576 L198.768 12.096 Z\" fill=\"#000000\" fill-rule=\"nonzero\" fill-opacity=\"1\" /><path clip-path=\"url(#clip580)\" d=\"M288.576 27.2059 L272.17 49.2833 L289.427 72.576 L280.636 72.576 L267.431 54.752 L254.225 72.576 L245.434 72.576 L263.056 48.8377 L246.933 27.2059 L255.723 27.2059 L267.755 43.369 L279.786 27.2059 L288.576 27.2059 Z\" fill=\"#000000\" fill-rule=\"nonzero\" fill-opacity=\"1\" /><path clip-path=\"url(#clip580)\" d=\"M336.215 48.0275 L336.215 51.6733 L301.944 51.6733 Q302.43 59.3701 306.562 63.421 Q310.735 67.4314 318.148 67.4314 Q322.442 67.4314 326.452 66.3781 Q330.503 65.3249 334.473 63.2184 L334.473 70.267 Q330.463 71.9684 326.25 72.8596 Q322.037 73.7508 317.702 73.7508 Q306.846 73.7508 300.486 67.4314 Q294.167 61.1119 294.167 50.3365 Q294.167 39.1965 300.162 32.6746 Q306.198 26.1121 316.406 26.1121 Q325.561 26.1121 330.868 32.0264 Q336.215 37.9003 336.215 48.0275 M328.761 45.84 Q328.68 39.7232 325.318 36.0774 Q321.996 32.4315 316.487 32.4315 Q310.249 32.4315 306.481 35.9558 Q302.754 39.4801 302.187 45.8805 L328.761 45.84 Z\" fill=\"#000000\" fill-rule=\"nonzero\" fill-opacity=\"1\" /><path clip-path=\"url(#clip580)\" d=\"M381.099 28.9478 L381.099 35.9153 Q377.939 34.1734 374.739 33.3227 Q371.579 32.4315 368.339 32.4315 Q361.087 32.4315 357.077 37.0496 Q353.067 41.6271 353.067 49.9314 Q353.067 58.2358 357.077 62.8538 Q361.087 67.4314 368.339 67.4314 Q371.579 67.4314 374.739 66.5807 Q377.939 65.6895 381.099 63.9476 L381.099 70.8341 Q377.98 72.2924 374.617 73.0216 Q371.296 73.7508 367.528 73.7508 Q357.28 73.7508 351.244 67.3098 Q345.208 60.8689 345.208 49.9314 Q345.208 38.832 351.284 32.472 Q357.401 26.1121 368.015 26.1121 Q371.458 26.1121 374.739 26.8413 Q378.02 27.5299 381.099 28.9478 Z\" fill=\"#000000\" fill-rule=\"nonzero\" fill-opacity=\"1\" /><path clip-path=\"url(#clip580)\" d=\"M393.292 54.671 L393.292 27.2059 L400.746 27.2059 L400.746 54.3874 Q400.746 60.8284 403.257 64.0691 Q405.769 67.2693 410.792 67.2693 Q416.828 67.2693 420.312 63.421 Q423.836 59.5726 423.836 52.9291 L423.836 27.2059 L431.29 27.2059 L431.29 72.576 L423.836 72.576 L423.836 65.6084 Q421.122 69.7404 417.517 71.7658 Q413.952 73.7508 409.212 73.7508 Q401.394 73.7508 397.343 68.8897 Q393.292 64.0286 393.292 54.671 M412.048 26.1121 L412.048 26.1121 Z\" fill=\"#000000\" fill-rule=\"nonzero\" fill-opacity=\"1\" /><path clip-path=\"url(#clip580)\" d=\"M454.015 14.324 L454.015 27.2059 L469.368 27.2059 L469.368 32.9987 L454.015 32.9987 L454.015 57.6282 Q454.015 63.1779 455.514 64.7578 Q457.053 66.3376 461.712 66.3376 L469.368 66.3376 L469.368 72.576 L461.712 72.576 Q453.083 72.576 449.802 69.3758 Q446.521 66.1351 446.521 57.6282 L446.521 32.9987 L441.052 32.9987 L441.052 27.2059 L446.521 27.2059 L446.521 14.324 L454.015 14.324 Z\" fill=\"#000000\" fill-rule=\"nonzero\" fill-opacity=\"1\" /><path clip-path=\"url(#clip580)\" d=\"M479.171 27.2059 L486.625 27.2059 L486.625 72.576 L479.171 72.576 L479.171 27.2059 M479.171 9.54393 L486.625 9.54393 L486.625 18.9825 L479.171 18.9825 L479.171 9.54393 Z\" fill=\"#000000\" fill-rule=\"nonzero\" fill-opacity=\"1\" /><path clip-path=\"url(#clip580)\" d=\"M519.802 32.4315 Q513.807 32.4315 510.323 37.1306 Q506.839 41.7891 506.839 49.9314 Q506.839 58.0738 510.282 62.7728 Q513.766 67.4314 519.802 67.4314 Q525.757 67.4314 529.24 62.7323 Q532.724 58.0333 532.724 49.9314 Q532.724 41.8701 529.24 37.1711 Q525.757 32.4315 519.802 32.4315 M519.802 26.1121 Q529.524 26.1121 535.074 32.4315 Q540.624 38.7509 540.624 49.9314 Q540.624 61.0714 535.074 67.4314 Q529.524 73.7508 519.802 73.7508 Q510.039 73.7508 504.489 67.4314 Q498.98 61.0714 498.98 49.9314 Q498.98 38.7509 504.489 32.4315 Q510.039 26.1121 519.802 26.1121 Z\" fill=\"#000000\" fill-rule=\"nonzero\" fill-opacity=\"1\" /><path clip-path=\"url(#clip580)\" d=\"M590.693 45.1919 L590.693 72.576 L583.239 72.576 L583.239 45.4349 Q583.239 38.994 580.727 35.7938 Q578.216 32.5936 573.193 32.5936 Q567.157 32.5936 563.673 36.4419 Q560.189 40.2903 560.189 46.9338 L560.189 72.576 L552.695 72.576 L552.695 27.2059 L560.189 27.2059 L560.189 34.2544 Q562.863 30.163 566.468 28.1376 Q570.114 26.1121 574.854 26.1121 Q582.672 26.1121 586.682 30.9732 Q590.693 35.7938 590.693 45.1919 Z\" fill=\"#000000\" fill-rule=\"nonzero\" fill-opacity=\"1\" /><path clip-path=\"url(#clip580)\" d=\"M623.87 12.096 L675.033 12.096 L675.033 18.9825 L653.563 18.9825 L653.563 72.576 L645.339 72.576 L645.339 18.9825 L623.87 18.9825 L623.87 12.096 Z\" fill=\"#000000\" fill-rule=\"nonzero\" fill-opacity=\"1\" /><path clip-path=\"url(#clip580)\" d=\"M680.056 27.2059 L687.509 27.2059 L687.509 72.576 L680.056 72.576 L680.056 27.2059 M680.056 9.54393 L687.509 9.54393 L687.509 18.9825 L680.056 18.9825 L680.056 9.54393 Z\" fill=\"#000000\" fill-rule=\"nonzero\" fill-opacity=\"1\" /><path clip-path=\"url(#clip580)\" d=\"M738.429 35.9153 Q741.224 30.8922 745.113 28.5022 Q749.002 26.1121 754.268 26.1121 Q761.357 26.1121 765.206 31.0947 Q769.054 36.0368 769.054 45.1919 L769.054 72.576 L761.56 72.576 L761.56 45.4349 Q761.56 38.913 759.251 35.7533 Q756.942 32.5936 752.202 32.5936 Q746.409 32.5936 743.047 36.4419 Q739.685 40.2903 739.685 46.9338 L739.685 72.576 L732.191 72.576 L732.191 45.4349 Q732.191 38.8725 729.882 35.7533 Q727.573 32.5936 722.752 32.5936 Q717.04 32.5936 713.678 36.4824 Q710.316 40.3308 710.316 46.9338 L710.316 72.576 L702.822 72.576 L702.822 27.2059 L710.316 27.2059 L710.316 34.2544 Q712.868 30.082 716.433 28.0971 Q719.998 26.1121 724.899 26.1121 Q729.841 26.1121 733.285 28.6237 Q736.768 31.1352 738.429 35.9153 Z\" fill=\"#000000\" fill-rule=\"nonzero\" fill-opacity=\"1\" /><path clip-path=\"url(#clip580)\" d=\"M822.729 48.0275 L822.729 51.6733 L788.458 51.6733 Q788.944 59.3701 793.076 63.421 Q797.248 67.4314 804.661 67.4314 Q808.955 67.4314 812.966 66.3781 Q817.017 65.3249 820.987 63.2184 L820.987 70.267 Q816.976 71.9684 812.763 72.8596 Q808.55 73.7508 804.216 73.7508 Q793.359 73.7508 787 67.4314 Q780.68 61.1119 780.68 50.3365 Q780.68 39.1965 786.675 32.6746 Q792.711 26.1121 802.92 26.1121 Q812.075 26.1121 817.381 32.0264 Q822.729 37.9003 822.729 48.0275 M815.275 45.84 Q815.194 39.7232 811.832 36.0774 Q808.51 32.4315 803.001 32.4315 Q796.762 32.4315 792.995 35.9558 Q789.268 39.4801 788.701 45.8805 L815.275 45.84 Z\" fill=\"#000000\" fill-rule=\"nonzero\" fill-opacity=\"1\" /><path clip-path=\"url(#clip580)\" d=\"M878.915 32.4315 Q872.919 32.4315 869.435 37.1306 Q865.952 41.7891 865.952 49.9314 Q865.952 58.0738 869.395 62.7728 Q872.879 67.4314 878.915 67.4314 Q884.869 67.4314 888.353 62.7323 Q891.837 58.0333 891.837 49.9314 Q891.837 41.8701 888.353 37.1711 Q884.869 32.4315 878.915 32.4315 M878.915 26.1121 Q888.637 26.1121 894.186 32.4315 Q899.736 38.7509 899.736 49.9314 Q899.736 61.0714 894.186 67.4314 Q888.637 73.7508 878.915 73.7508 Q869.152 73.7508 863.602 67.4314 Q858.093 61.0714 858.093 49.9314 Q858.093 38.7509 863.602 32.4315 Q869.152 26.1121 878.915 26.1121 Z\" fill=\"#000000\" fill-rule=\"nonzero\" fill-opacity=\"1\" /><path clip-path=\"url(#clip580)\" d=\"M935.06 9.54393 L935.06 15.7418 L927.93 15.7418 Q923.92 15.7418 922.34 17.3622 Q920.801 18.9825 920.801 23.1955 L920.801 27.2059 L933.075 27.2059 L933.075 32.9987 L920.801 32.9987 L920.801 72.576 L913.307 72.576 L913.307 32.9987 L906.177 32.9987 L906.177 27.2059 L913.307 27.2059 L913.307 24.0462 Q913.307 16.471 916.831 13.0277 Q920.355 9.54393 928.012 9.54393 L935.06 9.54393 Z\" fill=\"#000000\" fill-rule=\"nonzero\" fill-opacity=\"1\" /><path clip-path=\"url(#clip580)\" d=\"M976.177 18.8205 L976.177 65.8515 L986.061 65.8515 Q998.578 65.8515 1004.37 60.1802 Q1010.2 54.509 1010.2 42.2752 Q1010.2 30.1225 1004.37 24.4918 Q998.578 18.8205 986.061 18.8205 L976.177 18.8205 M967.994 12.096 L984.805 12.096 Q1002.39 12.096 1010.61 19.4281 Q1018.83 26.7198 1018.83 42.2752 Q1018.83 57.9117 1010.57 65.2439 Q1002.31 72.576 984.805 72.576 L967.994 72.576 L967.994 12.096 Z\" fill=\"#000000\" fill-rule=\"nonzero\" fill-opacity=\"1\" /><path clip-path=\"url(#clip580)\" d=\"M1070.36 48.0275 L1070.36 51.6733 L1036.09 51.6733 Q1036.58 59.3701 1040.71 63.421 Q1044.88 67.4314 1052.29 67.4314 Q1056.59 67.4314 1060.6 66.3781 Q1064.65 65.3249 1068.62 63.2184 L1068.62 70.267 Q1064.61 71.9684 1060.4 72.8596 Q1056.18 73.7508 1051.85 73.7508 Q1040.99 73.7508 1034.63 67.4314 Q1028.31 61.1119 1028.31 50.3365 Q1028.31 39.1965 1034.31 32.6746 Q1040.34 26.1121 1050.55 26.1121 Q1059.71 26.1121 1065.01 32.0264 Q1070.36 37.9003 1070.36 48.0275 M1062.91 45.84 Q1062.83 39.7232 1059.46 36.0774 Q1056.14 32.4315 1050.63 32.4315 Q1044.39 32.4315 1040.63 35.9558 Q1036.9 39.4801 1036.33 45.8805 L1062.91 45.84 Z\" fill=\"#000000\" fill-rule=\"nonzero\" fill-opacity=\"1\" /><path clip-path=\"url(#clip580)\" d=\"M1089.8 65.7705 L1089.8 89.8329 L1082.31 89.8329 L1082.31 27.2059 L1089.8 27.2059 L1089.8 34.0924 Q1092.15 30.0415 1095.72 28.0971 Q1099.32 26.1121 1104.31 26.1121 Q1112.57 26.1121 1117.72 32.6746 Q1122.9 39.2371 1122.9 49.9314 Q1122.9 60.6258 1117.72 67.1883 Q1112.57 73.7508 1104.31 73.7508 Q1099.32 73.7508 1095.72 71.8063 Q1092.15 69.8214 1089.8 65.7705 M1115.16 49.9314 Q1115.16 41.7081 1111.76 37.0496 Q1108.4 32.3505 1102.48 32.3505 Q1096.57 32.3505 1093.17 37.0496 Q1089.8 41.7081 1089.8 49.9314 Q1089.8 58.1548 1093.17 62.8538 Q1096.57 67.5124 1102.48 67.5124 Q1108.4 67.5124 1111.76 62.8538 Q1115.16 58.1548 1115.16 49.9314 Z\" fill=\"#000000\" fill-rule=\"nonzero\" fill-opacity=\"1\" /><path clip-path=\"url(#clip580)\" d=\"M1142.63 14.324 L1142.63 27.2059 L1157.98 27.2059 L1157.98 32.9987 L1142.63 32.9987 L1142.63 57.6282 Q1142.63 63.1779 1144.13 64.7578 Q1145.67 66.3376 1150.33 66.3376 L1157.98 66.3376 L1157.98 72.576 L1150.33 72.576 Q1141.7 72.576 1138.42 69.3758 Q1135.13 66.1351 1135.13 57.6282 L1135.13 32.9987 L1129.67 32.9987 L1129.67 27.2059 L1135.13 27.2059 L1135.13 14.324 L1142.63 14.324 Z\" fill=\"#000000\" fill-rule=\"nonzero\" fill-opacity=\"1\" /><path clip-path=\"url(#clip580)\" d=\"M1205.5 45.1919 L1205.5 72.576 L1198.04 72.576 L1198.04 45.4349 Q1198.04 38.994 1195.53 35.7938 Q1193.02 32.5936 1188 32.5936 Q1181.96 32.5936 1178.48 36.4419 Q1175 40.2903 1175 46.9338 L1175 72.576 L1167.5 72.576 L1167.5 9.54393 L1175 9.54393 L1175 34.2544 Q1177.67 30.163 1181.27 28.1376 Q1184.92 26.1121 1189.66 26.1121 Q1197.48 26.1121 1201.49 30.9732 Q1205.5 35.7938 1205.5 45.1919 Z\" fill=\"#000000\" fill-rule=\"nonzero\" fill-opacity=\"1\" /><path clip-path=\"url(#clip580)\" d=\"M1253.95 65.7705 L1253.95 89.8329 L1246.45 89.8329 L1246.45 27.2059 L1253.95 27.2059 L1253.95 34.0924 Q1256.3 30.0415 1259.86 28.0971 Q1263.47 26.1121 1268.45 26.1121 Q1276.71 26.1121 1281.86 32.6746 Q1287.04 39.2371 1287.04 49.9314 Q1287.04 60.6258 1281.86 67.1883 Q1276.71 73.7508 1268.45 73.7508 Q1263.47 73.7508 1259.86 71.8063 Q1256.3 69.8214 1253.95 65.7705 M1279.31 49.9314 Q1279.31 41.7081 1275.9 37.0496 Q1272.54 32.3505 1266.63 32.3505 Q1260.71 32.3505 1257.31 37.0496 Q1253.95 41.7081 1253.95 49.9314 Q1253.95 58.1548 1257.31 62.8538 Q1260.71 67.5124 1266.63 67.5124 Q1272.54 67.5124 1275.9 62.8538 Q1279.31 58.1548 1279.31 49.9314 Z\" fill=\"#000000\" fill-rule=\"nonzero\" fill-opacity=\"1\" /><path clip-path=\"url(#clip580)\" d=\"M1338.21 48.0275 L1338.21 51.6733 L1303.94 51.6733 Q1304.42 59.3701 1308.55 63.421 Q1312.73 67.4314 1320.14 67.4314 Q1324.43 67.4314 1328.44 66.3781 Q1332.49 65.3249 1336.46 63.2184 L1336.46 70.267 Q1332.45 71.9684 1328.24 72.8596 Q1324.03 73.7508 1319.69 73.7508 Q1308.84 73.7508 1302.48 67.4314 Q1296.16 61.1119 1296.16 50.3365 Q1296.16 39.1965 1302.15 32.6746 Q1308.19 26.1121 1318.4 26.1121 Q1327.55 26.1121 1332.86 32.0264 Q1338.21 37.9003 1338.21 48.0275 M1330.75 45.84 Q1330.67 39.7232 1327.31 36.0774 Q1323.99 32.4315 1318.48 32.4315 Q1312.24 32.4315 1308.47 35.9558 Q1304.75 39.4801 1304.18 45.8805 L1330.75 45.84 Z\" fill=\"#000000\" fill-rule=\"nonzero\" fill-opacity=\"1\" /><path clip-path=\"url(#clip580)\" d=\"M1376.73 34.1734 Q1375.47 33.4443 1373.98 33.1202 Q1372.52 32.7556 1370.73 32.7556 Q1364.42 32.7556 1361.01 36.8875 Q1357.65 40.9789 1357.65 48.6757 L1357.65 72.576 L1350.16 72.576 L1350.16 27.2059 L1357.65 27.2059 L1357.65 34.2544 Q1360 30.1225 1363.77 28.1376 Q1367.53 26.1121 1372.92 26.1121 Q1373.69 26.1121 1374.62 26.2337 Q1375.56 26.3147 1376.69 26.5172 L1376.73 34.1734 Z\" fill=\"#000000\" fill-rule=\"nonzero\" fill-opacity=\"1\" /><path clip-path=\"url(#clip580)\" d=\"M1440.77 49.3643 Q1440.77 41.2625 1437.41 36.8065 Q1434.09 32.3505 1428.06 32.3505 Q1422.06 32.3505 1418.7 36.8065 Q1415.38 41.2625 1415.38 49.3643 Q1415.38 57.4256 1418.7 61.8816 Q1422.06 66.3376 1428.06 66.3376 Q1434.09 66.3376 1437.41 61.8816 Q1440.77 57.4256 1440.77 49.3643 M1448.23 66.9452 Q1448.23 78.5308 1443.08 84.1616 Q1437.94 89.8329 1427.33 89.8329 Q1423.4 89.8329 1419.91 89.2252 Q1416.43 88.6581 1413.15 87.4428 L1413.15 80.1917 Q1416.43 81.9741 1419.63 82.8248 Q1422.83 83.6755 1426.15 83.6755 Q1433.48 83.6755 1437.13 79.8271 Q1440.77 76.0193 1440.77 68.282 L1440.77 64.5957 Q1438.47 68.6061 1434.86 70.5911 Q1431.26 72.576 1426.23 72.576 Q1417.89 72.576 1412.78 66.2161 Q1407.68 59.8562 1407.68 49.3643 Q1407.68 38.832 1412.78 32.472 Q1417.89 26.1121 1426.23 26.1121 Q1431.26 26.1121 1434.86 28.0971 Q1438.47 30.082 1440.77 34.0924 L1440.77 27.2059 L1448.23 27.2059 L1448.23 66.9452 Z\" fill=\"#000000\" fill-rule=\"nonzero\" fill-opacity=\"1\" /><path clip-path=\"url(#clip580)\" d=\"M1484.2 49.7694 Q1475.17 49.7694 1471.68 51.8354 Q1468.2 53.9013 1468.2 58.8839 Q1468.2 62.8538 1470.79 65.2034 Q1473.43 67.5124 1477.92 67.5124 Q1484.12 67.5124 1487.85 63.1374 Q1491.61 58.7219 1491.61 51.4303 L1491.61 49.7694 L1484.2 49.7694 M1499.07 46.6907 L1499.07 72.576 L1491.61 72.576 L1491.61 65.6895 Q1489.06 69.8214 1485.25 71.8063 Q1481.45 73.7508 1475.94 73.7508 Q1468.97 73.7508 1464.84 69.8619 Q1460.75 65.9325 1460.75 59.3701 Q1460.75 51.7138 1465.85 47.825 Q1470.99 43.9361 1481.16 43.9361 L1491.61 43.9361 L1491.61 43.2069 Q1491.61 38.0623 1488.21 35.2672 Q1484.85 32.4315 1478.73 32.4315 Q1474.84 32.4315 1471.16 33.3632 Q1467.47 34.295 1464.07 36.1584 L1464.07 29.2718 Q1468.16 27.692 1472.01 26.9223 Q1475.86 26.1121 1479.5 26.1121 Q1489.35 26.1121 1494.21 31.2163 Q1499.07 36.3204 1499.07 46.6907 Z\" fill=\"#000000\" fill-rule=\"nonzero\" fill-opacity=\"1\" /><path clip-path=\"url(#clip580)\" d=\"M1549.74 35.9153 Q1552.54 30.8922 1556.43 28.5022 Q1560.32 26.1121 1565.58 26.1121 Q1572.67 26.1121 1576.52 31.0947 Q1580.37 36.0368 1580.37 45.1919 L1580.37 72.576 L1572.87 72.576 L1572.87 45.4349 Q1572.87 38.913 1570.57 35.7533 Q1568.26 32.5936 1563.52 32.5936 Q1557.72 32.5936 1554.36 36.4419 Q1551 40.2903 1551 46.9338 L1551 72.576 L1543.51 72.576 L1543.51 45.4349 Q1543.51 38.8725 1541.2 35.7533 Q1538.89 32.5936 1534.07 32.5936 Q1528.36 32.5936 1524.99 36.4824 Q1521.63 40.3308 1521.63 46.9338 L1521.63 72.576 L1514.14 72.576 L1514.14 27.2059 L1521.63 27.2059 L1521.63 34.2544 Q1524.18 30.082 1527.75 28.0971 Q1531.31 26.1121 1536.21 26.1121 Q1541.16 26.1121 1544.6 28.6237 Q1548.08 31.1352 1549.74 35.9153 Z\" fill=\"#000000\" fill-rule=\"nonzero\" fill-opacity=\"1\" /><path clip-path=\"url(#clip580)\" d=\"M1634.04 48.0275 L1634.04 51.6733 L1599.77 51.6733 Q1600.26 59.3701 1604.39 63.421 Q1608.56 67.4314 1615.98 67.4314 Q1620.27 67.4314 1624.28 66.3781 Q1628.33 65.3249 1632.3 63.2184 L1632.3 70.267 Q1628.29 71.9684 1624.08 72.8596 Q1619.87 73.7508 1615.53 73.7508 Q1604.67 73.7508 1598.31 67.4314 Q1592 61.1119 1592 50.3365 Q1592 39.1965 1597.99 32.6746 Q1604.03 26.1121 1614.23 26.1121 Q1623.39 26.1121 1628.7 32.0264 Q1634.04 37.9003 1634.04 48.0275 M1626.59 45.84 Q1626.51 39.7232 1623.15 36.0774 Q1619.82 32.4315 1614.32 32.4315 Q1608.08 32.4315 1604.31 35.9558 Q1600.58 39.4801 1600.02 45.8805 L1626.59 45.84 Z\" fill=\"#000000\" fill-rule=\"nonzero\" fill-opacity=\"1\" /><path clip-path=\"url(#clip580)\" d=\"M1690.55 9.62495 Q1685.13 18.942 1682.49 28.0566 Q1679.86 37.1711 1679.86 46.5287 Q1679.86 55.8863 1682.49 65.0818 Q1685.17 74.2369 1690.55 83.5134 L1684.07 83.5134 Q1678 73.9938 1674.96 64.7983 Q1671.96 55.6027 1671.96 46.5287 Q1671.96 37.4952 1674.96 28.3401 Q1677.96 19.1851 1684.07 9.62495 L1690.55 9.62495 Z\" fill=\"#000000\" fill-rule=\"nonzero\" fill-opacity=\"1\" /><path clip-path=\"url(#clip580)\" d=\"M1712.39 14.324 L1712.39 27.2059 L1727.74 27.2059 L1727.74 32.9987 L1712.39 32.9987 L1712.39 57.6282 Q1712.39 63.1779 1713.89 64.7578 Q1715.43 66.3376 1720.08 66.3376 L1727.74 66.3376 L1727.74 72.576 L1720.08 72.576 Q1711.46 72.576 1708.18 69.3758 Q1704.89 66.1351 1704.89 57.6282 L1704.89 32.9987 L1699.43 32.9987 L1699.43 27.2059 L1704.89 27.2059 L1704.89 14.324 L1712.39 14.324 Z\" fill=\"#000000\" fill-rule=\"nonzero\" fill-opacity=\"1\" /><path clip-path=\"url(#clip580)\" d=\"M1755.13 32.4315 Q1749.13 32.4315 1745.65 37.1306 Q1742.16 41.7891 1742.16 49.9314 Q1742.16 58.0738 1745.61 62.7728 Q1749.09 67.4314 1755.13 67.4314 Q1761.08 67.4314 1764.56 62.7323 Q1768.05 58.0333 1768.05 49.9314 Q1768.05 41.8701 1764.56 37.1711 Q1761.08 32.4315 1755.13 32.4315 M1755.13 26.1121 Q1764.85 26.1121 1770.4 32.4315 Q1775.95 38.7509 1775.95 49.9314 Q1775.95 61.0714 1770.4 67.4314 Q1764.85 73.7508 1755.13 73.7508 Q1745.36 73.7508 1739.81 67.4314 Q1734.3 61.0714 1734.3 49.9314 Q1734.3 38.7509 1739.81 32.4315 Q1745.36 26.1121 1755.13 26.1121 Z\" fill=\"#000000\" fill-rule=\"nonzero\" fill-opacity=\"1\" /><path clip-path=\"url(#clip580)\" d=\"M1795.51 65.7705 L1795.51 89.8329 L1788.02 89.8329 L1788.02 27.2059 L1795.51 27.2059 L1795.51 34.0924 Q1797.86 30.0415 1801.43 28.0971 Q1805.03 26.1121 1810.01 26.1121 Q1818.28 26.1121 1823.42 32.6746 Q1828.61 39.2371 1828.61 49.9314 Q1828.61 60.6258 1823.42 67.1883 Q1818.28 73.7508 1810.01 73.7508 Q1805.03 73.7508 1801.43 71.8063 Q1797.86 69.8214 1795.51 65.7705 M1820.87 49.9314 Q1820.87 41.7081 1817.47 37.0496 Q1814.11 32.3505 1808.19 32.3505 Q1802.28 32.3505 1798.87 37.0496 Q1795.51 41.7081 1795.51 49.9314 Q1795.51 58.1548 1798.87 62.8538 Q1802.28 67.5124 1808.19 67.5124 Q1814.11 67.5124 1817.47 62.8538 Q1820.87 58.1548 1820.87 49.9314 Z\" fill=\"#000000\" fill-rule=\"nonzero\" fill-opacity=\"1\" /><path clip-path=\"url(#clip580)\" d=\"M1868.47 12.096 L1900.59 12.096 L1900.59 18.9825 L1875.96 18.9825 L1875.96 33.8088 Q1877.75 33.2012 1879.53 32.9176 Q1881.31 32.5936 1883.09 32.5936 Q1893.22 32.5936 1899.13 38.1433 Q1905.05 43.6931 1905.05 53.1722 Q1905.05 62.9348 1898.97 68.3631 Q1892.9 73.7508 1881.84 73.7508 Q1878.03 73.7508 1874.06 73.1026 Q1870.13 72.4545 1865.92 71.1582 L1865.92 62.9348 Q1869.56 64.9198 1873.45 65.892 Q1877.34 66.8642 1881.68 66.8642 Q1888.68 66.8642 1892.77 63.1779 Q1896.87 59.4916 1896.87 53.1722 Q1896.87 46.8528 1892.77 43.1664 Q1888.68 39.4801 1881.68 39.4801 Q1878.39 39.4801 1875.11 40.2093 Q1871.87 40.9384 1868.47 42.4778 L1868.47 12.096 Z\" fill=\"#000000\" fill-rule=\"nonzero\" fill-opacity=\"1\" /><path clip-path=\"url(#clip580)\" d=\"M1979.06 49.9314 Q1979.06 41.7081 1975.66 37.0496 Q1972.29 32.3505 1966.38 32.3505 Q1960.47 32.3505 1957.06 37.0496 Q1953.7 41.7081 1953.7 49.9314 Q1953.7 58.1548 1957.06 62.8538 Q1960.47 67.5124 1966.38 67.5124 Q1972.29 67.5124 1975.66 62.8538 Q1979.06 58.1548 1979.06 49.9314 M1953.7 34.0924 Q1956.05 30.0415 1959.61 28.0971 Q1963.22 26.1121 1968.2 26.1121 Q1976.47 26.1121 1981.61 32.6746 Q1986.8 39.2371 1986.8 49.9314 Q1986.8 60.6258 1981.61 67.1883 Q1976.47 73.7508 1968.2 73.7508 Q1963.22 73.7508 1959.61 71.8063 Q1956.05 69.8214 1953.7 65.7705 L1953.7 72.576 L1946.21 72.576 L1946.21 9.54393 L1953.7 9.54393 L1953.7 34.0924 Z\" fill=\"#000000\" fill-rule=\"nonzero\" fill-opacity=\"1\" /><path clip-path=\"url(#clip580)\" d=\"M2037.96 48.0275 L2037.96 51.6733 L2003.69 51.6733 Q2004.17 59.3701 2008.31 63.421 Q2012.48 67.4314 2019.89 67.4314 Q2024.19 67.4314 2028.2 66.3781 Q2032.25 65.3249 2036.22 63.2184 L2036.22 70.267 Q2032.21 71.9684 2027.99 72.8596 Q2023.78 73.7508 2019.45 73.7508 Q2008.59 73.7508 2002.23 67.4314 Q1995.91 61.1119 1995.91 50.3365 Q1995.91 39.1965 2001.91 32.6746 Q2007.94 26.1121 2018.15 26.1121 Q2027.31 26.1121 2032.61 32.0264 Q2037.96 37.9003 2037.96 48.0275 M2030.51 45.84 Q2030.42 39.7232 2027.06 36.0774 Q2023.74 32.4315 2018.23 32.4315 Q2011.99 32.4315 2008.23 35.9558 Q2004.5 39.4801 2003.93 45.8805 L2030.51 45.84 Z\" fill=\"#000000\" fill-rule=\"nonzero\" fill-opacity=\"1\" /><path clip-path=\"url(#clip580)\" d=\"M2079.12 28.5427 L2079.12 35.5912 Q2075.96 33.9709 2072.55 33.1607 Q2069.15 32.3505 2065.51 32.3505 Q2059.96 32.3505 2057.16 34.0519 Q2054.41 35.7533 2054.41 39.156 Q2054.41 41.7486 2056.39 43.2475 Q2058.38 44.7058 2064.37 46.0426 L2066.92 46.6097 Q2074.86 48.3111 2078.18 51.4303 Q2081.55 54.509 2081.55 60.0587 Q2081.55 66.3781 2076.52 70.0644 Q2071.54 73.7508 2062.79 73.7508 Q2059.15 73.7508 2055.18 73.0216 Q2051.25 72.3329 2046.87 70.9151 L2046.87 63.2184 Q2051 65.3654 2055.01 66.4591 Q2059.02 67.5124 2062.95 67.5124 Q2068.22 67.5124 2071.06 65.73 Q2073.89 63.9071 2073.89 60.6258 Q2073.89 57.5877 2071.82 55.9673 Q2069.8 54.3469 2062.87 52.8481 L2060.28 52.2405 Q2053.35 50.7821 2050.27 47.7845 Q2047.2 44.7463 2047.2 39.4801 Q2047.2 33.0797 2051.73 29.5959 Q2056.27 26.1121 2064.61 26.1121 Q2068.75 26.1121 2072.39 26.7198 Q2076.04 27.3274 2079.12 28.5427 Z\" fill=\"#000000\" fill-rule=\"nonzero\" fill-opacity=\"1\" /><path clip-path=\"url(#clip580)\" d=\"M2100.79 14.324 L2100.79 27.2059 L2116.14 27.2059 L2116.14 32.9987 L2100.79 32.9987 L2100.79 57.6282 Q2100.79 63.1779 2102.29 64.7578 Q2103.83 66.3376 2108.49 66.3376 L2116.14 66.3376 L2116.14 72.576 L2108.49 72.576 Q2099.86 72.576 2096.58 69.3758 Q2093.29 66.1351 2093.29 57.6282 L2093.29 32.9987 L2087.83 32.9987 L2087.83 27.2059 L2093.29 27.2059 L2093.29 14.324 L2100.79 14.324 Z\" fill=\"#000000\" fill-rule=\"nonzero\" fill-opacity=\"1\" /><path clip-path=\"url(#clip580)\" d=\"M2187.64 35.9153 Q2190.44 30.8922 2194.32 28.5022 Q2198.21 26.1121 2203.48 26.1121 Q2210.57 26.1121 2214.42 31.0947 Q2218.27 36.0368 2218.27 45.1919 L2218.27 72.576 L2210.77 72.576 L2210.77 45.4349 Q2210.77 38.913 2208.46 35.7533 Q2206.15 32.5936 2201.41 32.5936 Q2195.62 32.5936 2192.26 36.4419 Q2188.9 40.2903 2188.9 46.9338 L2188.9 72.576 L2181.4 72.576 L2181.4 45.4349 Q2181.4 38.8725 2179.09 35.7533 Q2176.78 32.5936 2171.96 32.5936 Q2166.25 32.5936 2162.89 36.4824 Q2159.53 40.3308 2159.53 46.9338 L2159.53 72.576 L2152.03 72.576 L2152.03 27.2059 L2159.53 27.2059 L2159.53 34.2544 Q2162.08 30.082 2165.64 28.0971 Q2169.21 26.1121 2174.11 26.1121 Q2179.05 26.1121 2182.5 28.6237 Q2185.98 31.1352 2187.64 35.9153 Z\" fill=\"#000000\" fill-rule=\"nonzero\" fill-opacity=\"1\" /><path clip-path=\"url(#clip580)\" d=\"M2250.71 32.4315 Q2244.72 32.4315 2241.23 37.1306 Q2237.75 41.7891 2237.75 49.9314 Q2237.75 58.0738 2241.19 62.7728 Q2244.68 67.4314 2250.71 67.4314 Q2256.67 67.4314 2260.15 62.7323 Q2263.64 58.0333 2263.64 49.9314 Q2263.64 41.8701 2260.15 37.1711 Q2256.67 32.4315 2250.71 32.4315 M2250.71 26.1121 Q2260.43 26.1121 2265.98 32.4315 Q2271.53 38.7509 2271.53 49.9314 Q2271.53 61.0714 2265.98 67.4314 Q2260.43 73.7508 2250.71 73.7508 Q2240.95 73.7508 2235.4 67.4314 Q2229.89 61.0714 2229.89 49.9314 Q2229.89 38.7509 2235.4 32.4315 Q2240.95 26.1121 2250.71 26.1121 Z\" fill=\"#000000\" fill-rule=\"nonzero\" fill-opacity=\"1\" /><path clip-path=\"url(#clip580)\" d=\"M2278.54 27.2059 L2286.44 27.2059 L2300.62 65.2844 L2314.8 27.2059 L2322.7 27.2059 L2305.68 72.576 L2295.56 72.576 L2278.54 27.2059 Z\" fill=\"#000000\" fill-rule=\"nonzero\" fill-opacity=\"1\" /><path clip-path=\"url(#clip580)\" d=\"M2371.79 48.0275 L2371.79 51.6733 L2337.52 51.6733 Q2338.01 59.3701 2342.14 63.421 Q2346.31 67.4314 2353.73 67.4314 Q2358.02 67.4314 2362.03 66.3781 Q2366.08 65.3249 2370.05 63.2184 L2370.05 70.267 Q2366.04 71.9684 2361.83 72.8596 Q2357.62 73.7508 2353.28 73.7508 Q2342.43 73.7508 2336.07 67.4314 Q2329.75 61.1119 2329.75 50.3365 Q2329.75 39.1965 2335.74 32.6746 Q2341.78 26.1121 2351.99 26.1121 Q2361.14 26.1121 2366.45 32.0264 Q2371.79 37.9003 2371.79 48.0275 M2364.34 45.84 Q2364.26 39.7232 2360.9 36.0774 Q2357.58 32.4315 2352.07 32.4315 Q2345.83 32.4315 2342.06 35.9558 Q2338.33 39.4801 2337.77 45.8805 L2364.34 45.84 Z\" fill=\"#000000\" fill-rule=\"nonzero\" fill-opacity=\"1\" /><path clip-path=\"url(#clip580)\" d=\"M2382.85 9.62495 L2389.33 9.62495 Q2395.41 19.1851 2398.41 28.3401 Q2401.45 37.4952 2401.45 46.5287 Q2401.45 55.6027 2398.41 64.7983 Q2395.41 73.9938 2389.33 83.5134 L2382.85 83.5134 Q2388.24 74.2369 2390.87 65.0818 Q2393.55 55.8863 2393.55 46.5287 Q2393.55 37.1711 2390.87 28.0566 Q2388.24 18.942 2382.85 9.62495 Z\" fill=\"#000000\" fill-rule=\"nonzero\" fill-opacity=\"1\" /><polyline clip-path=\"url(#clip582)\" style=\"stroke:#009af9; stroke-linecap:round; stroke-linejoin:round; stroke-width:4; stroke-opacity:1; fill:none\" points=\"307.043,1386.4 505.656,1380.16 704.268,1381.2 902.881,1379.28 1101.49,1359.91 1300.11,1329.89 1498.72,1279.89 1697.33,1249.1 1895.95,993.298 2094.56,810.318 2293.17,160.256 \"/>\n",
       "<path clip-path=\"url(#clip580)\" d=\"M317.635 270.476 L580.595 270.476 L580.595 166.796 L317.635 166.796  Z\" fill=\"#ffffff\" fill-rule=\"evenodd\" fill-opacity=\"1\"/>\n",
       "<polyline clip-path=\"url(#clip580)\" style=\"stroke:#000000; stroke-linecap:round; stroke-linejoin:round; stroke-width:4; stroke-opacity:1; fill:none\" points=\"317.635,270.476 580.595,270.476 580.595,166.796 317.635,166.796 317.635,270.476 \"/>\n",
       "<polyline clip-path=\"url(#clip580)\" style=\"stroke:#009af9; stroke-linecap:round; stroke-linejoin:round; stroke-width:4; stroke-opacity:1; fill:none\" points=\"341.027,218.636 481.381,218.636 \"/>\n",
       "<path clip-path=\"url(#clip580)\" d=\"M518.615 238.323 Q516.81 242.953 515.097 244.365 Q513.384 245.777 510.514 245.777 L507.111 245.777 L507.111 242.212 L509.611 242.212 Q511.37 242.212 512.342 241.379 Q513.314 240.545 514.495 237.443 L515.259 235.499 L504.773 209.99 L509.287 209.99 L517.388 230.268 L525.49 209.99 L530.004 209.99 L518.615 238.323 Z\" fill=\"#000000\" fill-rule=\"nonzero\" fill-opacity=\"1\" /><path clip-path=\"url(#clip580)\" d=\"M537.296 231.981 L544.935 231.981 L544.935 205.615 L536.624 207.282 L536.624 203.022 L544.888 201.356 L549.564 201.356 L549.564 231.981 L557.203 231.981 L557.203 235.916 L537.296 235.916 L537.296 231.981 Z\" fill=\"#000000\" fill-rule=\"nonzero\" fill-opacity=\"1\" /></svg>\n"
      ]
     },
     "execution_count": 111,
     "metadata": {},
     "output_type": "execute_result"
    }
   ],
   "source": [
    "function measure_execution_time(n)\n",
    "    start_time = time()\n",
    "    best_move = stockfish.analyse(game.board(), ce.Limit(depth=n), multipv=5)\n",
    "    end_time = time()\n",
    "\n",
    "    return end_time - start_time\n",
    "end\n",
    "\n",
    "depths = 15:25\n",
    "execution_times = Float64[]\n",
    "\n",
    "for n in depths\n",
    "    push!(execution_times, measure_execution_time(n))\n",
    "end\n",
    "\n",
    "plot(depths, execution_times, xlabel=\"Depth\", ylabel=\"Time (s)\", title=\"Execution Time of Depth per game (top 5 best move)\")\n"
   ]
  },
  {
   "cell_type": "code",
   "execution_count": 112,
   "id": "e7503b51-055c-4260-8783-b3cf645ae6c6",
   "metadata": {},
   "outputs": [
    {
     "data": {
      "text/plain": [
       "11-element Vector{Float64}:\n",
       "  0.0485990047454834\n",
       "  0.11851978302001953\n",
       "  0.10687398910522461\n",
       "  0.12837600708007812\n",
       "  0.3457000255584717\n",
       "  0.6825039386749268\n",
       "  1.2434840202331543\n",
       "  1.5888400077819824\n",
       "  4.458656072616577\n",
       "  6.51146388053894\n",
       " 13.804327011108398"
      ]
     },
     "execution_count": 112,
     "metadata": {},
     "output_type": "execute_result"
    }
   ],
   "source": [
    "execution_times"
   ]
  },
  {
   "cell_type": "code",
   "execution_count": 48,
   "id": "25b0cad5-c508-4b7b-a834-e917ba5f1ff8",
   "metadata": {},
   "outputs": [
    {
     "data": {
      "text/plain": [
       "prediction (generic function with 1 method)"
      ]
     },
     "execution_count": 48,
     "metadata": {},
     "output_type": "execute_result"
    }
   ],
   "source": [
    "function prediction(board)\n",
    "    # Initialize a list to store the predictions\n",
    "    predictions = []\n",
    "\n",
    "    # Analyze the board with a depth of 20 and multipv set to 5\n",
    "    analysis_results = stockfish.analyse(board, ce.Limit(depth=20), multipv=5)\n",
    "\n",
    "    # Iterate through the analysis results\n",
    "    for result in analysis_results\n",
    "        # Extract relevant information from each result\n",
    "        best_move = result[\"pv\"][1]  # First move in the principal variation\n",
    "        best_score = result[\"score\"]\n",
    "        process_time = result[\"time\"]\n",
    "        number_of_nodes = result[\"nodes\"]\n",
    "\n",
    "        # Append the extracted information to the predictions list\n",
    "        push!(predictions, (best_move, best_score, process_time, number_of_nodes))\n",
    "    end\n",
    "\n",
    "    return predictions\n",
    "end\n"
   ]
  },
  {
   "cell_type": "code",
   "execution_count": 57,
   "id": "05999c1d-e67a-4546-bfb5-52888a9f38ca",
   "metadata": {},
   "outputs": [
    {
     "name": "stdout",
     "output_type": "stream",
     "text": [
      "Warning: 'score' key not found in analysis result\n",
      "Warning: 'score' key not found in analysis result\n",
      "Warning: 'score' key not found in analysis result\n",
      "Warning: 'score' key not found in analysis result\n",
      "Warning: 'score' key not found in analysis result\n",
      "Warning: 'score' key not found in analysis result\n",
      "Warning: 'score' key not found in analysis result\n",
      "Warning: 'score' key not found in analysis result\n",
      "Warning: 'score' key not found in analysis result\n",
      "Warning: 'score' key not found in analysis result\n",
      "Warning: 'score' key not found in analysis result\n",
      "Warning: 'score' key not found in analysis result\n",
      "Warning: 'score' key not found in analysis result\n",
      "Warning: 'score' key not found in analysis result\n",
      "Warning: 'score' key not found in analysis result\n",
      "Warning: 'score' key not found in analysis result\n",
      "Warning: 'score' key not found in analysis result\n",
      "Warning: 'score' key not found in analysis result\n",
      "Warning: 'score' key not found in analysis result\n",
      "Warning: 'score' key not found in analysis result\n",
      "Warning: 'score' key not found in analysis result\n",
      "Warning: 'score' key not found in analysis result\n",
      "Warning: 'score' key not found in analysis result\n",
      "Warning: 'score' key not found in analysis result\n",
      "Warning: 'score' key not found in analysis result\n",
      "Warning: 'score' key not found in analysis result\n",
      "Warning: 'score' key not found in analysis result\n",
      "Warning: 'score' key not found in analysis result\n",
      "Warning: 'score' key not found in analysis result\n",
      "Warning: 'score' key not found in analysis result\n",
      "Warning: 'score' key not found in analysis result\n",
      "Warning: 'score' key not found in analysis result\n",
      "Warning: 'score' key not found in analysis result\n",
      "Warning: 'score' key not found in analysis result\n",
      "Warning: 'score' key not found in analysis result\n",
      "Warning: 'score' key not found in analysis result\n",
      "Warning: 'score' key not found in analysis result\n",
      "Warning: 'score' key not found in analysis result\n",
      "Warning: 'score' key not found in analysis result\n",
      "Warning: 'score' key not found in analysis result\n",
      "Warning: 'score' key not found in analysis result\n",
      "Warning: 'score' key not found in analysis result\n",
      "Warning: 'score' key not found in analysis result\n",
      "Warning: 'score' key not found in analysis result\n",
      "Warning: 'score' key not found in analysis result\n",
      "Warning: 'score' key not found in analysis result\n",
      "Warning: 'score' key not found in analysis result\n",
      "Warning: 'score' key not found in analysis result\n",
      "Warning: 'score' key not found in analysis result\n",
      "Warning: 'score' key not found in analysis result\n",
      "Warning: 'score' key not found in analysis result\n",
      "Warning: 'score' key not found in analysis result\n"
     ]
    },
    {
     "ename": "LoadError",
     "evalue": "InterruptException:",
     "output_type": "error",
     "traceback": [
      "InterruptException:",
      "",
      "Stacktrace:",
      "  [1] sigatomic_end",
      "    @ ./c.jl:452 [inlined]",
      "  [2] disable_sigint",
      "    @ ./c.jl:475 [inlined]",
      "  [3] __pycall!",
      "    @ ~/.julia/packages/PyCall/KLzIO/src/pyfncall.jl:42 [inlined]",
      "  [4] _pycall!(ret::PyObject, o::PyObject, args::Tuple{PyObject, PyObject}, nargs::Int64, kw::PyObject)",
      "    @ PyCall ~/.julia/packages/PyCall/KLzIO/src/pyfncall.jl:29",
      "  [5] _pycall!(ret::PyObject, o::PyObject, args::Tuple{PyObject, PyObject}, kwargs::Base.Pairs{Symbol, Int64, Tuple{Symbol}, NamedTuple{(:multipv,), Tuple{Int64}}})",
      "    @ PyCall ~/.julia/packages/PyCall/KLzIO/src/pyfncall.jl:11",
      "  [6] (::PyObject)(::PyObject, ::Vararg{PyObject}; kwargs::Base.Pairs{Symbol, Int64, Tuple{Symbol}, NamedTuple{(:multipv,), Tuple{Int64}}})",
      "    @ PyCall ~/.julia/packages/PyCall/KLzIO/src/pyfncall.jl:86",
      "  [7] prediction(board::PyObject)",
      "    @ Main ./In[48]:6",
      "  [8] analyze_game(game::PyObject, stockfish::PyObject)",
      "    @ Main ./In[57]:9",
      "  [9] process_games(file_path::String, stockfish::PyObject)",
      "    @ Main ./In[57]:44",
      " [10] main()",
      "    @ Main ./In[57]:55",
      " [11] top-level scope",
      "    @ In[57]:59"
     ]
    }
   ],
   "source": [
    "function analyze_game(game, stockfish)\n",
    "    # Get basic game information\n",
    "    basic_info = basic_game_info(game)\n",
    "\n",
    "    # Get moving information\n",
    "    move_info = moving_info(game)\n",
    "\n",
    "    # Generate predictions\n",
    "    predictions = prediction(game.board())\n",
    "\n",
    "    # Create a DataFrame for the game analysis\n",
    "    game_analysis_data = copy(basic_info)\n",
    "\n",
    "    # Add moving information to the DataFrame\n",
    "    game_analysis_data[!, :MoveId] = [move_info[1]]\n",
    "    game_analysis_data[!, :RemainingTime] = [move_info[2]]\n",
    "    game_analysis_data[!, :MovePlayed] = [move_info[3]]\n",
    "    game_analysis_data[!, :MovePlayedEval] = [move_info[4]]\n",
    "    game_analysis_data[!, :ProcessTime] = [move_info[5]]\n",
    "    game_analysis_data[!, :NumberofNodes] = [move_info[6]]\n",
    "\n",
    "    # Add prediction data to the DataFrame\n",
    "    for i in 1:length(predictions)\n",
    "        game_analysis_data[!, Symbol(\"best_move_$i\")] = [predictions[i][1]]\n",
    "        game_analysis_data[!, Symbol(\"best_score_$i\")] = [predictions[i][2]]\n",
    "        game_analysis_data[!, Symbol(\"ProcessTime_$i\")] = [predictions[i][3]]\n",
    "        game_analysis_data[!, Symbol(\"NumberofNodes_$i\")] = [predictions[i][4]]\n",
    "    end\n",
    "\n",
    "    return game_analysis_data\n",
    "end\n",
    "\n",
    "\n",
    "function process_games(file_path, stockfish)\n",
    "    pgn_file = open(file_path)\n",
    "    game_data = DataFrame()\n",
    "\n",
    "    while true\n",
    "        game = cp.read_game(pgn_file)\n",
    "        if game === nothing\n",
    "            break\n",
    "        end\n",
    "\n",
    "        game_analysis_data = analyze_game(game, stockfish)\n",
    "        append!(game_data, game_analysis_data)\n",
    "    end\n",
    "\n",
    "    close(pgn_file)\n",
    "    return game_data\n",
    "end\n",
    "\n",
    "function main()\n",
    "    stockfish = initialize_stockfish(STOCKFISH_PATH)\n",
    "    file_path = TEST_INPUT_FILENAME  # or other PGN file path\n",
    "    analyzed_data = process_games(file_path, stockfish)\n",
    "    CSV.write(TEST_OUTPUT_FILENAME, analyzed_data)\n",
    "end\n",
    "\n",
    "main()\n"
   ]
  },
  {
   "cell_type": "markdown",
   "id": "b19b6cb4-a048-42bc-86ab-9d84723ac2dc",
   "metadata": {},
   "source": [
    "## Execution"
   ]
  },
  {
   "cell_type": "code",
   "execution_count": 7,
   "id": "0c106ca2-a0d0-4f72-94de-8ef29a606e16",
   "metadata": {},
   "outputs": [
    {
     "data": {
      "text/plain": [
       "\"test_output.csv\""
      ]
     },
     "execution_count": 7,
     "metadata": {},
     "output_type": "execute_result"
    }
   ],
   "source": [
    "main()"
   ]
  },
  {
   "cell_type": "code",
   "execution_count": null,
   "id": "ce83f6b5-8296-4bab-af67-68e5cf41e175",
   "metadata": {},
   "outputs": [],
   "source": []
  }
 ],
 "metadata": {
  "kernelspec": {
   "display_name": "Julia 1.9.4",
   "language": "julia",
   "name": "julia-1.9"
  },
  "language_info": {
   "file_extension": ".jl",
   "mimetype": "application/julia",
   "name": "julia",
   "version": "1.9.4"
  }
 },
 "nbformat": 4,
 "nbformat_minor": 5
}
