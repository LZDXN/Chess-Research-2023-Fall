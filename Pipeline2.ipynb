{
 "cells": [
  {
   "cell_type": "markdown",
   "id": "b38709f7-4f75-469f-a9df-4418b1d44f7c",
   "metadata": {},
   "source": [
    "# Pipeline 2 - Stockfish engine evaluation"
   ]
  },
  {
   "cell_type": "markdown",
   "id": "259bf558-1f4f-4f83-a5e7-79f56b250993",
   "metadata": {},
   "source": [
    "## Inputs\n",
    "- The extracted files from previous pipeline 1\n",
    "\n",
    "## Output\n",
    "- A csv file"
   ]
  },
  {
   "cell_type": "markdown",
   "id": "afab3e8b-c4b0-4a36-a066-4dab1ee9a65d",
   "metadata": {},
   "source": [
    "## CSV file columns\n",
    "For each row of the csv file, the output contains:\n",
    "- **Basic game info**\n",
    "    - WhiteUsername\n",
    "    - BlackUsername\n",
    "    - WhiteElo\n",
    "    - BlackElo\n",
    "    - EloDifference\n",
    "    - TimeControl\n",
    "    - Opening\n",
    "    - GameId\n",
    "- **Each step info**\n",
    "    - MoveId\n",
    "    - RemainingTime\n",
    "    - MovePlayed\n",
    "    - MovePlayedEval\n",
    "    - ProcessTime\n",
    "    - NumberofNodes\n",
    "- **Algorithm prediction** ($n$ from $1$ to $5$)\n",
    "    - best_move_$n$,\n",
    "    - best_score_$n$,\n",
    "    - ProcessTime_$n$,\n",
    "    - NumberofNodes_$n$,"
   ]
  },
  {
   "cell_type": "markdown",
   "id": "0b8409dd-0098-45c8-80c6-a87ca8a840e3",
   "metadata": {},
   "source": [
    "WhiteUsername,BlackUsername,WhiteElo,BlackElo,EloDifference,TimeControl,Opening,GameId,\n",
    "MoveId,RemainingTime,MovePlayed,MovePlayedEval,ProcessTime,NumberofNodes,\n",
    "\n",
    "best_move_1,best_score_1,ProcessTime_1,NumberofNodes_1,\n",
    "best_move_2,best_score_2,ProcessTime_2,NumberofNodes_2,\n",
    "best_move_3,best_score_3,ProcessTime_3,NumberofNodes_3,\n",
    "best_move_4,best_score_4,ProcessTime_4,NumberofNodes_4,\n",
    "best_move_5,best_score_5,ProcessTime_5,NumberofNodes_5"
   ]
  },
  {
   "cell_type": "markdown",
   "id": "3c8a2e4a-83d5-4c0e-be22-df44fb138522",
   "metadata": {},
   "source": [
    "---"
   ]
  },
  {
   "cell_type": "markdown",
   "id": "b6648405-310c-48a7-9cb2-f603ce9b6585",
   "metadata": {},
   "source": [
    "## Import APIs"
   ]
  },
  {
   "cell_type": "code",
   "execution_count": 2,
   "id": "2760cb37-8416-4280-be1f-e60e34318eb2",
   "metadata": {},
   "outputs": [
    {
     "data": {
      "text/plain": [
       "PyObject <module 'chess.engine' from '/home/ubuntu/.local/lib/python3.10/site-packages/chess/engine.py'>"
      ]
     },
     "execution_count": 2,
     "metadata": {},
     "output_type": "execute_result"
    }
   ],
   "source": [
    "# import julia libraries\n",
    "using PyCall\n",
    "using CSV\n",
    "using DataFrames\n",
    "\n",
    "# import python chess library\n",
    "@pyimport chess\n",
    "cp = pyimport(\"chess.pgn\")\n",
    "ce = pyimport(\"chess.engine\")"
   ]
  },
  {
   "cell_type": "markdown",
   "id": "1a0ca765-8716-4e59-96ee-cdd524b12e19",
   "metadata": {},
   "source": [
    "## Engine path"
   ]
  },
  {
   "cell_type": "code",
   "execution_count": 3,
   "id": "e6d16c70-10ad-4469-9d4a-88891767ab1f",
   "metadata": {},
   "outputs": [
    {
     "data": {
      "text/plain": [
       "\"/usr/local/bin/stockfish\""
      ]
     },
     "execution_count": 3,
     "metadata": {},
     "output_type": "execute_result"
    }
   ],
   "source": [
    "# Constants\n",
    "const STOCKFISH_PATH = \"/usr/local/bin/stockfish\"\n",
    "\n",
    "const INPUT_DATA_PATH = \"/data/pipeline1_exported/\" # file type: .pgn and .csv file\n",
    "const OUTPUT_DATA_PATH = \"/data/pipeline2_exported/\" # file type: .csv file"
   ]
  },
  {
   "cell_type": "markdown",
   "id": "32d69901-a5be-432c-873b-5d97077c246b",
   "metadata": {},
   "source": [
    "## Methods"
   ]
  },
  {
   "cell_type": "code",
   "execution_count": 6,
   "id": "05999c1d-e67a-4546-bfb5-52888a9f38ca",
   "metadata": {},
   "outputs": [
    {
     "data": {
      "text/plain": [
       "process_games (generic function with 1 method)"
      ]
     },
     "execution_count": 6,
     "metadata": {},
     "output_type": "execute_result"
    }
   ],
   "source": [
    "function initialize_stockfish()\n",
    "    stockfish = ce.SimpleEngine.popen_uci(STOCKFISH_PATH)\n",
    "    return stockfish\n",
    "end\n",
    "\n",
    "# Placeholder analyze_game function\n",
    "function analyze_game(game, stockfish)\n",
    "    # Placeholder data structure, replace with actual game analysis logic\n",
    "    return DataFrame(WhiteUsername = \"placeholder\", BlackUsername = \"placeholder\", WhiteElo = 0,\n",
    "                     BlackElo = 0, EloDifference = 0, TimeControl = \"placeholder\", Opening = \"placeholder\",\n",
    "                     GameId = \"placeholder\", MoveId = 0, RemainingTime = 0, MovePlayed = \"placeholder\",\n",
    "                     MovePlayedEval = 0, ProcessTime = 0, NumberofNodes = 0, best_move_1 = \"placeholder\",\n",
    "                     best_score_1 = 0, ProcessTime_1 = 0, NumberofNodes_1 = 0, best_move_2 = \"placeholder\",\n",
    "                     best_score_2 = 0, ProcessTime_2 = 0, NumberofNodes_2 = 0, best_move_3 = \"placeholder\",\n",
    "                     best_score_3 = 0, ProcessTime_3 = 0, NumberofNodes_3 = 0, best_move_4 = \"placeholder\",\n",
    "                     best_score_4 = 0, ProcessTime_4 = 0, NumberofNodes_4 = 0, best_move_5 = \"placeholder\",\n",
    "                     best_score_5 = 0, ProcessTime_5 = 0, NumberofNodes_5 = 0)\n",
    "end\n",
    "\n",
    "function process_games(file_path, stockfish)\n",
    "    pgn_file = open(file_path)\n",
    "    game_data = DataFrame()\n",
    "\n",
    "    while true\n",
    "        game = cp.read_game(pgn_file)\n",
    "        if game === nothing\n",
    "            break\n",
    "        end\n",
    "\n",
    "        game_analysis_data = analyze_game(game, stockfish)\n",
    "        append!(game_data, game_analysis_data)\n",
    "    end\n",
    "\n",
    "    close(pgn_file)\n",
    "    return game_data\n",
    "end\n"
   ]
  },
  {
   "cell_type": "markdown",
   "id": "b19b6cb4-a048-42bc-86ab-9d84723ac2dc",
   "metadata": {},
   "source": [
    "## Execution"
   ]
  },
  {
   "cell_type": "code",
   "execution_count": 7,
   "id": "0c106ca2-a0d0-4f72-94de-8ef29a606e16",
   "metadata": {},
   "outputs": [
    {
     "data": {
      "text/plain": [
       "\"test_output.csv\""
      ]
     },
     "execution_count": 7,
     "metadata": {},
     "output_type": "execute_result"
    }
   ],
   "source": [
    "main()"
   ]
  },
  {
   "cell_type": "code",
   "execution_count": null,
   "id": "ce83f6b5-8296-4bab-af67-68e5cf41e175",
   "metadata": {},
   "outputs": [],
   "source": []
  }
 ],
 "metadata": {
  "kernelspec": {
   "display_name": "Julia 1.9.4",
   "language": "julia",
   "name": "julia-1.9"
  },
  "language_info": {
   "file_extension": ".jl",
   "mimetype": "application/julia",
   "name": "julia",
   "version": "1.9.4"
  }
 },
 "nbformat": 4,
 "nbformat_minor": 5
}
