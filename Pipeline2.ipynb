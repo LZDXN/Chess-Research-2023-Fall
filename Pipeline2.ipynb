{
 "cells": [
  {
   "cell_type": "markdown",
   "id": "b38709f7-4f75-469f-a9df-4418b1d44f7c",
   "metadata": {},
   "source": [
    "# Pipeline 2 - Stockfish engine evaluation"
   ]
  },
  {
   "cell_type": "markdown",
   "id": "259bf558-1f4f-4f83-a5e7-79f56b250993",
   "metadata": {},
   "source": [
    "## Inputs\n",
    "- The extracted files from previous pipeline 1\n",
    "\n",
    "## Output\n",
    "- A csv file"
   ]
  },
  {
   "cell_type": "markdown",
   "id": "afab3e8b-c4b0-4a36-a066-4dab1ee9a65d",
   "metadata": {},
   "source": [
    "## CSV file columns\n",
    "For each row of the csv file, the output contains:\n",
    "- **Basic game info**\n",
    "    - WhiteUsername\n",
    "    - BlackUsername\n",
    "    - WhiteElo\n",
    "    - BlackElo\n",
    "    - EloDifference\n",
    "    - TimeControl\n",
    "    - Opening\n",
    "    - GameId\n",
    "- **Moving info**\n",
    "    - MoveId\n",
    "    - RemainingTime\n",
    "    - MovePlayed\n",
    "    - MovePlayedEval\n",
    "    - ProcessTime\n",
    "    - NumberofNodes\n",
    "- **Algorithm prediction** ($n$ from $1$ to $5$)\n",
    "    - best_move_$n$,\n",
    "    - best_score_$n$,\n",
    "    - ProcessTime_$n$,\n",
    "    - NumberofNodes_$n$,"
   ]
  },
  {
   "cell_type": "markdown",
   "id": "0b8409dd-0098-45c8-80c6-a87ca8a840e3",
   "metadata": {},
   "source": [
    "WhiteUsername,BlackUsername,WhiteElo,BlackElo,EloDifference,TimeControl,Opening,GameId,\n",
    "MoveId,RemainingTime,MovePlayed,MovePlayedEval,ProcessTime,NumberofNodes,\n",
    "\n",
    "best_move_1,best_score_1,ProcessTime_1,NumberofNodes_1,\n",
    "best_move_2,best_score_2,ProcessTime_2,NumberofNodes_2,\n",
    "best_move_3,best_score_3,ProcessTime_3,NumberofNodes_3,\n",
    "best_move_4,best_score_4,ProcessTime_4,NumberofNodes_4,\n",
    "best_move_5,best_score_5,ProcessTime_5,NumberofNodes_5"
   ]
  },
  {
   "cell_type": "markdown",
   "id": "3c8a2e4a-83d5-4c0e-be22-df44fb138522",
   "metadata": {},
   "source": [
    "---"
   ]
  },
  {
   "cell_type": "markdown",
   "id": "b6648405-310c-48a7-9cb2-f603ce9b6585",
   "metadata": {},
   "source": [
    "## Import APIs"
   ]
  },
  {
   "cell_type": "code",
   "execution_count": 1,
   "id": "2760cb37-8416-4280-be1f-e60e34318eb2",
   "metadata": {},
   "outputs": [
    {
     "data": {
      "text/plain": [
       "PyObject <module 'chess.engine' from '/home/ubuntu/.local/lib/python3.10/site-packages/chess/engine.py'>"
      ]
     },
     "execution_count": 1,
     "metadata": {},
     "output_type": "execute_result"
    }
   ],
   "source": [
    "# import julia libraries\n",
    "using PyCall\n",
    "using CSV\n",
    "using DataFrames\n",
    "using Plots\n",
    "\n",
    "# import python chess library\n",
    "@pyimport chess\n",
    "cp = pyimport(\"chess.pgn\")\n",
    "ce = pyimport(\"chess.engine\")"
   ]
  },
  {
   "cell_type": "markdown",
   "id": "1a0ca765-8716-4e59-96ee-cdd524b12e19",
   "metadata": {},
   "source": [
    "## Path"
   ]
  },
  {
   "cell_type": "code",
   "execution_count": 2,
   "id": "e6d16c70-10ad-4469-9d4a-88891767ab1f",
   "metadata": {},
   "outputs": [
    {
     "data": {
      "text/plain": [
       "\".csv\""
      ]
     },
     "execution_count": 2,
     "metadata": {},
     "output_type": "execute_result"
    }
   ],
   "source": [
    "# Constants\n",
    "const STOCKFISH_PATH = \"/usr/local/bin/stockfish\"\n",
    "\n",
    "const DATA_PATH = \"./data/\"\n",
    "const INPUT_DATA_PATH = \"$(DATA_PATH)pipeline1_exported/\" # file type: .pgn and .csv file\n",
    "const OUTPUT_DATA_PATH = \"$(DATA_PATH)pipeline2_exported/\" # file type: .csv file\n",
    "\n",
    "const TEMPLATE_FILE_PATH = \"$(DATA_PATH)expected_output_template.csv\"\n",
    "\n",
    "# Variables\n",
    "INPUT_FILENAME = \".pgn\"\n",
    "OUTPUT_FILENAME = \".csv\""
   ]
  },
  {
   "cell_type": "code",
   "execution_count": 3,
   "id": "2e2865e6-a9e6-44d0-b910-fbd80aff12c3",
   "metadata": {},
   "outputs": [
    {
     "data": {
      "text/plain": [
       "\"./test_output.csv\""
      ]
     },
     "execution_count": 3,
     "metadata": {},
     "output_type": "execute_result"
    }
   ],
   "source": [
    "# Test file paths\n",
    "const TEST_INPUT_PATH = \"./pre-pipeline-test/\"\n",
    "const TEST_OUTPUT_PATH = \"./\"\n",
    "\n",
    "const TEST_INPUT_FILENAME = \"$(TEST_INPUT_PATH)test100.pgn\"\n",
    "const TEST_OUTPUT_FILENAME = \"$(TEST_OUTPUT_PATH)test_output.csv\""
   ]
  },
  {
   "cell_type": "markdown",
   "id": "32d69901-a5be-432c-873b-5d97077c246b",
   "metadata": {},
   "source": [
    "## Methods"
   ]
  },
  {
   "cell_type": "code",
   "execution_count": 4,
   "id": "f02b6b52-d562-474f-a47c-5cb1d29612b5",
   "metadata": {},
   "outputs": [
    {
     "data": {
      "text/plain": [
       "PyObject <SimpleEngine (pid=182980)>"
      ]
     },
     "execution_count": 4,
     "metadata": {},
     "output_type": "execute_result"
    }
   ],
   "source": [
    "function initialize_stockfish(STOCKFISH_PATH)\n",
    "    stockfish = ce.SimpleEngine.popen_uci(STOCKFISH_PATH)\n",
    "\n",
    "    return stockfish\n",
    "end\n",
    "stockfish = initialize_stockfish(STOCKFISH_PATH)"
   ]
  },
  {
   "cell_type": "code",
   "execution_count": 29,
   "id": "22771e1b-cf61-426b-83a4-4b93af9c3d04",
   "metadata": {},
   "outputs": [
    {
     "ename": "LoadError",
     "evalue": "MethodError: no method matching get(::PyObject)\n\n\u001b[0mClosest candidates are:\n\u001b[0m  get(::PyObject, \u001b[91m::Union{Tuple{Vararg{Type, N}}, Type} where N\u001b[39m, \u001b[91m::Any\u001b[39m)\n\u001b[0m\u001b[90m   @\u001b[39m \u001b[36mPyCall\u001b[39m \u001b[90m~/.julia/packages/PyCall/KLzIO/src/\u001b[39m\u001b[90m\u001b[4mPyCall.jl:782\u001b[24m\u001b[39m\n\u001b[0m  get(::PyObject, \u001b[91m::Union{Tuple{Vararg{Type, N}}, Type} where N\u001b[39m, \u001b[91m::Any\u001b[39m, \u001b[91m::Any\u001b[39m)\n\u001b[0m\u001b[90m   @\u001b[39m \u001b[36mPyCall\u001b[39m \u001b[90m~/.julia/packages/PyCall/KLzIO/src/\u001b[39m\u001b[90m\u001b[4mPyCall.jl:772\u001b[24m\u001b[39m\n\u001b[0m  get(::PyObject, \u001b[91m::Any\u001b[39m)\n\u001b[0m\u001b[90m   @\u001b[39m \u001b[36mPyCall\u001b[39m \u001b[90m~/.julia/packages/PyCall/KLzIO/src/\u001b[39m\u001b[90m\u001b[4mPyCall.jl:787\u001b[24m\u001b[39m\n\u001b[0m  ...\n",
     "output_type": "error",
     "traceback": [
      "MethodError: no method matching get(::PyObject)\n\n\u001b[0mClosest candidates are:\n\u001b[0m  get(::PyObject, \u001b[91m::Union{Tuple{Vararg{Type, N}}, Type} where N\u001b[39m, \u001b[91m::Any\u001b[39m)\n\u001b[0m\u001b[90m   @\u001b[39m \u001b[36mPyCall\u001b[39m \u001b[90m~/.julia/packages/PyCall/KLzIO/src/\u001b[39m\u001b[90m\u001b[4mPyCall.jl:782\u001b[24m\u001b[39m\n\u001b[0m  get(::PyObject, \u001b[91m::Union{Tuple{Vararg{Type, N}}, Type} where N\u001b[39m, \u001b[91m::Any\u001b[39m, \u001b[91m::Any\u001b[39m)\n\u001b[0m\u001b[90m   @\u001b[39m \u001b[36mPyCall\u001b[39m \u001b[90m~/.julia/packages/PyCall/KLzIO/src/\u001b[39m\u001b[90m\u001b[4mPyCall.jl:772\u001b[24m\u001b[39m\n\u001b[0m  get(::PyObject, \u001b[91m::Any\u001b[39m)\n\u001b[0m\u001b[90m   @\u001b[39m \u001b[36mPyCall\u001b[39m \u001b[90m~/.julia/packages/PyCall/KLzIO/src/\u001b[39m\u001b[90m\u001b[4mPyCall.jl:787\u001b[24m\u001b[39m\n\u001b[0m  ...\n",
      "",
      "Stacktrace:",
      " [1] top-level scope",
      "   @ In[29]:2"
     ]
    }
   ],
   "source": [
    "# not using\n",
    "get(stockfish.options, \"Hash\")\n",
    "\n",
    "\n",
    "# get(stockfish.options, \"Threads\")"
   ]
  },
  {
   "cell_type": "markdown",
   "id": "6fdf98f0-57c4-4283-b76c-019929b87748",
   "metadata": {},
   "source": [
    "# empty hash table by using `ucinewgame`"
   ]
  },
  {
   "cell_type": "code",
   "execution_count": 5,
   "id": "368f3f6b-6a1f-41d0-89f8-af0e0530b15a",
   "metadata": {},
   "outputs": [
    {
     "data": {
      "text/plain": [
       "PyObject <Game at 0x7fa2b3fc4cd0 ('Manorainjan' vs. 'Harshin', '2023.09.01' at 'https://lichess.org/OsBizORo')>"
      ]
     },
     "execution_count": 5,
     "metadata": {},
     "output_type": "execute_result"
    }
   ],
   "source": [
    "pgn_file = open(TEST_INPUT_FILENAME)\n",
    "game = cp.read_game(pgn_file)"
   ]
  },
  {
   "cell_type": "code",
   "execution_count": 6,
   "id": "fa038c90-bb91-4a4a-a36f-62dcd9011409",
   "metadata": {},
   "outputs": [
    {
     "data": {
      "text/plain": [
       "basic_game_info (generic function with 1 method)"
      ]
     },
     "execution_count": 6,
     "metadata": {},
     "output_type": "execute_result"
    }
   ],
   "source": [
    "function basic_game_info(game)\n",
    "    headers = game.headers\n",
    "\n",
    "    WhiteUsername = get(headers, \"White\", \"NA\")\n",
    "    BlackUsername = get(headers, \"Black\", \"NA\")\n",
    "    WhiteElo = parse(Int64, get(headers, \"WhiteElo\", \"0\"))\n",
    "    BlackElo = parse(Int64, get(headers, \"BlackElo\", \"0\"))\n",
    "    EloDifference = WhiteElo - BlackElo\n",
    "    TimeControl = get(headers, \"TimeControl\", \"NA\")\n",
    "    Opening = get(headers, \"Opening\", \"NA\")\n",
    "    GameId = split(get(headers, \"Site\", \"NA\"), \"/\")[end]\n",
    "\n",
    "    basic_game_info = DataFrame(WhiteUsername = [WhiteUsername],\n",
    "                   BlackUsername = [BlackUsername],\n",
    "                   WhiteElo = [WhiteElo],\n",
    "                   BlackElo = [BlackElo],\n",
    "                   EloDifference = [EloDifference],\n",
    "                   TimeControl = [TimeControl],\n",
    "                   Opening = [Opening],\n",
    "                   GameId = [GameId])\n",
    "\n",
    "    return basic_game_info\n",
    "end"
   ]
  },
  {
   "cell_type": "code",
   "execution_count": 7,
   "id": "a1114c8a-d0f1-4f3f-8ab1-cc90b12c444b",
   "metadata": {},
   "outputs": [
    {
     "data": {
      "text/html": [
       "<div><div style = \"float: left;\"><span>1×8 DataFrame</span></div><div style = \"clear: both;\"></div></div><div class = \"data-frame\" style = \"overflow-x: scroll;\"><table class = \"data-frame\" style = \"margin-bottom: 6px;\"><thead><tr class = \"header\"><th class = \"rowNumber\" style = \"font-weight: bold; text-align: right;\">Row</th><th style = \"text-align: left;\">WhiteUsername</th><th style = \"text-align: left;\">BlackUsername</th><th style = \"text-align: left;\">WhiteElo</th><th style = \"text-align: left;\">BlackElo</th><th style = \"text-align: left;\">EloDifference</th><th style = \"text-align: left;\">TimeControl</th><th style = \"text-align: left;\">Opening</th><th style = \"text-align: left;\">GameId</th></tr><tr class = \"subheader headerLastRow\"><th class = \"rowNumber\" style = \"font-weight: bold; text-align: right;\"></th><th title = \"String\" style = \"text-align: left;\">String</th><th title = \"String\" style = \"text-align: left;\">String</th><th title = \"Int64\" style = \"text-align: left;\">Int64</th><th title = \"Int64\" style = \"text-align: left;\">Int64</th><th title = \"Int64\" style = \"text-align: left;\">Int64</th><th title = \"String\" style = \"text-align: left;\">String</th><th title = \"String\" style = \"text-align: left;\">String</th><th title = \"SubString{String}\" style = \"text-align: left;\">SubStrin…</th></tr></thead><tbody><tr><td class = \"rowNumber\" style = \"font-weight: bold; text-align: right;\">1</td><td style = \"text-align: left;\">Manorainjan</td><td style = \"text-align: left;\">Harshin</td><td style = \"text-align: right;\">2283</td><td style = \"text-align: right;\">2161</td><td style = \"text-align: right;\">122</td><td style = \"text-align: left;\">1800+0</td><td style = \"text-align: left;\">Indian Defense</td><td style = \"text-align: left;\">OsBizORo</td></tr></tbody></table></div>"
      ],
      "text/latex": [
       "\\begin{tabular}{r|cccccccc}\n",
       "\t& WhiteUsername & BlackUsername & WhiteElo & BlackElo & EloDifference & TimeControl & Opening & \\\\\n",
       "\t\\hline\n",
       "\t& String & String & Int64 & Int64 & Int64 & String & String & \\\\\n",
       "\t\\hline\n",
       "\t1 & Manorainjan & Harshin & 2283 & 2161 & 122 & 1800+0 & Indian Defense & $\\dots$ \\\\\n",
       "\\end{tabular}\n"
      ],
      "text/plain": [
       "\u001b[1m1×8 DataFrame\u001b[0m\n",
       "\u001b[1m Row \u001b[0m│\u001b[1m WhiteUsername \u001b[0m\u001b[1m BlackUsername \u001b[0m\u001b[1m WhiteElo \u001b[0m\u001b[1m BlackElo \u001b[0m\u001b[1m EloDifference \u001b[0m\u001b[1m TimeCo\u001b[0m ⋯\n",
       "     │\u001b[90m String        \u001b[0m\u001b[90m String        \u001b[0m\u001b[90m Int64    \u001b[0m\u001b[90m Int64    \u001b[0m\u001b[90m Int64         \u001b[0m\u001b[90m String\u001b[0m ⋯\n",
       "─────┼──────────────────────────────────────────────────────────────────────────\n",
       "   1 │ Manorainjan    Harshin            2283      2161            122  1800+0 ⋯\n",
       "\u001b[36m                                                               3 columns omitted\u001b[0m"
      ]
     },
     "execution_count": 7,
     "metadata": {},
     "output_type": "execute_result"
    }
   ],
   "source": [
    "basic_game_info(game)"
   ]
  },
  {
   "cell_type": "markdown",
   "id": "514367f6-a2a9-4e80-91b2-d0b6f5f17beb",
   "metadata": {},
   "source": [
    "- **Moving info**\n",
    "    - MoveId\n",
    "    - RemainingTime\n",
    "    - MovePlayed\n",
    "    - MovePlayedEval\n",
    "    - ProcessTime\n",
    "    - NumberofNodes\n",
    "- **Algorithm prediction** ($n$ from $1$ to $5$)\n",
    "    - best_move_$n$,\n",
    "    - best_score_$n$,\n",
    "    - ProcessTime_$n$,\n",
    "    - NumberofNodes_$n$,\n",
    "\n",
    "--\n",
    "\n",
    "- Clock: `[%clk ...]`\n",
    "- Eval: `[%eval ...]`"
   ]
  },
  {
   "cell_type": "code",
   "execution_count": 24,
   "id": "e7478cba-333f-4eb9-9425-c04493c25a7d",
   "metadata": {},
   "outputs": [
    {
     "data": {
      "text/plain": [
       "prediction (generic function with 1 method)"
      ]
     },
     "execution_count": 24,
     "metadata": {},
     "output_type": "execute_result"
    }
   ],
   "source": [
    "function prediction(game, RemainingTime, MovePlayed, depth, multipv)\n",
    "    predictions = DataFrame(RemainingTime = Float64[], MovePlayed = String[], MovePlayedEval = String[],\n",
    "                            ProcessTime = Int64[], NumberofNodes = Int64[], best_move_1 = String[], best_score_1 = String[],\n",
    "                            ProcessTime_1 = Int64[], NumberofNodes_1 = Int64[], best_move_2 = String[], best_score_2 = String[],\n",
    "                            ProcessTime_2 = Int64[], NumberofNodes_2 = Int64[], best_move_3 = String[], best_score_3 = String[],\n",
    "                            ProcessTime_3 = Int64[], NumberofNodes_3 = Int64[], best_move_4 = String[], best_score_4 = String[],\n",
    "                            ProcessTime_4 = Int64[], NumberofNodes_4 = Int64[], best_move_5 = String[], best_score_5 = String[],\n",
    "                            ProcessTime_5 = Int64[], NumberofNodes_5 = Int64[])\n",
    "\n",
    "    board = game.board()\n",
    "    analysis_results = stockfish.analyse(board, ce.Limit(depth=depth), multipv=multipv)\n",
    "\n",
    "    # Initialize placeholders for each multipv best move and score\n",
    "    best_moves = fill(nothing, multipv)\n",
    "    best_scores = fill(\"\", multipv)\n",
    "    process_times = fill(nothing, multipv)\n",
    "    number_of_nodes = fill(nothing, multipv)\n",
    "\n",
    "    for (index, result) in enumerate(analysis_results)\n",
    "        best_move = result[\"pv\"][1].uci()\n",
    "        score = result[\"score\"].white()\n",
    "        best_score_str = score.is_mate() ? \"Mate in $(score.mate())\" : \"Cp $(score.score())\"\n",
    "        process_time = get(result, \"time\", 0)\n",
    "        nodes = get(result, \"nodes\", 0)\n",
    "\n",
    "        # best_moves[index] = best_move\n",
    "        # best_scores[index] = best_score_str\n",
    "        # process_times[index] = process_time\n",
    "        # number_of_nodes[index] = nodes\n",
    "        print(best_moves)\n",
    "        print(best_scores)\n",
    "        print(process_times)\n",
    "        print(number_of_nodes)\n",
    "    end\n",
    "\n",
    "    # Fill the DataFrame with the obtained data\n",
    "    row = DataFrame(RemainingTime = [RemainingTime], MovePlayed = [MovePlayed], MovePlayedEval = [nothing],\n",
    "                    ProcessTime = [process_times[1]], NumberofNodes = [number_of_nodes[1]], \n",
    "                    best_move_1 = [best_moves[1]], best_score_1 = [best_scores[1]],\n",
    "                    ProcessTime_1 = [process_times[1]], NumberofNodes_1 = [number_of_nodes[1]], \n",
    "                    best_move_2 = [best_moves[2]], best_score_2 = [best_scores[2]],\n",
    "                    ProcessTime_2 = [process_times[2]], NumberofNodes_2 = [number_of_nodes[2]], \n",
    "                    best_move_3 = [best_moves[3]], best_score_3 = [best_scores[3]],\n",
    "                    ProcessTime_3 = [process_times[3]], NumberofNodes_3 = [number_of_nodes[3]], \n",
    "                    best_move_4 = [best_moves[4]], best_score_4 = [best_scores[4]],\n",
    "                    ProcessTime_4 = [process_times[4]], NumberofNodes_4 = [number_of_nodes[4]], \n",
    "                    best_move_5 = [best_moves[5]], best_score_5 = [best_scores[5]],\n",
    "                    ProcessTime_5 = [process_times[5]], NumberofNodes_5 = [number_of_nodes[5]])\n",
    "\n",
    "    append!(predictions, row)\n",
    "\n",
    "    return predictions\n",
    "end\n"
   ]
  },
  {
   "cell_type": "code",
   "execution_count": 25,
   "id": "a304734d-664f-402a-9e78-888c6527583a",
   "metadata": {},
   "outputs": [
    {
     "data": {
      "text/plain": [
       "moving_info (generic function with 2 methods)"
      ]
     },
     "execution_count": 25,
     "metadata": {},
     "output_type": "execute_result"
    }
   ],
   "source": [
    "function moving_info(game)\n",
    "    MoveId = 0\n",
    "    RemainingTime = 60.0 # Placeholder, adjust according to actual remaining time logic\n",
    "    MovePlayed = \"e2e4\" # Placeholder, use actual move played\n",
    "    depth = 20\n",
    "    multipv = 5\n",
    "\n",
    "    predictions = prediction(game, RemainingTime, MovePlayed, depth, multipv)\n",
    "    \n",
    "    # Update this part to properly fetch MovePlayedScore and MovePlayedMate\n",
    "    MovePlayedScore = 0 # Placeholder, should be updated based on actual game move score\n",
    "    MovePlayedMate = \"\" # Placeholder, should be empty if score is used\n",
    "\n",
    "    ProcessTime = 0.0 # Placeholder, calculate actual processing time\n",
    "    NumberofNodes = 0 # Placeholder, calculate actual number of nodes\n",
    "    \n",
    "    moving = DataFrame(\n",
    "        MoveId = [MoveId],\n",
    "        RemainingTime = [RemainingTime],\n",
    "        MovePlayed = [MovePlayed],\n",
    "        MovePlayedScore = [MovePlayedScore],\n",
    "        MovePlayedMate = [MovePlayedMate],\n",
    "        ProcessTime = [ProcessTime],\n",
    "        NumberofNodes = [NumberofNodes]\n",
    "    )\n",
    "\n",
    "    return hcat(moving, predictions)\n",
    "end\n"
   ]
  },
  {
   "cell_type": "code",
   "execution_count": 26,
   "id": "b89b2f12-e320-493e-b6e0-be5373fcbcb9",
   "metadata": {},
   "outputs": [
    {
     "data": {
      "text/plain": [
       "moving_info (generic function with 2 methods)"
      ]
     },
     "execution_count": 26,
     "metadata": {},
     "output_type": "execute_result"
    }
   ],
   "source": [
    "function moving_info(game)\n",
    "    # Assuming the game, RemainingTime, and MovePlayed are correctly set\n",
    "    depth = 20\n",
    "    multipv = 5\n",
    "    predictions = prediction(game, 60.0, \"e2e4\", depth, multipv) # Example RemainingTime and MovePlayed\n",
    "    return predictions\n",
    "end\n"
   ]
  },
  {
   "cell_type": "code",
   "execution_count": 27,
   "id": "57e499e2-cd00-420f-b983-dcad928d5014",
   "metadata": {},
   "outputs": [
    {
     "name": "stdout",
     "output_type": "stream",
     "text": [
      "[nothing, nothing, nothing, nothing, nothing][\"\", \"\", \"\", \"\", \"\"][nothing, nothing, nothing, nothing, nothing][nothing, nothing, nothing, nothing, nothing][nothing, nothing, nothing, nothing, nothing][\"\", \"\", \"\", \"\", \"\"][nothing, nothing, nothing, nothing, nothing][nothing, nothing, nothing, nothing, nothing][nothing, nothing, nothing, nothing, nothing][\"\", \"\", \"\", \"\", \"\"][nothing, nothing, nothing, nothing, nothing][nothing, nothing, nothing, nothing, nothing][nothing, nothing, nothing, nothing, nothing][\"\", \"\", \"\", \"\", \"\"][nothing, nothing, nothing, nothing, nothing][nothing, nothing, nothing, nothing, nothing][nothing, nothing, nothing, nothing, nothing][\"\", \"\", \"\", \"\", \"\"][nothing, nothing, nothing, nothing, nothing][nothing, nothing, nothing, nothing, nothing]"
     ]
    },
    {
     "name": "stderr",
     "output_type": "stream",
     "text": [
      "\u001b[91m\u001b[1m┌ \u001b[22m\u001b[39m\u001b[91m\u001b[1mError: \u001b[22m\u001b[39mError adding value to column :MovePlayedEval. Maybe you forgot passing `promote=true`?\n",
      "\u001b[91m\u001b[1m└ \u001b[22m\u001b[39m\u001b[90m@ DataFrames ~/.julia/packages/DataFrames/58MUJ/src/dataframe/insertion.jl:303\u001b[39m\n"
     ]
    },
    {
     "ename": "LoadError",
     "evalue": "MethodError: \u001b[0mCannot `convert` an object of type \u001b[92mNothing\u001b[39m\u001b[0m to an object of type \u001b[91mString\u001b[39m\n\n\u001b[0mClosest candidates are:\n\u001b[0m  convert(::Type{T}, \u001b[91m::PyObject\u001b[39m) where T<:AbstractString\n\u001b[0m\u001b[90m   @\u001b[39m \u001b[36mPyCall\u001b[39m \u001b[90m~/.julia/packages/PyCall/KLzIO/src/\u001b[39m\u001b[90m\u001b[4mconversions.jl:92\u001b[24m\u001b[39m\n\u001b[0m  convert(::Type{String}, \u001b[91m::WeakRefStrings.WeakRefString\u001b[39m)\n\u001b[0m\u001b[90m   @\u001b[39m \u001b[33mWeakRefStrings\u001b[39m \u001b[90m~/.julia/packages/WeakRefStrings/31nkb/src/\u001b[39m\u001b[90m\u001b[4mWeakRefStrings.jl:81\u001b[24m\u001b[39m\n\u001b[0m  convert(::Type{String}, \u001b[91m::FilePathsBase.AbstractPath\u001b[39m)\n\u001b[0m\u001b[90m   @\u001b[39m \u001b[35mFilePathsBase\u001b[39m \u001b[90m~/.julia/packages/FilePathsBase/4RrDh/src/\u001b[39m\u001b[90m\u001b[4mpath.jl:117\u001b[24m\u001b[39m\n\u001b[0m  ...\n",
     "output_type": "error",
     "traceback": [
      "MethodError: \u001b[0mCannot `convert` an object of type \u001b[92mNothing\u001b[39m\u001b[0m to an object of type \u001b[91mString\u001b[39m\n\n\u001b[0mClosest candidates are:\n\u001b[0m  convert(::Type{T}, \u001b[91m::PyObject\u001b[39m) where T<:AbstractString\n\u001b[0m\u001b[90m   @\u001b[39m \u001b[36mPyCall\u001b[39m \u001b[90m~/.julia/packages/PyCall/KLzIO/src/\u001b[39m\u001b[90m\u001b[4mconversions.jl:92\u001b[24m\u001b[39m\n\u001b[0m  convert(::Type{String}, \u001b[91m::WeakRefStrings.WeakRefString\u001b[39m)\n\u001b[0m\u001b[90m   @\u001b[39m \u001b[33mWeakRefStrings\u001b[39m \u001b[90m~/.julia/packages/WeakRefStrings/31nkb/src/\u001b[39m\u001b[90m\u001b[4mWeakRefStrings.jl:81\u001b[24m\u001b[39m\n\u001b[0m  convert(::Type{String}, \u001b[91m::FilePathsBase.AbstractPath\u001b[39m)\n\u001b[0m\u001b[90m   @\u001b[39m \u001b[35mFilePathsBase\u001b[39m \u001b[90m~/.julia/packages/FilePathsBase/4RrDh/src/\u001b[39m\u001b[90m\u001b[4mpath.jl:117\u001b[24m\u001b[39m\n\u001b[0m  ...\n",
      "",
      "Stacktrace:",
      "  [1] setindex!(A::Vector{String}, x::Nothing, i1::Int64)",
      "    @ Base ./array.jl:969",
      "  [2] _unsafe_copyto!(dest::Vector{String}, doffs::Int64, src::Vector{Nothing}, soffs::Int64, n::Int64)",
      "    @ Base ./array.jl:250",
      "  [3] unsafe_copyto!",
      "    @ ./array.jl:304 [inlined]",
      "  [4] _copyto_impl!",
      "    @ ./array.jl:327 [inlined]",
      "  [5] copyto!",
      "    @ ./array.jl:314 [inlined]",
      "  [6] append!(a::Vector{String}, items::Vector{Nothing})",
      "    @ Base ./array.jl:1122",
      "  [7] _append_or_prepend!(df1::DataFrame, df2::DataFrame; cols::Symbol, promote::Bool, atend::Bool)",
      "    @ DataFrames ~/.julia/packages/DataFrames/58MUJ/src/dataframe/insertion.jl:242",
      "  [8] _append_or_prepend!",
      "    @ ~/.julia/packages/DataFrames/58MUJ/src/dataframe/insertion.jl:173 [inlined]",
      "  [9] #append!#347",
      "    @ ~/.julia/packages/DataFrames/58MUJ/src/dataframe/insertion.jl:84 [inlined]",
      " [10] append!(df1::DataFrame, df2::DataFrame)",
      "    @ DataFrames ~/.julia/packages/DataFrames/58MUJ/src/dataframe/insertion.jl:84",
      " [11] prediction(game::PyObject, RemainingTime::Float64, MovePlayed::String, depth::Int64, multipv::Int64)",
      "    @ Main ./In[24]:50",
      " [12] moving_info(game::PyObject)",
      "    @ Main ./In[26]:5",
      " [13] top-level scope",
      "    @ In[27]:1"
     ]
    }
   ],
   "source": [
    "df = moving_info(game)\n",
    "# CSV.write(\"./dataframe.csv\", df)\n",
    "df\n"
   ]
  },
  {
   "cell_type": "code",
   "execution_count": null,
   "id": "7730bb7b-6014-4684-9b1a-a463a4b4655e",
   "metadata": {},
   "outputs": [],
   "source": [
    "function measure_execution_time(n)\n",
    "    start_time = time()\n",
    "    best_move = stockfish.analyse(game.board(), ce.Limit(depth=n), multipv=5)\n",
    "    end_time = time()\n",
    "\n",
    "    return end_time - start_time\n",
    "end\n",
    "depths = 15:25\n",
    "execution_times = Float64[]\n",
    "\n",
    "for n in depths\n",
    "    push!(execution_times, measure_execution_time(n))\n",
    "end\n",
    "\n",
    "plot(depths, execution_times, xlabel=\"Depth\", ylabel=\"Time (s)\", title=\"Execution Time of Depth per game (top 5 best move)\")"
   ]
  },
  {
   "cell_type": "code",
   "execution_count": null,
   "id": "859d4403-4a84-405f-8e6a-c512f8484798",
   "metadata": {},
   "outputs": [],
   "source": [
    "function plot_execution_times(execution_times, depth_range)\n",
    "    plot(depth_range, execution_times, \n",
    "         xlabel=\"Depth\", \n",
    "         ylabel=\"Average Time (s)\", \n",
    "         title=\"Average Execution Time per Depth (One game)\", \n",
    "         legend=false)\n",
    "end\n",
    "\n",
    "plot_execution_times(execution_times, 15:25)\n"
   ]
  },
  {
   "cell_type": "code",
   "execution_count": null,
   "id": "05999c1d-e67a-4546-bfb5-52888a9f38ca",
   "metadata": {},
   "outputs": [],
   "source": [
    "function main()\n",
    "    stockfish = initialize_stockfish(STOCKFISH_PATH)\n",
    "    pgn_file = open(TEST_INPUT_FILENAME)\n",
    "\n",
    "    all_data = DataFrame(WhiteUsername = String[], BlackUsername = String[], WhiteElo = Int64[], BlackElo = Int64[], \n",
    "                         EloDifference = Int64[], TimeControl = String[], Opening = String[], GameId = String[],\n",
    "                         MoveId = Int64[], RemainingTime = Float64[], MovePlayed = String[], MovePlayedMate = String[], MovePlayedScore = Int64[],\n",
    "                         ProcessTime = Int64[], NumberofNodes = Int64[], \n",
    "                        best_move_1 = String[], best_mate_1 = String[], best_score_1 = Int64[], ProcessTime_1 = Int64[], NumberofNodes_1 = Int64[], \n",
    "                        best_move_2 = String[], best_mate_2 = String[], best_score_2 = Int64[], ProcessTime_2 = Int64[], NumberofNodes_2 = Int64[], \n",
    "                        best_move_3 = String[], best_mate_3 = String[], best_score_3 = Int64[], ProcessTime_3 = Int64[], NumberofNodes_3 = Int64[], \n",
    "                        best_move_4 = String[], best_mate_4 = String[], best_score_4 = Int64[], ProcessTime_4 = Int64[], NumberofNodes_4 = Int64[], \n",
    "                        best_move_5 = String[], best_mate_5 = String[], best_score_5 = Int64[], ProcessTime_5 = Int64[], NumberofNodes_5 = Int64[])\n",
    "\n",
    "    game = cp.read_game(pgn_file)\n",
    "    # while !isnothing(game)\n",
    "        game_info = basic_game_info(game)\n",
    "\n",
    "        move_data = moving_info(game, stockfish)\n",
    "        MoveId += 1 # Ensure MoveId is incremented correctly in the loop\n",
    "\n",
    "        # Merging game info with move data for each move\n",
    "        row = hcat(game_info, move_data)\n",
    "\n",
    "        # Append the current move's data to the all_data DataFrame\n",
    "        append!(all_data, row)\n",
    "\n",
    "        # Attempt to move to the next game/move, adjust this logic based on your file's structure\n",
    "        game = cp.read_game(pgn_file)\n",
    "    # end\n",
    "\n",
    "    close(pgn_file)\n",
    "    CSV.write(TEST_OUTPUT_FILENAME, all_data)\n",
    "end\n"
   ]
  },
  {
   "cell_type": "markdown",
   "id": "b19b6cb4-a048-42bc-86ab-9d84723ac2dc",
   "metadata": {},
   "source": [
    "## Execution"
   ]
  },
  {
   "cell_type": "code",
   "execution_count": null,
   "id": "0c106ca2-a0d0-4f72-94de-8ef29a606e16",
   "metadata": {},
   "outputs": [],
   "source": [
    "main()"
   ]
  },
  {
   "cell_type": "code",
   "execution_count": null,
   "id": "5ee1c23d-259c-42d3-a0e1-069c81051fd3",
   "metadata": {},
   "outputs": [],
   "source": []
  },
  {
   "cell_type": "code",
   "execution_count": null,
   "id": "b4e104ba-39b8-4b2c-8402-e35d3c0366bf",
   "metadata": {},
   "outputs": [],
   "source": []
  }
 ],
 "metadata": {
  "kernelspec": {
   "display_name": "Julia 1.9.4",
   "language": "julia",
   "name": "julia-1.9"
  },
  "language_info": {
   "file_extension": ".jl",
   "mimetype": "application/julia",
   "name": "julia",
   "version": "1.9.4"
  }
 },
 "nbformat": 4,
 "nbformat_minor": 5
}
