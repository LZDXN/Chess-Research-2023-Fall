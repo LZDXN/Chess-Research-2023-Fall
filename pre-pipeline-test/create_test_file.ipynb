{
 "cells": [
  {
   "cell_type": "code",
   "execution_count": null,
   "id": "e26737a5-59de-4127-b295-08b80064f78b",
   "metadata": {},
   "outputs": [],
   "source": [
    "using PyCall\n",
    "using ProgressMeter\n",
    "\n",
    "@pyimport chess\n",
    "cp = pyimport(\"chess.pgn\")"
   ]
  },
  {
   "cell_type": "code",
   "execution_count": null,
   "id": "06b22c02-de7c-41c0-8772-0b366c5efbdf",
   "metadata": {},
   "outputs": [],
   "source": [
    "# File name of the original decompressed file\n",
    "filename = \"../data/lichess_db_standard_rated_2023-09.pgn\"\n",
    "\n",
    "# Export path\n",
    "export_path = \"./test_exported/\""
   ]
  },
  {
   "cell_type": "code",
   "execution_count": null,
   "id": "0a335b84-57b1-4d73-afc3-799e770e07d0",
   "metadata": {},
   "outputs": [],
   "source": [
    "function write_file(filename::String, game)\n",
    "    \n",
    "    # Check if the file exists\n",
    "    file_mode = isfile(filename) ? \"a\" : \"w\"\n",
    "\n",
    "    # Open the file with appropriate mode\n",
    "    open(filename, file_mode) do new_pgn\n",
    "        # Create an exporter instance\n",
    "        exporter = cp.FileExporter(new_pgn)\n",
    "        \n",
    "        # Use the game.accept method to write the game to the file\n",
    "        game.accept(exporter)\n",
    "    end\n",
    "end\n"
   ]
  },
  {
   "cell_type": "code",
   "execution_count": null,
   "id": "4a9630ab-0f02-4cff-9f92-5e73f496da1e",
   "metadata": {},
   "outputs": [],
   "source": [
    "function create_test_file(source_filename::String, test_filename::String, num_games::Int)\n",
    "    open(source_filename, \"r\") do source_pgn\n",
    "        game_count = 0\n",
    "        game_writing_progress = Progress(num_games; dt=1.0, desc=\"Writing $num_games Games to ...\")\n",
    "        while !eof(source_pgn) && game_count < num_games\n",
    "            game = cp.read_game(source_pgn)\n",
    "            write_file(test_filename, game)\n",
    "            game_count += 1\n",
    "            ProgressMeter.update!(game_writing_progress, game_count)\n",
    "        end\n",
    "    end\n",
    "end\n"
   ]
  },
  {
   "cell_type": "code",
   "execution_count": null,
   "id": "97c905b0-e864-4db0-8b79-988d55049a77",
   "metadata": {},
   "outputs": [],
   "source": [
    "create_test_file(filename, \"test1000.pgn\", 1000)\n",
    "# create_test_file(filename, \"test10000.pgn\", 10000)\n",
    "# create_test_file(filename, \"test100000.pgn\", 100000)"
   ]
  }
 ],
 "metadata": {
  "kernelspec": {
   "display_name": "Julia 1.9.4",
   "language": "julia",
   "name": "julia-1.9"
  },
  "language_info": {
   "file_extension": ".jl",
   "mimetype": "application/julia",
   "name": "julia",
   "version": "1.9.4"
  }
 },
 "nbformat": 4,
 "nbformat_minor": 5
}
